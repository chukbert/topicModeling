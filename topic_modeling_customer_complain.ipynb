{
 "cells": [
  {
   "cell_type": "code",
   "execution_count": 1,
   "metadata": {},
   "outputs": [],
   "source": [
    "import re\n",
    "import numpy as np\n",
    "import pandas as pd\n",
    "from pprint import pprint\n",
    "\n",
    "import gensim\n",
    "import gensim.corpora as corpora\n",
    "from gensim.utils import  simple_preprocess\n",
    "from gensim.models import CoherenceModel\n",
    "\n",
    "import spacy\n",
    "\n",
    "import pyLDAvis\n",
    "import pyLDAvis.gensim_models\n",
    "import matplotlib.pyplot as plt\n",
    "%matplotlib inline\n",
    "\n",
    "import warnings\n",
    "warnings.filterwarnings(\"ignore\", category=DeprecationWarning)"
   ]
  },
  {
   "cell_type": "code",
   "execution_count": 2,
   "metadata": {},
   "outputs": [
    {
     "data": {
      "text/html": [
       "<div>\n",
       "<style scoped>\n",
       "    .dataframe tbody tr th:only-of-type {\n",
       "        vertical-align: middle;\n",
       "    }\n",
       "\n",
       "    .dataframe tbody tr th {\n",
       "        vertical-align: top;\n",
       "    }\n",
       "\n",
       "    .dataframe thead th {\n",
       "        text-align: right;\n",
       "    }\n",
       "</style>\n",
       "<table border=\"1\" class=\"dataframe\">\n",
       "  <thead>\n",
       "    <tr style=\"text-align: right;\">\n",
       "      <th></th>\n",
       "      <th>Consumer complaint narrative</th>\n",
       "      <th>Issue</th>\n",
       "      <th>Product</th>\n",
       "    </tr>\n",
       "  </thead>\n",
       "  <tbody>\n",
       "    <tr>\n",
       "      <th>0</th>\n",
       "      <td>My minimum payment for my Fortiva Retail Credi...</td>\n",
       "      <td>Problem when making payments</td>\n",
       "      <td>Credit card or prepaid card</td>\n",
       "    </tr>\n",
       "    <tr>\n",
       "      <th>1</th>\n",
       "      <td>I HAD MY IDENTITY STOLEN AND SOMEONE CREATED F...</td>\n",
       "      <td>Problem with a credit reporting company's inve...</td>\n",
       "      <td>Credit reporting, credit repair services, or o...</td>\n",
       "    </tr>\n",
       "    <tr>\n",
       "      <th>2</th>\n",
       "      <td>I'm sending this complaint to inform AGAIN the...</td>\n",
       "      <td>Incorrect information on your report</td>\n",
       "      <td>Credit reporting, credit repair services, or o...</td>\n",
       "    </tr>\n",
       "    <tr>\n",
       "      <th>3</th>\n",
       "      <td>IDENTITY THEFT XX/XX/XXXX XXXX XXXX XXXX, XXXX...</td>\n",
       "      <td>Incorrect information on your report</td>\n",
       "      <td>Credit reporting, credit repair services, or o...</td>\n",
       "    </tr>\n",
       "    <tr>\n",
       "      <th>4</th>\n",
       "      <td>I have filed numerous complaints with the 3 cr...</td>\n",
       "      <td>Problem with a credit reporting company's inve...</td>\n",
       "      <td>Credit reporting, credit repair services, or o...</td>\n",
       "    </tr>\n",
       "  </tbody>\n",
       "</table>\n",
       "</div>"
      ],
      "text/plain": [
       "                        Consumer complaint narrative  \\\n",
       "0  My minimum payment for my Fortiva Retail Credi...   \n",
       "1  I HAD MY IDENTITY STOLEN AND SOMEONE CREATED F...   \n",
       "2  I'm sending this complaint to inform AGAIN the...   \n",
       "3  IDENTITY THEFT XX/XX/XXXX XXXX XXXX XXXX, XXXX...   \n",
       "4  I have filed numerous complaints with the 3 cr...   \n",
       "\n",
       "                                               Issue  \\\n",
       "0                       Problem when making payments   \n",
       "1  Problem with a credit reporting company's inve...   \n",
       "2               Incorrect information on your report   \n",
       "3               Incorrect information on your report   \n",
       "4  Problem with a credit reporting company's inve...   \n",
       "\n",
       "                                             Product  \n",
       "0                        Credit card or prepaid card  \n",
       "1  Credit reporting, credit repair services, or o...  \n",
       "2  Credit reporting, credit repair services, or o...  \n",
       "3  Credit reporting, credit repair services, or o...  \n",
       "4  Credit reporting, credit repair services, or o...  "
      ]
     },
     "execution_count": 2,
     "metadata": {},
     "output_type": "execute_result"
    }
   ],
   "source": [
    "# import dataset\n",
    "df = pd.read_csv('cleaned_data.csv')\n",
    "df.head()"
   ]
  },
  {
   "cell_type": "code",
   "execution_count": 3,
   "metadata": {},
   "outputs": [
    {
     "name": "stdout",
     "output_type": "stream",
     "text": [
      "18\n",
      "['Credit card or prepaid card'\n",
      " 'Credit reporting, credit repair services, or other personal consumer reports'\n",
      " 'Debt collection' 'Vehicle loan or lease' 'Checking or savings account'\n",
      " 'Mortgage' 'Money transfer, virtual currency, or money service'\n",
      " 'Payday loan, title loan, or personal loan' 'Student loan'\n",
      " 'Credit reporting' 'Credit card' 'Consumer Loan'\n",
      " 'Bank account or service' 'Money transfers' 'Payday loan' 'Prepaid card'\n",
      " 'Other financial service' 'Virtual currency']\n",
      "157\n",
      "['Problem when making payments'\n",
      " \"Problem with a credit reporting company's investigation into an existing problem\"\n",
      " 'Incorrect information on your report' 'Written notification about debt'\n",
      " 'Struggling to pay your loan' 'Managing an account'\n",
      " 'Problems at the end of the loan or lease'\n",
      " 'Problem with a purchase shown on your statement'\n",
      " 'Improper use of your report' 'Attempts to collect debt not owed'\n",
      " 'Trouble during payment process' 'Opening an account'\n",
      " 'Problem with a lender or other company charging your account'\n",
      " 'Money was not available when promised' 'Struggling to pay mortgage'\n",
      " 'Other transaction problem' 'Communication tactics' 'Closing an account'\n",
      " 'Managing the loan or lease'\n",
      " 'Applying for a mortgage or refinancing an existing mortgage'\n",
      " 'Threatened to contact someone or share information improperly'\n",
      " 'False statements or representation' 'Trouble using your card'\n",
      " 'Struggling to pay your bill'\n",
      " 'Problem with the payoff process at the end of the loan'\n",
      " 'Took or threatened to take negative or legal action'\n",
      " 'Lost or stolen check' 'Getting a credit card'\n",
      " 'Other features, terms, or problems' 'Closing your account'\n",
      " 'Fees or interest' 'Fraud or scam' 'Unexpected or other fees'\n",
      " 'Dealing with your lender or servicer'\n",
      " 'Unable to get your credit report or credit score'\n",
      " 'Credit monitoring or identity theft protection services'\n",
      " 'Problem with fraud alerts or security freezes'\n",
      " 'Confusing or misleading advertising or marketing'\n",
      " 'Problem caused by your funds being low'\n",
      " 'Advertising and marketing, including promotional offers'\n",
      " 'Problem with a purchase or transfer' 'Getting a loan or lease'\n",
      " 'Getting a loan' 'Problem getting a card or closing an account'\n",
      " 'Closing on a mortgage' \"Charged fees or interest you didn't expect\"\n",
      " \"Loan payment wasn't credited to your account\" 'Getting a line of credit'\n",
      " 'Unauthorized transactions or other transaction problem'\n",
      " 'Problem with additional add-on products or services'\n",
      " 'Struggling to repay your loan'\n",
      " 'Identity theft protection or other monitoring services'\n",
      " 'Confusing or missing disclosures'\n",
      " 'Managing, opening, or closing your mobile wallet account'\n",
      " 'Getting the loan' \"Can't stop withdrawals from your bank account\"\n",
      " \"Problem with a company's investigation into an existing issue\"\n",
      " \"Can't contact lender or servicer\" 'Problem with customer service'\n",
      " 'Trouble using the card' 'Other service problem'\n",
      " 'Wrong amount charged or received'\n",
      " \"Was approved for a loan, but didn't receive the money\"\n",
      " 'Lost or stolen money order' 'Excessive fees'\n",
      " 'Money was taken from your bank account on the wrong day or for the wrong amount'\n",
      " \"Received a loan you didn't apply for\" 'Settlement process and costs'\n",
      " 'Advertising' 'Loan servicing, payments, escrow account'\n",
      " \"Cont'd attempts collect debt not owed\"\n",
      " 'Incorrect information on credit report'\n",
      " 'Loan modification,collection,foreclosure'\n",
      " 'Identity theft / Fraud / Embezzlement' 'Problem adding money'\n",
      " 'Balance transfer' 'Disclosure verification of debt'\n",
      " 'Credit card protection / Debt protection' 'Taking out the loan or lease'\n",
      " 'Advertising and marketing' 'Problems when you are unable to pay'\n",
      " 'Dealing with my lender or servicer' 'Rewards' 'Billing disputes'\n",
      " 'Taking/threatening an illegal action'\n",
      " 'Improper contact or sharing of info'\n",
      " \"Credit reporting company's investigation\"\n",
      " 'Vehicle was repossessed or sold the vehicle'\n",
      " 'Closing/Cancelling account' 'Account opening, closing, or management'\n",
      " 'Application, originator, mortgage broker'\n",
      " 'Unable to get credit report/credit score' 'Late fee'\n",
      " 'Improper use of my credit report' 'Using a debit or ATM card'\n",
      " 'Credit decision / Underwriting' 'Shopping for a loan or lease'\n",
      " 'Making/receiving payments, sending money' 'Delinquent account'\n",
      " \"Can't repay my loan\" 'Problems caused by my funds being low'\n",
      " 'Billing statement' \"Can't contact lender\"\n",
      " 'Unsolicited issuance of credit card' 'Deposits and withdrawals'\n",
      " 'APR or interest rate' 'Credit limit changed' 'Other fee' 'Arbitration'\n",
      " 'Bankruptcy' 'Other' \"Can't stop charges to bank account\"\n",
      " \"Charged fees or interest I didn't expect\" 'Other service issues'\n",
      " 'Credit monitoring or identity protection' 'Payment to acct not credited'\n",
      " 'Privacy' 'Fees' 'Incorrect/missing disclosures or info'\n",
      " 'Transaction issue' 'Vehicle was damaged or destroyed the vehicle'\n",
      " \"Received a loan I didn't apply for\" 'Other transaction issues'\n",
      " 'Customer service / Customer relations'\n",
      " 'Managing, opening, or closing account' 'Account terms and changes'\n",
      " 'Application processing delay' 'Problem with cash advance'\n",
      " 'Credit determination' 'Charged bank acct wrong day or amt'\n",
      " 'Advertising, marketing or disclosures' 'Credit line increase/decrease'\n",
      " 'Unauthorized transactions/trans. issues' 'Payoff process'\n",
      " 'Cash advance fee' 'Forbearance / Workout plans'\n",
      " 'Customer service/Customer relations' 'Sale of account'\n",
      " 'Convenience checks' 'Applied for loan/did not receive money'\n",
      " 'Adding money' 'Lender repossessed or sold the vehicle'\n",
      " \"Was approved for a loan, but didn't receive money\" 'Cash advance'\n",
      " 'Problem with overdraft' 'Managing the line of credit' 'Disclosures'\n",
      " 'Incorrect exchange rate' 'Overdraft, savings or rewards features'\n",
      " 'Balance transfer fee' 'Unexpected/Other fees'\n",
      " 'Overdraft, savings, or rewards features' 'Overlimit fee'\n",
      " 'Lender damaged or destroyed vehicle' 'Problem with an overdraft'\n",
      " 'Property was sold' 'Property was damaged or destroyed property']\n"
     ]
    }
   ],
   "source": [
    "# print product type\n",
    "print(df['Product'].nunique())\n",
    "print(df['Product'].unique())\n",
    "\n",
    "# print issue\n",
    "print(df['Issue'].nunique())\n",
    "print(df['Issue'].unique())"
   ]
  },
  {
   "attachments": {},
   "cell_type": "markdown",
   "metadata": {},
   "source": [
    "We expect to have 18 topics"
   ]
  },
  {
   "cell_type": "code",
   "execution_count": 4,
   "metadata": {},
   "outputs": [
    {
     "name": "stdout",
     "output_type": "stream",
     "text": [
      "<class 'pandas.core.frame.DataFrame'>\n",
      "RangeIndex: 400000 entries, 0 to 399999\n",
      "Data columns (total 3 columns):\n",
      " #   Column                        Non-Null Count   Dtype \n",
      "---  ------                        --------------   ----- \n",
      " 0   Consumer complaint narrative  400000 non-null  object\n",
      " 1   Issue                         400000 non-null  object\n",
      " 2   Product                       400000 non-null  object\n",
      "dtypes: object(3)\n",
      "memory usage: 515.9 MB\n"
     ]
    }
   ],
   "source": [
    "df.info(memory_usage=\"deep\")"
   ]
  },
  {
   "cell_type": "code",
   "execution_count": 5,
   "metadata": {},
   "outputs": [],
   "source": [
    "data = df['Consumer complaint narrative'].values.tolist()\n",
    "\n",
    "# Remove senssored words (XX, XXXX, ...)\n",
    "data = [re.sub('X{2,}', '', word) for word in data]\n",
    "\n",
    "# Remove newline and spaces characters\n",
    "data = [re.sub('[\\s\\n]+', ' ', word) for word in data]\n",
    "\n",
    "# Remove distracting slash character\n",
    "data = [re.sub('\\/', '', word) for word in data]"
   ]
  },
  {
   "cell_type": "code",
   "execution_count": 6,
   "metadata": {},
   "outputs": [
    {
     "name": "stdout",
     "output_type": "stream",
     "text": [
      "('This is my 9th attempt to dispute the information in my credit file which '\n",
      " 'resulted from an alleged identity theft. Again, Im sending over an identity '\n",
      " 'theft report # . Pursuant of FCRA section 605B ( a ) ( 1 ) ( 2 ) Credit '\n",
      " 'Bureaus are required to remove any information in my file that resulted from '\n",
      " 'an alleged identity theft, not later than 4 business days after the date of '\n",
      " 'receipt with ( 1 ) appropriate proof of the identity of the consumer ; ( 2 ) '\n",
      " 'a copy of an identity theft report. Please block following items listed. , '\n",
      " 'CA ; , CA , CA , CA Balance Owed : {$7300.00} Balance Owed : {$7.00}, US SM '\n",
      " 'BUS ADMIN Inquiry Date  Inquiry  Inquiry Date  Inquiry Date  Inquiry Date  '\n",
      " 'Inquiry Date  Inquiry Date  Inquiry Date  Inquiry Date  Inquiry Date ')\n"
     ]
    }
   ],
   "source": [
    "import random\n",
    "pprint(data[10000])\n",
    "# pprint(data[random.randint(0,400000)])\n"
   ]
  },
  {
   "cell_type": "code",
   "execution_count": 7,
   "metadata": {},
   "outputs": [],
   "source": [
    "def sent_to_words(sentences):\n",
    "    for sentence in sentences:\n",
    "        yield(gensim.utils.simple_preprocess(str(sentence), deacc=True))  # deacc=True removes punctuations\n",
    "\n",
    "data_words = list(sent_to_words(data))"
   ]
  },
  {
   "cell_type": "code",
   "execution_count": 8,
   "metadata": {},
   "outputs": [
    {
     "name": "stdout",
     "output_type": "stream",
     "text": [
      "['recently', 'reviewed', 'copy', 'of', 'my', 'credit', 'report', 'was', 'shocked', 'to', 'learn', 'that', 'have', 'been', 'victim', 'of', 'identity', 'theft', 'found', 'names', 'on', 'my', 'credit', 'report', 'that', 'are', 'not', 'me', 'this', 'has', 'been', 'hurting', 'me', 'as', 'am', 'in', 'the', 'process', 'of', 'purchasing', 'new', 'home', 'for', 'my', 'family', 'please', 'remove', 'these', 'fraudulent', 'names', 'from', 'my', 'credit', 'report', 'as', 'soon', 'as', 'possible']\n"
     ]
    }
   ],
   "source": [
    "print(data_words[90])"
   ]
  },
  {
   "cell_type": "code",
   "execution_count": 9,
   "metadata": {},
   "outputs": [
    {
     "name": "stderr",
     "output_type": "stream",
     "text": [
      "[nltk_data] Downloading package stopwords to C:\\Users\\chuk\n",
      "[nltk_data]     bert\\AppData\\Roaming\\nltk_data...\n",
      "[nltk_data]   Package stopwords is already up-to-date!\n"
     ]
    },
    {
     "data": {
      "text/plain": [
       "True"
      ]
     },
     "execution_count": 9,
     "metadata": {},
     "output_type": "execute_result"
    }
   ],
   "source": [
    "import nltk\n",
    "from nltk.corpus import stopwords\n",
    "\n",
    "nltk.download('stopwords')"
   ]
  },
  {
   "cell_type": "code",
   "execution_count": 10,
   "metadata": {},
   "outputs": [
    {
     "name": "stdout",
     "output_type": "stream",
     "text": [
      "['i', 'me', 'my', 'myself', 'we', 'our', 'ours', 'ourselves', 'you', \"you're\", \"you've\", \"you'll\", \"you'd\", 'your', 'yours', 'yourself', 'yourselves', 'he', 'him', 'his', 'himself', 'she', \"she's\", 'her', 'hers', 'herself', 'it', \"it's\", 'its', 'itself', 'they', 'them', 'their', 'theirs', 'themselves', 'what', 'which', 'who', 'whom', 'this', 'that', \"that'll\", 'these', 'those', 'am', 'is', 'are', 'was', 'were', 'be', 'been', 'being', 'have', 'has', 'had', 'having', 'do', 'does', 'did', 'doing', 'a', 'an', 'the', 'and', 'but', 'if', 'or', 'because', 'as', 'until', 'while', 'of', 'at', 'by', 'for', 'with', 'about', 'against', 'between', 'into', 'through', 'during', 'before', 'after', 'above', 'below', 'to', 'from', 'up', 'down', 'in', 'out', 'on', 'off', 'over', 'under', 'again', 'further', 'then', 'once', 'here', 'there', 'when', 'where', 'why', 'how', 'all', 'any', 'both', 'each', 'few', 'more', 'most', 'other', 'some', 'such', 'no', 'nor', 'not', 'only', 'own', 'same', 'so', 'than', 'too', 'very', 's', 't', 'can', 'will', 'just', 'don', \"don't\", 'should', \"should've\", 'now', 'd', 'll', 'm', 'o', 're', 've', 'y', 'ain', 'aren', \"aren't\", 'couldn', \"couldn't\", 'didn', \"didn't\", 'doesn', \"doesn't\", 'hadn', \"hadn't\", 'hasn', \"hasn't\", 'haven', \"haven't\", 'isn', \"isn't\", 'ma', 'mightn', \"mightn't\", 'mustn', \"mustn't\", 'needn', \"needn't\", 'shan', \"shan't\", 'shouldn', \"shouldn't\", 'wasn', \"wasn't\", 'weren', \"weren't\", 'won', \"won't\", 'wouldn', \"wouldn't\"]\n"
     ]
    }
   ],
   "source": [
    "stop_words = stopwords.words('english')\n",
    "print(stop_words)"
   ]
  },
  {
   "cell_type": "code",
   "execution_count": 11,
   "metadata": {},
   "outputs": [],
   "source": [
    "stop_words.extend(['th'])"
   ]
  },
  {
   "cell_type": "code",
   "execution_count": null,
   "metadata": {},
   "outputs": [],
   "source": []
  },
  {
   "cell_type": "code",
   "execution_count": 12,
   "metadata": {},
   "outputs": [],
   "source": [
    "# Build the bigram and trigram models\n",
    "bigram = gensim.models.Phrases(data_words, min_count=4, threshold=100) # higher threshold fewer phrases.\n",
    "trigram = gensim.models.Phrases(bigram[data_words], threshold=100)  \n",
    "\n",
    "# Faster way to get a sentence clubbed as a trigram/bigram\n",
    "bigram_mod = gensim.models.phrases.Phraser(bigram)\n",
    "trigram_mod = gensim.models.phrases.Phraser(trigram)"
   ]
  },
  {
   "cell_type": "code",
   "execution_count": 13,
   "metadata": {},
   "outputs": [],
   "source": [
    "def remove_stopwords(texts):\n",
    "    return [[word for word in simple_preprocess(str(doc)) if word not in stop_words] for doc in texts]\n",
    "\n",
    "def make_bigrams(texts):\n",
    "    return [bigram_mod[doc] for doc in texts]\n",
    "\n",
    "def make_trigrams(texts):\n",
    "    return [trigram_mod[bigram_mod[doc]] for doc in texts]\n",
    "\n",
    "# def lemmatization(texts, allowed_postags=['NOUN', 'ADJ', 'VERB', 'ADV']):\n",
    "#     \"\"\"https://spacy.io/api/annotation\"\"\"\n",
    "#     texts_out = []\n",
    "#     for sent in texts:\n",
    "#         doc = nlp(\" \".join(sent)) \n",
    "#         texts_out.append([token.lemma_ for token in doc if token.pos_ in allowed_postags])\n",
    "#     return texts_out\n",
    "\n",
    "# for doc in nlp.pipe(docs, batch_size=32, n_process=3, disable=[\"parser\", \"ner\"]):\n",
    "#     print([tok.lemma_ for tok in doc])\n",
    "    \n",
    "def lemmatization(texts, allowed_postags=['NOUN', 'ADJ', 'VERB', 'ADV']):\n",
    "    for doc in nlp.pipe(texts, batch_size=1000, n_process=-1, disable=[\"parser\", \"ner\"]):\n",
    "        lemmas = [token.lemma_ for token in doc if token.pos_ in allowed_postags]\n",
    "        yield lemmas\n",
    "\n",
    "def list2string(texts):\n",
    "    for doc in texts:\n",
    "        result = ' '.join(doc)\n",
    "        yield result"
   ]
  },
  {
   "cell_type": "code",
   "execution_count": 14,
   "metadata": {},
   "outputs": [],
   "source": [
    "# Remove Stop Words\n",
    "data_words = remove_stopwords(data_words)"
   ]
  },
  {
   "cell_type": "code",
   "execution_count": 15,
   "metadata": {},
   "outputs": [],
   "source": [
    "# Form Bigrams\n",
    "data_words = make_bigrams(data_words)"
   ]
  },
  {
   "cell_type": "code",
   "execution_count": 16,
   "metadata": {},
   "outputs": [],
   "source": [
    "# Form Trigrams\n",
    "data_words = make_trigrams(data_words)"
   ]
  },
  {
   "cell_type": "code",
   "execution_count": 17,
   "metadata": {},
   "outputs": [],
   "source": [
    "# Initialize spacy 'en' model, keeping only tagger component (for efficiency)\n",
    "# python3 -m spacy download en\n",
    "nlp = spacy.load('en_core_web_sm')"
   ]
  },
  {
   "cell_type": "code",
   "execution_count": 18,
   "metadata": {},
   "outputs": [],
   "source": [
    "\n",
    "# Do lemmatization keeping only noun, adj, vb, adv\n",
    "# data_words = lemmatization(data_words, allowed_postags=['NOUN', 'ADJ', 'VERB', 'ADV'])\n",
    "\n",
    "data_words = list(lemmatization(list2string(data_words), allowed_postags=['NOUN', 'ADJ', 'VERB', 'ADV']))"
   ]
  },
  {
   "cell_type": "code",
   "execution_count": 19,
   "metadata": {},
   "outputs": [
    {
     "name": "stdout",
     "output_type": "stream",
     "text": [
      "['identity', 'steal', 'create', 'fraudelunet', 'account', 'name', 'm', 'try', 'buy', 'house', 'notoice', 'bad', 'thing', 'credit', 'get', 'car', 'loan', 'buy', 'house', 'depend', 'collection', 'never', 'hear', 'payment', 'due', 'time', 'person', 'ruin', 'life', 'police', 'report', 'idenity', 'theft']\n"
     ]
    }
   ],
   "source": [
    "print(data_words[1])"
   ]
  },
  {
   "cell_type": "code",
   "execution_count": 20,
   "metadata": {},
   "outputs": [],
   "source": [
    "# Create Dictionary\n",
    "id2word = corpora.Dictionary(data_words)"
   ]
  },
  {
   "cell_type": "code",
   "execution_count": 21,
   "metadata": {},
   "outputs": [],
   "source": [
    "# Term Document Frequency\n",
    "corpus = [id2word.doc2bow(doc) for doc in data_words]"
   ]
  },
  {
   "cell_type": "code",
   "execution_count": 22,
   "metadata": {},
   "outputs": [
    {
     "data": {
      "text/plain": [
       "[[('account', 1),\n",
       "  ('bill', 1),\n",
       "  ('card', 2),\n",
       "  ('complaint', 1),\n",
       "  ('corporate', 1),\n",
       "  ('correct', 1),\n",
       "  ('credit', 2),\n",
       "  ('due', 1),\n",
       "  ('dupe', 1),\n",
       "  ('file', 1),\n",
       "  ('fortiva', 1),\n",
       "  ('fortiva_retail', 2),\n",
       "  ('furniture', 1),\n",
       "  ('go', 2),\n",
       "  ('however', 1),\n",
       "  ('minimum', 8),\n",
       "  ('month', 4),\n",
       "  ('monthly', 5),\n",
       "  ('notcould', 1),\n",
       "  ('office', 1),\n",
       "  ('open', 1),\n",
       "  ('pay', 3),\n",
       "  ('payment', 8),\n",
       "  ('prior', 1),\n",
       "  ('purchase', 2),\n",
       "  ('reduce', 3),\n",
       "  ('representative', 1),\n",
       "  ('sale', 1),\n",
       "  ('say', 2),\n",
       "  ('statement', 2),\n",
       "  ('tell', 1),\n",
       "  ('time', 2)]]"
      ]
     },
     "execution_count": 22,
     "metadata": {},
     "output_type": "execute_result"
    }
   ],
   "source": [
    "# Human readable format of corpus (term-frequency)\n",
    "[[(id2word[id], freq) for id, freq in cp] for cp in corpus[:1]]"
   ]
  },
  {
   "cell_type": "code",
   "execution_count": 23,
   "metadata": {},
   "outputs": [],
   "source": [
    "# Build LDA model\n",
    "lda_model = gensim.models.ldamodel.LdaModel(corpus=corpus,\n",
    "                                           id2word=id2word,\n",
    "                                           num_topics=18, \n",
    "                                           random_state=100,\n",
    "                                           update_every=1,\n",
    "                                           chunksize=100,\n",
    "                                           passes=10,\n",
    "                                           alpha='auto',\n",
    "                                           per_word_topics=True)"
   ]
  },
  {
   "cell_type": "code",
   "execution_count": 24,
   "metadata": {},
   "outputs": [
    {
     "name": "stdout",
     "output_type": "stream",
     "text": [
      "[(0,\n",
      "  '0.081*\"call\" + 0.054*\"tell\" + 0.051*\"get\" + 0.046*\"say\" + 0.033*\"go\" + '\n",
      "  '0.030*\"ask\" + 0.027*\"try\" + 0.027*\"time\" + 0.025*\"never\" + 0.025*\"back\"'),\n",
      " (1,\n",
      "  '0.442*\"account\" + 0.065*\"open\" + 0.062*\"balance\" + 0.057*\"date\" + '\n",
      "  '0.032*\"close\" + 0.024*\"last\" + 0.017*\"status\" + 0.015*\"signature\" + '\n",
      "  '0.011*\"activity\" + 0.011*\"mine\"'),\n",
      " (2,\n",
      "  '0.190*\"report\" + 0.185*\"credit\" + 0.055*\"information\" + 0.048*\"remove\" + '\n",
      "  '0.033*\"inquiry\" + 0.029*\"dispute\" + 0.026*\"inaccurate\" + 0.023*\"reporting\" '\n",
      "  '+ 0.018*\"item\" + 0.018*\"delete\"'),\n",
      " (3,\n",
      "  '0.062*\"law\" + 0.050*\"provide\" + 0.032*\"require\" + 0.032*\"verify\" + '\n",
      "  '0.028*\"violation\" + 0.027*\"proof\" + 0.026*\"act\" + 0.026*\"legal\" + '\n",
      "  '0.026*\"fair\" + 0.025*\"action\"'),\n",
      " (4,\n",
      "  '0.103*\"identity\" + 0.086*\"theft\" + 0.070*\"balance\" + 0.044*\"block\" + '\n",
      "  '0.044*\"item\" + 0.043*\"fraudulent\" + 0.036*\"victim\" + 0.032*\"file\" + '\n",
      "  '0.031*\"information\" + 0.028*\"talk\"'),\n",
      " (5,\n",
      "  '0.135*\"bank\" + 0.113*\"check\" + 0.069*\"money\" + 0.053*\"fund\" + '\n",
      "  '0.046*\"transaction\" + 0.038*\"deposit\" + 0.038*\"transfer\" + 0.026*\"day\" + '\n",
      "  '0.021*\"cash\" + 0.018*\"debit\"'),\n",
      " (6,\n",
      "  '0.126*\"loan\" + 0.055*\"mortgage\" + 0.033*\"home\" + 0.019*\"bankruptcy\" + '\n",
      "  '0.018*\"year\" + 0.015*\"sell\" + 0.015*\"property\" + 0.014*\"apply\" + '\n",
      "  '0.013*\"student\" + 0.013*\"modification\"'),\n",
      " (7,\n",
      "  '0.093*\"send\" + 0.075*\"letter\" + 0.067*\"request\" + 0.055*\"receive\" + '\n",
      "  '0.039*\"dispute\" + 0.039*\"complaint\" + 0.035*\"file\" + 0.032*\"mail\" + '\n",
      "  '0.028*\"state\" + 0.027*\"document\"'),\n",
      " (8,\n",
      "  '0.115*\"pay\" + 0.101*\"charge\" + 0.080*\"fee\" + 0.060*\"amount\" + '\n",
      "  '0.056*\"interest\" + 0.040*\"month\" + 0.038*\"car\" + 0.034*\"insurance\" + '\n",
      "  '0.031*\"balance\" + 0.030*\"rate\"'),\n",
      " (9,\n",
      "  '0.234*\"card\" + 0.214*\"credit\" + 0.068*\"score\" + 0.050*\"charge\" + '\n",
      "  '0.041*\"fraud\" + 0.039*\"use\" + 0.025*\"purchase\" + 0.024*\"apply\" + '\n",
      "  '0.017*\"alert\" + 0.017*\"limit\"'),\n",
      " (10,\n",
      "  '0.225*\"debt\" + 0.126*\"collection\" + 0.070*\"owe\" + 0.038*\"company\" + '\n",
      "  '0.035*\"collect\" + 0.031*\"agency\" + 0.029*\"validation\" + 0.022*\"collector\" + '\n",
      "  '0.022*\"original\" + 0.019*\"creditor\"'),\n",
      " (11,\n",
      "  '0.256*\"number\" + 0.180*\"name\" + 0.133*\"address\" + 0.050*\"security\" + '\n",
      "  '0.048*\"information\" + 0.037*\"social\" + 0.030*\"phone\" + 0.021*\"personal\" + '\n",
      "  '0.019*\"use\" + 0.018*\"paper\"'),\n",
      " (12,\n",
      "  '0.148*\"consumer\" + 0.072*\"information\" + 0.025*\"code\" + 0.021*\"agency\" + '\n",
      "  '0.021*\"consent\" + 0.018*\"violation\" + 0.018*\"past\" + 0.016*\"prove\" + '\n",
      "  '0.015*\"usc\" + 0.015*\"authorization\"'),\n",
      " (13,\n",
      "  '0.026*\"contact\" + 0.024*\"receive\" + 0.021*\"make\" + 0.019*\"issue\" + '\n",
      "  '0.018*\"time\" + 0.018*\"service\" + 0.016*\"email\" + 0.015*\"speak\" + '\n",
      "  '0.013*\"provide\" + 0.012*\"state\"'),\n",
      " (14,\n",
      "  '0.137*\"equifax\" + 0.122*\"chase\" + 0.088*\"hard\" + 0.073*\"acct\" + '\n",
      "  '0.060*\"datum\" + 0.045*\"ignore\" + 0.039*\"unknown\" + 0.037*\"breach\" + '\n",
      "  '0.030*\"hand\" + 0.029*\"day\"'),\n",
      " (15,\n",
      "  '0.378*\"payment\" + 0.119*\"late\" + 0.076*\"make\" + 0.044*\"due\" + 0.043*\"pay\" + '\n",
      "  '0.035*\"day\" + 0.017*\"statement\" + 0.017*\"time\" + 0.016*\"history\" + '\n",
      "  '0.016*\"plan\"'),\n",
      " (16,\n",
      "  '0.091*\"section\" + 0.078*\"reporting\" + 0.075*\"right\" + 0.064*\"state\" + '\n",
      "  '0.063*\"consumer\" + 0.056*\"account\" + 0.050*\"violate\" + 0.045*\"agency\" + '\n",
      "  '0.040*\"fair\" + 0.039*\"privacy\"'),\n",
      " (17,\n",
      "  '0.114*\"party\" + 0.099*\"financial\" + 0.077*\"third\" + 0.054*\"requirement\" + '\n",
      "  '0.044*\"title\" + 0.041*\"public\" + 0.037*\"institution\" + 0.037*\"employer\" + '\n",
      "  '0.034*\"disclose\" + 0.030*\"disclosure\"')]\n"
     ]
    }
   ],
   "source": [
    "# Print the Keyword in the 18 topics\n",
    "pprint(lda_model.print_topics())\n",
    "doc_lda = lda_model[corpus]"
   ]
  },
  {
   "cell_type": "code",
   "execution_count": 25,
   "metadata": {},
   "outputs": [
    {
     "name": "stdout",
     "output_type": "stream",
     "text": [
      "\n",
      "Perplexity:  -9.411563903473326\n"
     ]
    }
   ],
   "source": [
    "# Compute Perplexity\n",
    "print('\\nPerplexity: ', lda_model.log_perplexity(corpus))  # a measure of how good the model is. lower the better.\n",
    "\n",
    "# Compute Coherence Score\n",
    "coherence_model_lda = CoherenceModel(model=lda_model, texts=data_words, dictionary=id2word, coherence='c_v')\n",
    "coherence_lda = coherence_model_lda.get_coherence()\n",
    "print('\\nCoherence Score: ', coherence_lda)"
   ]
  },
  {
   "cell_type": "code",
   "execution_count": null,
   "metadata": {},
   "outputs": [
    {
     "data": {
      "text/html": [
       "\n",
       "<link rel=\"stylesheet\" type=\"text/css\" href=\"https://cdn.jsdelivr.net/gh/bmabey/pyLDAvis@3.4.0/pyLDAvis/js/ldavis.v1.0.0.css\">\n",
       "\n",
       "\n",
       "<div id=\"ldavis_el288424161736149126154173237\" style=\"background-color:white;\"></div>\n",
       "<script type=\"text/javascript\">\n",
       "\n",
       "var ldavis_el288424161736149126154173237_data = {\"mdsDat\": {\"x\": [-0.2455929761453031, -0.1785510354705126, -0.2513757988085445, -0.09214305275176803, 0.0023307829026145126, -0.05066403386984302, -0.11208337658985806, -0.0796968565643049, -0.057549758190043425, 0.026138330465969264, 0.05175820581960612, 0.033485689943006866, -0.03253661179494472, 0.11532123801211827, 0.17021584968181663, 0.21258967920392854, 0.23982116994382052, 0.24853255421224074], \"y\": [-0.18416408912949397, 0.16353657992432985, -0.12300208853421911, -0.1600603410661042, -0.03720609870155187, 0.32196844287330423, -0.012580098291699005, -0.1543189458523644, 0.2748700550057227, 0.040749107638034264, 0.06198131895323599, 0.1174099611339554, -0.06138339408277255, -0.014111501833605686, -0.04812717182071594, -0.05420228815812744, -0.06868080094960095, -0.06267864710832745], \"topics\": [1, 2, 3, 4, 5, 6, 7, 8, 9, 10, 11, 12, 13, 14, 15, 16, 17, 18], \"cluster\": [1, 1, 1, 1, 1, 1, 1, 1, 1, 1, 1, 1, 1, 1, 1, 1, 1, 1], \"Freq\": [19.591064794498557, 17.611871860430394, 12.935754314137663, 7.213120585100463, 6.539247367782315, 6.4776203548847295, 6.415169214726382, 4.982067927277736, 4.013575360060443, 2.5268960275284016, 2.4343944954725774, 2.375923808015264, 2.1268626856511332, 1.5475023604854998, 1.250997596650672, 1.0921079393176512, 0.6638481220665295, 0.20197518591358468]}, \"tinfo\": {\"Term\": [\"account\", \"credit\", \"report\", \"consumer\", \"payment\", \"debt\", \"information\", \"balance\", \"pay\", \"dispute\", \"loan\", \"call\", \"reporting\", \"inquiry\", \"request\", \"day\", \"provide\", \"date\", \"send\", \"collection\", \"check\", \"charge\", \"agency\", \"section\", \"identity\", \"law\", \"make\", \"remove\", \"company\", \"right\", \"call\", \"tell\", \"bank\", \"email\", \"phone\", \"speak\", \"explain\", \"transfer\", \"hold\", \"week\", \"representative\", \"customer\", \"department\", \"hour\", \"wait\", \"answer\", \"online\", \"message\", \"manager\", \"customer_service\", \"supervisor\", \"website\", \"debit\", \"conversation\", \"next\", \"really\", \"decline\", \"branch\", \"banking\", \"withdraw\", \"go\", \"system\", \"money\", \"card\", \"back\", \"way\", \"say\", \"get\", \"return\", \"issue\", \"ask\", \"work\", \"give\", \"time\", \"help\", \"try\", \"use\", \"day\", \"need\", \"contact\", \"take\", \"receive\", \"make\", \"new\", \"number\", \"remove\", \"experian\", \"equifax\", \"bureaus\", \"incorrect\", \"prove\", \"validate\", \"delete\", \"datum\", \"twice\", \"reflect\", \"app\", \"profile\", \"inaccuracy\", \"deletion\", \"promptly\", \"delinquency\", \"federal_trade_commission\", \"package\", \"compliant\", \"unverifiable\", \"bear\", \"correction\", \"hurt\", \"accurate\", \"authorization\", \"permanently\", \"filing\", \"successful\", \"inaccurately\", \"credit\", \"mine\", \"report\", \"dispute\", \"verify\", \"bureau\", \"investigation\", \"fail\", \"correct\", \"item\", \"inaccurate\", \"update\", \"list\", \"information\", \"immediately\", \"belong\", \"score\", \"negative\", \"investigate\", \"file\", \"contract\", \"follow\", \"day\", \"reporting\", \"creditor\", \"need\", \"claim\", \"thing\", \"ago\", \"certify\", \"live\", \"dollar\", \"old\", \"delinquent\", \"else\", \"early\", \"house\", \"fax\", \"valid\", \"effort\", \"paperwork\", \"threaten\", \"effect\", \"hope\", \"idea\", \"alert\", \"future\", \"occasion\", \"united_state\", \"somehow\", \"ruin\", \"various\", \"rectify\", \"anyway\", \"country\", \"sort\", \"never\", \"send\", \"life\", \"respond\", \"company\", \"steal\", \"letter\", \"mail\", \"do\", \"year\", \"well\", \"even\", \"also\", \"show\", \"notify\", \"still\", \"know\", \"receive\", \"happen\", \"address\", \"contact\", \"yet\", \"change\", \"place\", \"several\", \"take\", \"try\", \"state\", \"get\", \"complaint\", \"name\", \"time\", \"file\", \"say\", \"ask\", \"last\", \"response\", \"right\", \"fee\", \"car\", \"interest\", \"refund\", \"agree\", \"payment\", \"miss\", \"vehicle\", \"monthly\", \"refinance\", \"auto\", \"paper\", \"loss\", \"interest_rate\", \"extra\", \"especially\", \"serve\", \"minimum\", \"reduce\", \"pick\", \"refunded\", \"exactly\", \"worth\", \"summon\", \"wire\", \"wish\", \"pay\", \"helpful\", \"charge\", \"exchange\", \"amount\", \"much\", \"actual\", \"statement\", \"month\", \"full\", \"bill\", \"make\", \"due\", \"move\", \"cost\", \"cover\", \"total\", \"less\", \"end\", \"purchase\", \"owe\", \"time\", \"error\", \"apply\", \"add\", \"day\", \"late\", \"chase\", \"set\", \"paypal\", \"active\", \"treat\", \"withdrawal\", \"other\", \"outline\", \"publish\", \"reinvestigate\", \"living\", \"machine\", \"engage\", \"operate\", \"clarification\", \"obvious\", \"co\", \"inconsistent\", \"good_stande\", \"open\", \"advertise\", \"assumption\", \"frca\", \"legit\", \"fourth\", \"timeframe\", \"acquaint\", \"personal_interview\", \"evaluate\", \"account\", \"status\", \"closed\", \"mark\", \"type\", \"number\", \"close\", \"date\", \"name\", \"last\", \"limit\", \"create\", \"activity\", \"show\", \"history\", \"current\", \"end\", \"card\", \"recent\", \"currently\", \"later\", \"different\", \"due\", \"also\", \"furnish\", \"accordance\", \"privacy\", \"incomplete\", \"written_instruction\", \"approval\", \"reseller\", \"crime\", \"specify\", \"define\", \"reasonable_cause\", \"confidentiality\", \"seven_year\", \"person_know\", \"acct_acct\", \"mode\", \"antedate\", \"conviction\", \"adverse_item\", \"conduct_reasonable\", \"contain\", \"fairness_impartiality\", \"grave\", \"determine_whether\", \"subchapter\", \"exclusions_except\", \"usc\", \"section\", \"violate\", \"consumer\", \"right\", \"reporting\", \"agency\", \"relate\", \"fair\", \"act\", \"state\", \"furnisher\", \"purpose\", \"information\", \"also\", \"person\", \"inaccurate\", \"account\", \"record\", \"report\", \"follow\", \"credit\", \"make\", \"item\", \"documentation\", \"allege\", \"form\", \"signature\", \"fcra\", \"evidence\", \"detail\", \"reference\", \"andor\", \"settlement\", \"owner\", \"affidavit\", \"real\", \"fine\", \"bonus\", \"license\", \"behavior\", \"personally\", \"firm\", \"expire\", \"modify\", \"unpaid\", \"wonder\", \"daughter\", \"deem\", \"meeting\", \"deceive\", \"main\", \"pattern\", \"pursue\", \"provide\", \"verification\", \"request\", \"document\", \"receipt\", \"behalf\", \"include\", \"copy\", \"proof\", \"write\", \"sign\", \"support\", \"require\", \"complaint\", \"requirement\", \"note\", \"response\", \"case\", \"original\", \"notice\", \"fact\", \"record\", \"receive\", \"state\", \"regard\", \"attach\", \"letter\", \"loan\", \"mortgage\", \"home\", \"property\", \"sell\", \"modification\", \"approve\", \"job\", \"finance\", \"always\", \"family\", \"lender\", \"escrow\", \"mistake\", \"program\", \"deliver\", \"sale\", \"servicer\", \"llc\", \"principal\", \"outstanding\", \"hardship\", \"screenshot\", \"servicing\", \"honor\", \"increase\", \"cell\", \"denial\", \"lack\", \"veteran\", \"security\", \"application\", \"agent\", \"insurance\", \"plan\", \"current\", \"process\", \"financial\", \"assistance\", \"score\", \"contract\", \"base\", \"correct\", \"due\", \"year\", \"identity\", \"theft\", \"block\", \"victim\", \"hard\", \"alleged\", \"subsection\", \"removal\", \"fall\", \"position\", \"identification\", \"enforcement\", \"government\", \"control\", \"knowingly\", \"lending\", \"insure\", \"permissible_purpose\", \"totally\", \"together\", \"ssn\", \"attached\", \"acceptance\", \"identifie\", \"pertain\", \"clean\", \"wrongfully\", \"world\", \"unlawfully\", \"truly\", \"identify\", \"circumstance\", \"appropriate\", \"provision\", \"result\", \"paragraph\", \"relate\", \"consumer\", \"information\", \"transaction\", \"pursuant\", \"file\", \"agency\", \"fraudulent\", \"business\", \"furnisher\", \"unfair\", \"report\", \"section\", \"know\", \"company\", \"reporting\", \"require\", \"debt\", \"collection\", \"collector\", \"validation\", \"cease\", \"debtor\", \"judgment\", \"describe\", \"entity\", \"national\", \"key\", \"constitute\", \"debts\", \"competent_jurisdiction\", \"collector_obtain\", \"connection\", \"owe\", \"communication\", \"pursuant\", \"settle\", \"billing\", \"communicate\", \"notifie\", \"conduct\", \"agreement\", \"relevant\", \"original\", \"creditor\", \"derogatory\", \"attempt\", \"service\", \"agency\", \"activity\", \"amount\", \"practice\", \"company\", \"demand\", \"name\", \"usc\", \"notice\", \"statement\", \"collect\", \"personal\", \"consent\", \"code\", \"high\", \"income\", \"correspondence\", \"rate\", \"protect\", \"solution\", \"public\", \"maintain\", \"disclose\", \"default\", \"product\", \"share\", \"financial_institution\", \"third_party\", \"relationship\", \"establish\", \"private\", \"surprise\", \"market\", \"automatically\", \"financially\", \"clause\", \"overdraft_fee\", \"truist\", \"cancellation\", \"affiliate\", \"respect\", \"title\", \"rule\", \"permission\", \"knowledge\", \"exercise\", \"obligation\", \"mean\", \"breach\", \"use\", \"give\", \"person\", \"term\", \"information\", \"obtain\", \"write\", \"violation\", \"fdcpa\", \"truth\", \"unverifie\", \"enforce\", \"commit\", \"borrower\", \"issuer\", \"tie\", \"cardholder\", \"equal\", \"prohibit\", \"significant\", \"respa\", \"tila\", \"anxiety\", \"negative_impact\", \"billing_error\", \"misleading_representation\", \"furthermore\", \"ecoa\", \"federal\", \"failure\", \"legal\", \"age\", \"deceptive\", \"action\", \"seek\", \"higher_interest_rate\", \"law\", \"practice\", \"act\", \"fair\", \"require\", \"violate\", \"continue\", \"procedure\", \"meet\", \"creditor\", \"take\", \"ensure\", \"section\", \"reporting\", \"deposit\", \"fund\", \"lease\", \"standard\", \"hand\", \"chat\", \"tracking\", \"certified_mail\", \"data_breach\", \"arrive\", \"taken_advantage\", \"supposedly\", \"direct_deposit\", \"ridiculous\", \"unknown_thing\", \"gives_reason\", \"frozen\", \"payroll\", \"texte\", \"plainly_state\", \"got\", \"depte\", \"alternative\", \"dept_ed\", \"ca\", \"willful_non_compliance\", \"satisfaction\", \"care\", \"release\", \"saving\", \"check\", \"transaction\", \"stress\", \"cash\", \"later\", \"day\", \"feel\", \"litigation\", \"impact\", \"cause\", \"immediately\", \"yet\", \"investigate\", \"response\", \"money\", \"wrong\", \"regard\", \"receive\", \"send\", \"person\", \"due\", \"also\", \"inquiry\", \"accuracy\", \"method\", \"organization\", \"reinvestigation\", \"birth\", \"remind\", \"display\", \"completeness\", \"indirectly\", \"enclosure\", \"trouble\", \"assure_maximum_possible\", \"hesitate\", \"prepare\", \"period_beginne\", \"conduct_reasonable_reinvestigation\", \"punishable\", \"noncompliance\", \"unauthorized\", \"specific\", \"authorize\", \"dear\", \"relevant\", \"erroneous\", \"procedure\", \"free\", \"notifie\", \"personal_identifiable\", \"completion\", \"aware\", \"date\", \"proper\", \"dispute\", \"ensure\", \"paragraph\", \"current\", \"directly\", \"status\", \"file\", \"receive\", \"end\", \"balance\", \"talk\", \"mother\", \"store\", \"supply\", \"learn\", \"delivery\", \"reimburse\", \"desist\", \"favor\", \"eventually\", \"recording\", \"disregard\", \"child\", \"rude\", \"particular\", \"restrict\", \"register\", \"guarantee\", \"strict\", \"equipment\", \"bogus\", \"citizen\", \"game\", \"payable\", \"last_digit\", \"ga_ga\", \"complain\", \"research\", \"original\", \"record\", \"erroneous\", \"owe\", \"creditor\", \"due\", \"fraud\", \"wells_fargo\", \"medical\", \"attachment\", \"fraudulently\", \"simply\", \"unlawful\", \"expense\", \"incident\", \"indeed\", \"ucc\", \"foreclose\", \"weekend\", \"accountable\", \"countless\", \"advice\", \"bond\", \"restore\", \"promissory_note\", \"await\", \"commercial\", \"deception\", \"unsuccessful\", \"fraudulent\", \"responsible\", \"aware\", \"activity\", \"application\", \"release\", \"ally\", \"note\", \"court\", \"bankruptcy\", \"attorney\", \"discharge\", \"condition\", \"employment\", \"connect\", \"legally\", \"health\", \"removed\", \"willfully\", \"refusal\", \"portion\", \"repossession\", \"subsequent\", \"auction\", \"terminate\", \"intent\", \"adequate\", \"currency\", \"compensate\", \"nature\", \"fear\", \"negatively_impacte\", \"redeem\", \"consequence\", \"falsify\", \"malicious\", \"present\", \"refer\", \"seek\", \"erroneous\", \"pende\", \"lead\", \"power\", \"criminal\", \"insist\", \"night\", \"generate\", \"ss\", \"level\", \"accordingly\", \"bounce\", \"quick\", \"apart\", \"called_wells_fargo\", \"region\", \"light\", \"bulb\", \"finalize\", \"morning\", \"approximately\", \"tuesday\", \"printout\", \"overdrawn\", \"recipient\", \"deed\", \"authorized_us\", \"short_sale\", \"reopen\", \"merchant\", \"reality\", \"witness\", \"wife\", \"scam\", \"post\", \"transunion\", \"coinbase\", \"exhibit\"], \"Freq\": [23114.0, 22097.0, 18908.0, 10865.0, 8154.0, 5037.0, 12653.0, 3439.0, 5929.0, 6650.0, 4482.0, 8137.0, 6515.0, 2892.0, 4860.0, 5704.0, 4662.0, 4093.0, 5684.0, 2829.0, 2821.0, 3861.0, 4558.0, 4369.0, 2840.0, 2738.0, 5925.0, 4917.0, 5622.0, 3612.0, 8136.198493075991, 4937.621864741947, 3366.2805481267246, 2629.644149893932, 2421.2989253390333, 1723.6099415048232, 1179.913632836442, 1132.620627897081, 985.4137274289225, 976.5881830063786, 946.4782399048657, 914.9211693609333, 851.0563206305249, 827.2733788289887, 792.8260290250587, 766.6768364448293, 757.5966463966417, 673.0848013218164, 655.6275584603949, 613.9736346328651, 597.5243497593549, 570.8276176750497, 527.4104699575485, 432.96867929722595, 357.1773673129158, 329.1779669129862, 269.78552476647684, 263.21954043182814, 242.34411702214672, 222.15844738620578, 3033.3178549095887, 785.3446570705827, 2831.9417636118756, 4081.174391190157, 2369.6029158873653, 1002.0515117561393, 3153.8875891208136, 3520.3513648842722, 1239.5898180697218, 1725.1686606238372, 1955.0752066915138, 1095.619350403822, 1716.8261546195733, 2704.1920509363376, 1266.4082865284934, 1449.5714920638177, 1599.0526555772606, 2064.668240714495, 1482.5701378844424, 1623.026221735436, 1533.7103824013275, 1945.0235932768062, 1632.5903412902303, 1059.167463136548, 1088.18164177735, 4916.757960718554, 1378.720882725696, 1107.1508016394025, 926.5336165443952, 873.1308065957467, 808.117286261882, 620.9598912765974, 2127.807439937214, 473.4182847388778, 344.10995421045186, 334.019481991031, 321.6355273666885, 308.8893985370255, 257.34478412194454, 248.75561718451058, 243.9848539721288, 188.45895757283557, 174.34966110895724, 170.1806370132928, 161.53078933597124, 150.73536374310626, 148.5275337661549, 145.2711239664238, 139.1638747754462, 973.6715984017587, 409.6677371846387, 132.52018874152216, 127.91248094709931, 127.08931643947706, 126.4812458213396, 21632.876087360226, 534.6772709459574, 17713.523519870392, 6034.215275881309, 1889.4718565533415, 811.3558107254847, 1342.7171619204073, 1085.71329294792, 1571.345552294913, 2085.6629946305197, 2065.145479284071, 1098.8255088815915, 1500.4082114498985, 7895.930323172512, 1471.983806213206, 582.5320835188453, 1158.0573054661045, 614.4677453387064, 753.1003285789296, 2385.0711007343934, 926.0287601829845, 1173.350885392689, 1922.6055431966552, 1809.9008742098229, 913.7343092648483, 805.3383271276335, 2963.961117354153, 635.6300406452057, 590.3536067748286, 505.8788827293858, 463.6870745368839, 457.7069179676782, 440.5178941052023, 406.51242375766435, 357.1765846581424, 337.40737646375425, 329.9120402113154, 292.85509687406505, 290.91354872825576, 268.1530176090948, 258.51208011244154, 245.7539073654609, 239.95865906586454, 217.87068623489245, 209.88030001231837, 357.5318954819262, 170.10886435390944, 142.39742619661294, 119.59458862658491, 98.01863813170172, 96.85064516641596, 94.72122990186597, 82.63626605043575, 76.86390781505553, 74.84338725046398, 73.91404838030742, 3433.065906882361, 5443.57635107303, 338.95118287089576, 1062.6469833798328, 4843.5044580724425, 501.2737141006362, 3636.6097437895537, 1415.3777359807984, 983.363585593714, 1894.4835487217315, 1289.515739148698, 1403.346093645739, 2856.0543448731387, 1705.8268755169204, 728.2004474715987, 1724.508788688677, 1559.642575028735, 3349.651661521343, 675.6507437849201, 1236.171095100394, 1866.446286397768, 657.2282136245774, 722.2842427773063, 849.2226044283642, 778.7493581403793, 1422.9250529326978, 1079.5191444848654, 1502.2152396651982, 1429.7532846838742, 1076.7874534995403, 1023.6967160459028, 1360.894449845398, 1212.152255399253, 1142.1841067220478, 986.7348858474566, 851.0470206192722, 880.038265688757, 903.6069529851657, 1483.6063390041982, 1186.0257922790101, 1034.4132338450504, 831.6696423966199, 677.2684149488373, 8141.26804967776, 615.0694211746603, 577.831056770184, 561.8682245204329, 492.3145320064937, 369.388508839678, 305.846664610683, 278.3197066678172, 206.05777635281078, 181.58252297913126, 162.2100331931034, 150.91695589189135, 139.21478227478158, 133.6116012719678, 124.43209573286568, 120.41758891497498, 96.30016232198368, 88.99553434661021, 87.31275034293434, 85.68567763582503, 84.59697921365638, 5850.240653016369, 74.46577582924255, 3802.6314698377428, 55.90660157056553, 2815.2418511413407, 422.5847842242201, 253.43357774996906, 1362.8470625493749, 1992.3781015842208, 878.1189579916238, 926.0691851288283, 3372.796166367408, 1523.0526121250612, 309.93240365260954, 245.50104623730164, 212.11336084475366, 350.77682210972995, 266.47938417759053, 434.90365602610945, 442.9191677168566, 474.5028165918649, 789.958676678385, 359.77065697665074, 372.04556543601734, 347.87110258923644, 340.6300977978468, 2867.9371937086016, 1274.370960553968, 507.03393830025664, 470.03709523044114, 280.1322019202014, 233.9625428386259, 195.87647391247103, 149.6498791167463, 112.63004211776868, 107.43909969070845, 99.7535333051075, 94.87604617954312, 63.772833148122785, 63.72582715064659, 58.953036761247255, 56.71659687597015, 54.97206691804188, 54.08082336769469, 52.72891761015106, 49.36577519593008, 2956.3001408143796, 41.0157929353185, 40.74280866511284, 38.98848912764205, 30.410852668618293, 24.88062108905208, 23.402793539960747, 22.55297767131478, 22.548494713110596, 21.31310439972485, 21712.218539377485, 968.1348376337583, 472.8909507131355, 166.87379634919048, 454.11079062728015, 2314.719273740048, 1451.6942850921723, 2104.735326460905, 1327.9518032395756, 874.8194786566211, 280.94154246764504, 216.0536353124656, 263.6493984722541, 812.3096700060295, 391.2511081809202, 329.4614327844358, 345.30829965421276, 602.998106398744, 164.98414152292855, 168.11542276488194, 210.8940264038009, 183.28614227986935, 188.68532276291867, 188.58008835776326, 1562.7841666396673, 1107.9445886752928, 1064.2437639209495, 534.412523424132, 493.3123824330683, 286.3090601922993, 282.34137998574323, 217.44259151808268, 208.65543068179758, 166.79562939688213, 162.54375508096098, 132.3787130755434, 121.64875647842297, 118.63549888310204, 112.75583450243117, 94.30474810895156, 88.8412611221378, 87.74093391920721, 86.30643868361715, 55.54133564413882, 468.2768293611359, 49.35426364347506, 46.29219365028778, 27.58919788836501, 99.20519555998185, 17.787345436073526, 1009.093856680084, 3656.83107170954, 1719.1461134132458, 8593.04824789628, 2708.0728063706138, 4301.008314681625, 3033.862535144487, 591.9602724266967, 1081.8519908040632, 975.1689738620202, 1698.6278403845538, 330.21803030334814, 342.1637244031252, 2404.400334859566, 941.291866567904, 495.96546515809695, 578.8774845947083, 1355.8627517724974, 426.34505882750335, 815.5071616772565, 380.72732049844814, 431.5763427163068, 354.2226474012146, 298.2426290998031, 999.4323665725051, 941.7649994141888, 706.998346256592, 662.0533498059256, 539.5025968243626, 522.9838998227096, 461.71233905105345, 409.1066804303236, 306.40904672159314, 249.30629376679144, 246.14766392025618, 230.9143704648912, 196.0599310141067, 171.8570266108464, 154.7914136087983, 139.34504590839398, 138.40476293428807, 127.15431710193461, 126.20690771122699, 119.10603398225498, 100.56466916308185, 91.00893008942707, 71.89873133029482, 70.74462219002784, 63.813817307012116, 59.10248156675671, 55.1272092684793, 55.02049258270668, 52.05423670495588, 51.8658467958464, 4444.892962115166, 792.4407369454491, 4407.896826855557, 2143.8672672415964, 513.5197941215791, 236.9651582905745, 1204.5026693929283, 1275.9182970138472, 1308.0822055731471, 1150.697707805703, 700.7457293345858, 393.87859430929433, 909.7319026846677, 1277.7803679470046, 294.67205180994785, 440.8021982442868, 891.0411636844415, 631.5388195066562, 675.7790750802823, 749.7868329300659, 515.3208135487313, 695.002219125524, 1250.7978468333868, 867.5705406721438, 597.0662662040967, 482.76276364919227, 483.0789745376484, 4481.912273737491, 2166.938785076655, 1401.7732897762812, 782.7567136516999, 753.1598133458231, 542.8155395364356, 528.1241173753214, 511.59812387421925, 435.2112002331723, 410.237665136333, 381.7654651705993, 375.8252721742061, 339.4757771476759, 332.0254087278823, 331.9764965869933, 270.75791462763203, 257.60989188868314, 251.20954825252207, 218.23352672073628, 208.65628201064536, 204.41501021867396, 160.0555681740539, 156.29152966549645, 144.8883769561239, 137.84111534820806, 334.7772134440571, 127.77904603704201, 124.24569294278443, 123.63704532217787, 118.56545246138687, 370.54042516814195, 454.0281854224585, 568.7973689588574, 674.3277358733196, 381.72823197995825, 485.5570281371065, 593.3890546763971, 349.7309064789476, 269.76647633919833, 421.42840040134575, 388.98065090868425, 290.48362673382, 298.4071495200754, 307.69996821345705, 273.45932554505055, 2839.526464776497, 2400.499818857677, 1167.4843459254548, 850.9343001493456, 699.1801198251087, 359.7963262352358, 325.70608625221786, 261.09632922787193, 204.31078846298507, 198.15259876443653, 198.0177607078126, 196.4304013821871, 166.6902264015251, 155.57845835345057, 132.71863323588016, 132.49974958782798, 110.81150737633284, 104.62232542711058, 99.198941349259, 93.29436993040808, 83.36784834069947, 78.39164017152655, 76.52129926934853, 73.77812699573865, 69.34145360823081, 68.61267932947511, 67.92153247966378, 64.01181863119379, 63.557712647432446, 63.26252093859141, 318.1178014850873, 169.06733343246967, 185.90636268048635, 122.03679665433323, 681.1103036253256, 150.40150269016522, 461.4315014262512, 2271.665748985012, 1789.733021186504, 555.9689035474776, 263.25750157888456, 738.650457246784, 655.4036710687751, 409.511210394335, 365.2284940252743, 207.21132329257577, 169.02250911704124, 378.6516071152109, 267.35931963633345, 236.30261294513124, 238.66282660155812, 241.28089241334104, 209.98696230091954, 5035.975339140911, 2828.4828830227884, 557.6754276238007, 495.01311435697676, 202.81181708397418, 176.38181750984037, 165.31197130874813, 164.45031684775302, 142.03664732580884, 109.06221148701785, 82.21760811698455, 119.83003657132316, 27.885641717750914, 9.599147649235078, 7.027338178395737, 85.57057209573496, 822.4220054514692, 291.13368034203677, 328.0940416599478, 135.86218493996614, 97.93534897544994, 128.89533818036307, 24.571512309284948, 91.59750289948627, 198.05887237216285, 31.741441547675972, 493.6820323845821, 702.7686319156437, 116.58267963686362, 376.4711742871949, 314.5500642154458, 826.970225448538, 104.90340696695489, 299.4034059370493, 125.46584556407548, 245.95587974639542, 125.17509686097385, 158.50567908445873, 123.60511044732117, 126.2984658238608, 123.05208141136625, 1081.7962498883257, 1019.5415587050785, 829.9858010789321, 645.7876647336119, 549.0734256022272, 377.3441414243275, 366.7346857684259, 365.11551581808266, 306.31060206759605, 284.1617880808918, 272.26352084231667, 247.05654539327196, 240.21671498693945, 211.47127826755923, 205.1902957243615, 186.86372788124652, 184.94171097270024, 182.64702093418387, 170.07527779885103, 150.05307021152552, 148.03995050556276, 96.91139287594338, 96.75047242422411, 95.47107263952604, 90.80347668845856, 90.15494844443393, 83.75571794531503, 78.8007001637671, 72.85142174758761, 72.32469324206855, 181.68555253684227, 549.1461306769044, 250.0410307900129, 497.3982086007878, 550.4023885112864, 137.74691012838443, 250.37498352758817, 432.41452187787735, 189.2331501509271, 786.2138709978707, 699.5336135690736, 517.7056831001433, 305.96775709736346, 408.9303398490121, 217.53314052594618, 218.51545967572568, 2046.0980638161573, 380.06857959676853, 232.89033066027054, 226.16831419784052, 156.0533363511794, 150.83320916051068, 136.31435321422128, 109.59910396975197, 88.58005263441319, 80.72607867905984, 68.01864650377713, 61.552193122554606, 60.0782725586853, 41.93395882390372, 38.03586744100561, 31.741073095536404, 30.23526221939171, 29.21922169927933, 24.159414766666, 184.40673139618312, 10.967303878562092, 1011.100420828991, 516.293519399759, 866.9498416728951, 116.07724526992116, 197.38713799423363, 896.1575354763, 285.52661593714254, 2.6875493127876555, 1907.8691197483633, 636.0307458773656, 1203.3349322739832, 1170.3660229265256, 366.72273849167965, 429.20060066290347, 301.07952850762484, 107.93976030768555, 114.26199341450841, 227.83428323074654, 247.85454120801748, 103.51574166729098, 207.1172390755876, 162.27363683913728, 849.603735856877, 1501.0356132111483, 304.4610427059394, 243.57772225811087, 206.6396724440231, 148.06194305908753, 137.93377315106017, 133.0215537439965, 124.09657301127812, 123.58250128869872, 111.1406142310835, 94.25868400538303, 79.07689929350657, 77.97532340924045, 65.35251930059384, 61.28587428102179, 57.204978843848345, 55.90680300771797, 37.53568181825777, 30.444175441224605, 29.963724286124638, 27.45392622729794, 27.259716848099195, 19.47069159720226, 18.515221561074924, 18.03702517178865, 12.372927872962526, 428.4442597844123, 243.85320552683336, 347.6154148951374, 2106.46598167859, 1344.2781025390464, 185.79567963685503, 174.02092048418237, 350.8183134542243, 1202.3223331964082, 243.80294582945487, 69.92140410332689, 141.42508825604517, 237.97107962925767, 314.8602309998899, 210.96767681972892, 181.79643946461113, 231.38210325276745, 225.64657434043846, 139.06390940229974, 183.90448922951632, 255.4441603375977, 198.31454127393178, 158.36839573729463, 150.68994330892465, 145.34818729361675, 2891.0226440717647, 519.5590887820288, 333.4084256850935, 149.8542834812983, 122.02586974516737, 95.13820875465441, 85.46374575250789, 85.23350362442352, 77.20688749632077, 73.7378570092507, 62.05494780725806, 56.23061355263091, 46.7685089011945, 43.73141251646501, 33.73926475692919, 31.507550181725932, 30.1446173830982, 28.267210595910765, 25.3872185660984, 642.5389224192849, 304.8628632717678, 873.6571011179907, 85.46451459791726, 65.41600965835478, 217.37971256512816, 164.47725752871557, 133.463842125829, 28.860764666347436, 0.973176144315989, 40.83762999892263, 230.0126656305027, 1277.1589536982474, 91.47477949590856, 521.6132704549236, 65.34706263410904, 54.89155015532149, 85.98392923039279, 69.30522499045325, 64.08689252172853, 75.24345665375274, 72.59541228937651, 58.21507394146645, 3438.125496774604, 576.858698469431, 344.28333202442144, 224.24405820464256, 220.2845254314025, 202.7445669973271, 178.96156360808686, 130.44614331211903, 125.81876021697009, 121.31579752036475, 119.38760961740188, 117.83787402358116, 115.32574275150195, 113.97979994443249, 108.88489273579455, 107.16481333452572, 92.54560471634287, 86.09418863991344, 80.76469212288377, 74.41982956021448, 68.40607337510902, 63.78386826249287, 57.69055147848755, 36.005388234789194, 31.830310449015535, 16.438967465952533, 2.5607156190699776, 122.41782802428774, 62.00792092458114, 378.6047335409218, 401.34324637414784, 83.22026389345096, 174.4086156532191, 123.2223718326709, 121.88541936890013, 1760.828501464572, 616.0194193443663, 548.1553927197134, 389.9721373596223, 334.72977546530984, 180.4148026368635, 139.46401978983087, 135.8003325980412, 126.41645102223274, 102.53018200044788, 101.96367789361531, 76.08303226801543, 63.83343270711289, 60.25612843120745, 57.22983764679444, 55.86165025381127, 52.62582348681129, 49.68637796767969, 38.81002489564348, 36.10873134782166, 34.40874139364917, 30.95563333639216, 30.324530230314277, 1461.2961552220388, 248.4728784498325, 418.8620203369112, 108.75663751116782, 125.0375952034899, 30.524368338768706, 0.05980435196290677, 35.90674961943486, 787.4869698409661, 773.2337841016737, 453.49490103276173, 249.8093461546064, 138.02413419935553, 134.96818389737282, 124.25169534044369, 122.44876214664886, 103.67968669513074, 90.24964701545456, 88.82440834148031, 86.72709955767945, 75.34510011978735, 70.30188928597228, 68.59403703862282, 68.50011742873262, 67.59199869604716, 64.94486673356374, 46.8367729504434, 44.844639450425504, 42.73569871968801, 40.52746371348296, 34.23584627760406, 23.161491861197426, 21.121383548085213, 18.54930992849939, 16.05098814818658, 6.669292212978029, 149.63803861127764, 106.20961657246578, 110.15141581735188, 24.324410156761626, 173.65201546033984, 172.71232370373295, 110.01274833546536, 88.4902013901579, 80.4496232528504, 75.41294599148772, 51.694336392090705, 48.5874480856022, 43.26710736071868, 37.29448087329861, 24.97332971301194, 22.470725822741244, 14.907864467298378, 2.2001655869389336, 0.046212261933026244, 0.04619361243901521, 0.046156145064501934, 0.0461543590635213, 0.04614466993919052, 0.046143452587672044, 0.04613168485632672, 0.04613168485632672, 0.046132844238725275, 0.04613323069952479, 0.046138997246740455, 0.0461316406893782, 0.0461300368770602, 0.0461369352023316, 0.046148103919437675, 0.04612289563357196, 0.04613253230965138, 0.046137114630559944, 0.04613908834107177, 0.04614534900602397, 0.046146075000240205, 0.046133020906519336, 0.04613378830724981], \"Total\": [23114.0, 22097.0, 18908.0, 10865.0, 8154.0, 5037.0, 12653.0, 3439.0, 5929.0, 6650.0, 4482.0, 8137.0, 6515.0, 2892.0, 4860.0, 5704.0, 4662.0, 4093.0, 5684.0, 2829.0, 2821.0, 3861.0, 4558.0, 4369.0, 2840.0, 2738.0, 5925.0, 4917.0, 5622.0, 3612.0, 8137.272285678197, 4938.695657309435, 3367.3543407378747, 2630.7179424958135, 2422.3727179459397, 1724.683734125004, 1180.9874254609492, 1133.6944205531286, 986.4875201602554, 977.6619756144822, 947.5520325125531, 915.9949619929245, 852.1301133271877, 828.3471714223394, 793.8998215788827, 767.750629060277, 758.6704389764571, 674.1585939276631, 656.701351033362, 615.0474271945697, 598.5981424013869, 571.9014103576884, 528.4842625407686, 434.04247190247145, 358.2511599477076, 330.25175952334087, 270.85931775704216, 264.29333298465383, 243.4179097969494, 223.23223995080627, 3181.401193290468, 802.0214708677182, 3060.515751818165, 4685.182431592574, 2733.1557025499187, 1102.3669455325244, 4297.087606722851, 4952.003007961568, 1493.3197734284813, 2322.2508476242124, 3093.3052333408787, 1396.619016498893, 2783.88467597786, 5676.4521593813215, 1863.5232699639175, 2530.1065474080256, 3072.6077843571225, 5704.259770364087, 2825.224174017951, 3865.633061434559, 3399.6045956322914, 6874.342026534872, 5925.765889300275, 1625.3426696316824, 3450.2645438178183, 4917.8260230549195, 1379.788945027622, 1108.2188639372107, 927.6016788366179, 874.1988688952296, 809.1853487378322, 622.0279536159032, 2132.0701633187186, 474.4863471908368, 345.1780167180338, 335.08754431604206, 322.7035899980296, 309.9574608440949, 258.41284639578697, 249.82367950216252, 245.052916388668, 189.52701987339185, 175.41772341279344, 171.24869942071086, 162.59885179227425, 151.81542432207635, 149.59559615306523, 146.3391863156488, 140.2319370792355, 981.291852970349, 412.9671299653937, 133.58825115570656, 128.98054334731168, 128.15737879493497, 127.54930808551087, 22097.635386761136, 544.2585565434888, 18908.57756947224, 6650.532799903566, 2080.0921389211226, 872.8328285246886, 1480.9282447658206, 1227.8630238108722, 1870.760549680492, 2634.402634768212, 2647.788075226562, 1325.931502330527, 1908.112271845941, 12653.23804470785, 1953.631117701322, 669.0222221632756, 1580.493556337644, 720.2961703807233, 935.903813111562, 4769.568723224278, 1316.0172589827203, 2259.665162553206, 5704.259770364087, 6515.293345242633, 2247.4119389567277, 2825.224174017951, 2965.034956592188, 636.7038798001154, 591.4274459317265, 506.95272204535456, 464.76092443023884, 458.7807571392149, 441.59173332616416, 407.5862630103611, 358.2504238678054, 338.4812156422835, 330.9858793757872, 293.92893606317085, 291.98738790977876, 269.22685690420997, 259.58591924574495, 246.82774659908515, 241.0324983736344, 218.94452552881148, 210.95413914339727, 359.37427778264765, 171.18270365237964, 143.47126536660204, 120.66842803933403, 99.09247736516461, 97.92448430169006, 95.79506921446432, 83.71010559875629, 77.93774698951397, 75.91722642667881, 74.98788763068843, 3532.2451840520457, 5684.770590686863, 348.24016020028256, 1142.627186495334, 5622.312047708433, 536.548197034774, 4372.460656414905, 1651.2082946483652, 1134.5278000589078, 2466.728099099758, 1656.1939233872467, 1954.1886924432931, 4810.312269903821, 2607.728293279866, 929.0905498332884, 2704.627189353052, 2420.824146185755, 6874.342026534872, 889.6136188639124, 2108.6177124211804, 3865.633061434559, 870.8775579004971, 1002.7785643584702, 1277.2520584521017, 1176.619151507725, 3399.6045956322914, 2530.1065474080256, 4990.47617546315, 4952.003007961568, 2755.6915308907514, 2621.491674273459, 5676.4521593813215, 4769.568723224278, 4297.087606722851, 3093.3052333408787, 1726.8764798474524, 2036.2517607199632, 3612.649559573752, 1484.678254764842, 1187.0977080257417, 1035.4851497163975, 832.74155816631, 678.3403307619712, 8154.732039861649, 616.1413369616864, 578.9029725655117, 562.9401402744782, 493.38644777968545, 370.4604246777316, 306.918580454492, 279.3916226096424, 207.1296921502349, 182.6544387379282, 163.2819491599317, 151.98887184624644, 140.28669806897415, 134.68351703671453, 125.50401149397815, 121.4895047151645, 97.37207827716011, 90.06745017875974, 88.3846662790154, 86.75759340489354, 85.66889509982992, 5929.672467966689, 75.53769172700828, 3861.3721074156147, 56.97851740704967, 3223.905423763721, 457.93869563355366, 274.1409665956348, 1651.592319284524, 2859.6364338638473, 1166.8077396623428, 1307.8592902931077, 5925.765889300275, 2920.2734351659324, 399.2538858643962, 308.3514585550966, 254.0528930547956, 573.6718543681221, 395.5256459925178, 1096.5958071259965, 1195.6979280161577, 1472.2898762301863, 5676.4521593813215, 908.7776515318593, 1088.9471319798395, 948.5123769521617, 5704.259770364087, 2869.0050560082814, 1275.4388228492403, 508.1018006745172, 471.1049574638249, 281.2000643081623, 235.03040523301394, 196.9443362708692, 150.71774151604595, 113.69790459957049, 108.50696219008881, 100.82139590291007, 95.94390861030418, 64.840695929762, 64.79368967284672, 60.020899438062635, 57.78445984031971, 56.039929473796235, 55.14868597569439, 53.79677995745875, 50.433637579143856, 3032.7639515944375, 42.0836552511291, 41.81067126098817, 40.056351388768675, 31.47871499134756, 25.94848338832331, 24.47065602138926, 23.620841648334675, 23.616358690130493, 22.3809669368748, 23114.647902848243, 1033.2229890106728, 506.915992144479, 189.25220196421984, 550.6371734707449, 3450.2645438178183, 2322.971375858683, 4093.4147760307087, 2621.491674273459, 1726.8764798474524, 427.22356976465676, 358.3798118716457, 478.26832270323604, 2607.728293279866, 930.266280761051, 901.943434501877, 1096.5958071259965, 4685.182431592574, 321.8242777781319, 438.8826585031777, 955.8980788642032, 823.2715138778408, 2920.2734351659324, 4810.312269903821, 1563.81184851828, 1108.972270593598, 1065.271445780711, 535.440205418122, 494.34006423561465, 287.3367424755226, 283.369061826484, 218.47027345516958, 209.68311271413535, 167.8233114342253, 163.5714368887948, 133.40639488630768, 122.67643835130893, 119.66318068564836, 113.78351740435347, 95.33242999934558, 89.8689429246841, 88.76861572175352, 87.33412048616346, 56.569017678360304, 476.9488045337582, 50.38194548531196, 47.31987553034199, 28.616879816791425, 103.19902770567894, 18.815027309691867, 1137.8753281907882, 4369.524163213808, 2149.3087422710173, 10865.6729362765, 3612.649559573752, 6515.293345242633, 4558.017522837109, 1054.3507133027304, 2265.079030982607, 2179.465934329145, 4990.47617546315, 538.3882930074283, 598.1163215036087, 12653.23804470785, 4810.312269903821, 1774.1716739485623, 2647.788075226562, 23114.647902848243, 2004.3304549228899, 18908.57756947224, 2259.665162553206, 22097.635386761136, 5925.765889300275, 2634.402634768212, 1000.5051495851554, 942.837782452623, 708.0711292938703, 663.1261328286733, 540.5753798987421, 524.0566828495258, 462.78512210809015, 410.1794634675571, 307.4818298757167, 250.37907680547661, 247.2204470754314, 231.98715353203278, 197.1327142664366, 172.92980976860233, 155.86419661538199, 140.41782887564048, 139.4775460669157, 128.2271002695255, 127.27969076735849, 120.17881702088148, 101.63745226795243, 92.08171319365991, 72.97151463176498, 71.81740520273398, 64.88660047332435, 60.17526476053808, 56.199992659615276, 56.09327563278141, 53.12701981754808, 52.93862989610245, 4662.282597343425, 823.5332335383749, 4860.782537971084, 2342.924377905354, 580.1657787700601, 264.3372362552281, 1542.6383110630238, 1698.8837978359916, 1816.249790507541, 1684.126569084743, 956.6698898334137, 521.1321072576064, 1660.4733629565437, 2755.6915308907514, 389.52942116685335, 684.5728332596698, 2036.2517607199632, 1336.6880284897027, 1559.5179234979682, 1935.428610912328, 1047.3267302485406, 2004.3304549228899, 6874.342026534872, 4990.47617546315, 1856.309627541695, 1310.0818439483835, 4372.460656414905, 4482.98378007738, 2168.010291384517, 1402.844796157414, 783.8282200302783, 754.2313197886822, 543.8870458616542, 529.1956239312066, 512.6696302648505, 436.28270667606466, 411.3091715702998, 382.83697156013733, 376.89677848969274, 340.54728345784, 333.09691517614476, 333.04800297922276, 271.82942127742035, 258.6813983109259, 252.2810545531898, 219.3050331833436, 209.72778837041338, 205.48651663293842, 161.12707456100182, 157.36303615826154, 145.95988326431362, 138.91262221579197, 337.50306629802765, 128.85055244565964, 125.31719936007015, 124.70855182673623, 119.63695882477754, 418.4376135093125, 580.0776880912181, 785.1880595304641, 1089.7240262879611, 530.362968057572, 901.943434501877, 1372.525995427326, 609.3474569076482, 403.4190030666716, 1580.493556337644, 1316.0172589827203, 556.0796761397145, 1870.760549680492, 2920.2734351659324, 2466.728099099758, 2840.5894430901167, 2401.5627971712966, 1168.5473242449737, 851.9972784870988, 700.2430982786481, 360.8593046470226, 326.769064619379, 262.1593077274025, 205.3737671598529, 199.21557752366297, 199.08073913606637, 197.49337976348295, 167.75320487536138, 156.6414368827242, 133.78161190701385, 133.56272807510507, 111.87448581363502, 105.6853038410052, 100.26191987325146, 94.35734866553314, 84.43082674132123, 79.45461877077182, 77.58427778426145, 74.84110526584503, 70.40443197263168, 69.67565791742562, 68.9845113832452, 65.07479706827856, 64.62069130384464, 64.32549960404555, 371.5078947162612, 196.83436664326706, 234.5455482938516, 141.75875972366651, 1517.0436398762743, 206.28942769700387, 1054.3507133027304, 10865.6729362765, 12653.23804470785, 1948.7345975877554, 592.3651379864223, 4769.568723224278, 4558.017522837109, 1871.8107450214075, 1485.9095041387664, 538.3882930074283, 310.35075309245633, 18908.57756947224, 4369.524163213808, 2420.824146185755, 5622.312047708433, 6515.293345242633, 1660.4733629565437, 5037.057676333767, 2829.565220237433, 558.7577647937692, 496.0954515587784, 203.8941543540172, 177.46415470358485, 166.3943085670382, 165.5326544730306, 143.11898490792277, 110.14454877205416, 83.29994543126969, 121.81850741846401, 28.96797910830381, 10.681484824287038, 8.109675460841112, 127.75558846591893, 1472.2898762301863, 522.6393846844006, 592.3651379864223, 251.6668969483629, 194.3628421970759, 267.019898173766, 54.44801071627433, 275.5723589174187, 596.6666480366958, 98.17318539087171, 1559.5179234979682, 2247.4119389567277, 412.88754921682056, 1423.7663304855603, 1446.2889556759806, 4558.017522837109, 478.26832270323604, 3223.905423763721, 932.2803404956868, 5622.312047708433, 933.0811520412378, 2621.491674273459, 1137.8753281907882, 1935.428610912328, 1651.592319284524, 1082.862419900266, 1020.6077287085269, 831.0519710483644, 646.8540427379638, 550.1395956179318, 378.4103114275216, 367.80085585490485, 366.1816857751556, 307.3767721205545, 285.22795814827214, 273.3296908375884, 248.12271560849393, 241.28288495710024, 212.53744825771653, 206.2564656922221, 187.92989784309063, 186.0078809485458, 183.713190892598, 171.1414478330407, 151.119240186173, 149.10612049969853, 97.97756297514618, 97.8166425236716, 96.53724273701648, 91.86964679658259, 91.22111849185467, 84.8218879571693, 79.86687009592765, 73.91759168319884, 73.39086315714138, 184.74081269688452, 574.5838426029428, 258.47398476166313, 526.7340243339916, 672.7536737899147, 157.80929541905942, 344.5959636608451, 782.3236707648024, 269.56385844779504, 3072.6077843571225, 2783.88467597786, 1774.1716739485623, 705.116561597367, 12653.23804470785, 927.5078248783301, 1684.126569084743, 2047.1641309864817, 381.13464676342306, 233.9563978990608, 227.23438134712623, 157.11940364386322, 151.89927648575832, 137.3804203592345, 110.66517123167606, 89.64611994292193, 81.79214595520699, 69.08471388529503, 62.61826032455815, 61.14433976728358, 43.000026408813255, 39.101935232553004, 32.807143254363154, 31.301329432117335, 30.285288835088718, 25.225481879772136, 193.11073215238355, 12.033371033531306, 1121.5097919750388, 630.580697705314, 1074.4790303446505, 143.95359315596932, 248.59251473428816, 1238.6016091248105, 396.6874552317162, 3.753616448031993, 2738.0161711729825, 932.2803404956868, 2179.465934329145, 2265.079030982607, 1660.4733629565437, 2149.3087422710173, 1491.6211305626368, 273.4164815693861, 346.0906780013031, 2247.4119389567277, 3399.6045956322914, 310.7390151602079, 4369.524163213808, 6515.293345242633, 850.6744394608378, 1505.501484038504, 305.5317463026876, 244.64842615708932, 207.71037618095616, 149.13264666331327, 139.00447678750874, 134.09225758252694, 125.16727688153554, 124.65320507308616, 112.21131779602567, 95.32938762729748, 80.14760285700679, 79.04602707776598, 66.423222813513, 62.356577793940964, 58.2756824941736, 56.97750656953525, 38.606385421683136, 31.514878954143775, 31.034427805205254, 28.524630215750086, 28.330420636809116, 20.54139516933116, 19.58592690785481, 19.10772908117403, 13.443631916538164, 479.2806838978291, 275.38867861947443, 398.00027994046934, 2821.41104724603, 1948.7345975877554, 243.1478694898106, 352.8312129929206, 955.8980788642032, 5704.259770364087, 681.3065188465508, 118.26954737829958, 368.63607340656023, 1044.4027192364479, 1953.631117701322, 870.8775579004971, 935.903813111562, 2036.2517607199632, 3060.515751818165, 644.2389563530555, 1856.309627541695, 6874.342026534872, 5684.770590686863, 1774.1716739485623, 2920.2734351659324, 4810.312269903821, 2892.087761435753, 520.6242061982915, 334.47354312635724, 150.91940095256695, 123.09098709790081, 96.20332621423697, 86.52886348845053, 86.29862122939238, 78.27200492099405, 74.8029745170466, 63.12006521924514, 57.29573136258073, 47.83362629720928, 44.796530589595626, 34.80438219322814, 32.572667528864464, 31.20973473451114, 29.33232820313232, 26.452335980047117, 675.9309930921361, 346.7463143001703, 1000.9070912050557, 121.54794673179799, 98.17318539087171, 352.4764259597712, 273.4164815693861, 236.0538409995588, 54.44801071627433, 2.0382935228269643, 97.13346199767456, 649.8802045675193, 4093.4147760307087, 350.77319845129654, 6650.532799903566, 310.7390151602079, 206.28942769700387, 901.943434501877, 725.6017522099963, 1033.2229890106728, 4769.568723224278, 6874.342026534872, 1096.5958071259965, 3439.191124061019, 577.9243257699967, 345.34895936781805, 225.30968552185865, 221.35015280914297, 203.81019434301007, 180.0271910348185, 131.51177076443392, 126.88438764569334, 122.38142497082255, 120.45323700455273, 118.90350160895122, 116.39137012645384, 115.0454272726886, 109.95052002395201, 108.23044091397226, 93.61123203772969, 87.159815977288, 81.83031959427139, 75.48545705693559, 69.47170063185486, 64.84949567291623, 58.75617879471964, 37.07101556513835, 32.89593797497572, 17.504594920314673, 3.6263428546610936, 225.90056714072531, 250.33443614869242, 1559.5179234979682, 2004.3304549228899, 352.4764259597712, 1472.2898762301863, 2247.4119389567277, 2920.2734351659324, 1761.9006234338376, 617.09154120551, 549.2275146769546, 391.04425943201716, 335.8018973728585, 181.48692460003303, 140.5361418987564, 136.87245460924592, 127.4885729523537, 103.60230439451746, 103.03580019580068, 77.15515428535305, 64.90555469579904, 61.32825049972994, 58.3019596545432, 56.93377232418698, 53.69794590884105, 50.75849990497014, 39.88214687309433, 37.180853826640025, 35.48086375765202, 32.02775543276393, 31.396652183591787, 1871.8107450214075, 324.8766543278839, 649.8802045675193, 478.26832270323604, 580.0776880912181, 275.38867861947443, 1.1324440879869557, 684.5728332596698, 788.5620468996431, 774.3088610964135, 454.56997810393773, 250.88442315780333, 139.0992113562477, 136.043260976829, 125.32677250164944, 123.5238391838057, 104.75476373719614, 91.32472404880674, 89.89948576092418, 87.80217676724162, 76.42017725615244, 71.37696631125176, 69.66911437352107, 69.57519445092025, 68.66707583903988, 66.0199439766595, 47.911850172343364, 45.919716502055884, 43.810776080812474, 41.60254084070837, 35.31092364473662, 24.23656890238369, 22.196460672395492, 19.624386953374266, 17.126065229296305, 7.7443693428918365, 233.41213037715633, 203.30172388997977, 396.6874552317162, 352.4764259597712, 174.7376269560416, 173.79793530187632, 111.09835983314737, 89.57581297611256, 81.53523475816132, 76.49855748858558, 52.77994786227777, 49.67305957080308, 44.3527188905945, 38.38009268359637, 26.05894116815391, 23.556337347534505, 15.993476143112833, 3.285777108271634, 1.1319902583752885, 1.1320623663261526, 1.131869844902314, 1.1319002311044295, 1.1320387800819522, 1.1320566127209661, 1.1317713817643886, 1.1317993813297058, 1.131837056212494, 1.1318924076163157, 1.1320475051574164, 1.1318807528335058, 1.1318524554435663, 1.132042675508293, 1.132377320928825, 1.1317774491035268, 1.132019802028029, 1.132176678376996, 1.132329390321182, 1.1328023324621916, 1.1341521234043672, 1.1320434972484004, 1.1326092655457045], \"Category\": [\"Default\", \"Default\", \"Default\", \"Default\", \"Default\", \"Default\", \"Default\", \"Default\", \"Default\", \"Default\", \"Default\", \"Default\", \"Default\", \"Default\", \"Default\", \"Default\", \"Default\", \"Default\", \"Default\", \"Default\", \"Default\", \"Default\", \"Default\", \"Default\", \"Default\", \"Default\", \"Default\", \"Default\", \"Default\", \"Default\", \"Topic1\", \"Topic1\", \"Topic1\", \"Topic1\", \"Topic1\", \"Topic1\", \"Topic1\", \"Topic1\", \"Topic1\", \"Topic1\", \"Topic1\", \"Topic1\", \"Topic1\", \"Topic1\", \"Topic1\", \"Topic1\", \"Topic1\", \"Topic1\", \"Topic1\", \"Topic1\", \"Topic1\", \"Topic1\", \"Topic1\", \"Topic1\", \"Topic1\", \"Topic1\", \"Topic1\", \"Topic1\", \"Topic1\", \"Topic1\", \"Topic1\", \"Topic1\", \"Topic1\", \"Topic1\", \"Topic1\", \"Topic1\", \"Topic1\", \"Topic1\", \"Topic1\", \"Topic1\", \"Topic1\", \"Topic1\", \"Topic1\", \"Topic1\", \"Topic1\", \"Topic1\", \"Topic1\", \"Topic1\", \"Topic1\", \"Topic1\", \"Topic1\", \"Topic1\", \"Topic1\", \"Topic1\", \"Topic1\", \"Topic2\", \"Topic2\", \"Topic2\", \"Topic2\", \"Topic2\", \"Topic2\", \"Topic2\", \"Topic2\", \"Topic2\", \"Topic2\", \"Topic2\", \"Topic2\", \"Topic2\", \"Topic2\", \"Topic2\", \"Topic2\", \"Topic2\", \"Topic2\", \"Topic2\", \"Topic2\", \"Topic2\", \"Topic2\", \"Topic2\", \"Topic2\", \"Topic2\", \"Topic2\", \"Topic2\", \"Topic2\", \"Topic2\", \"Topic2\", \"Topic2\", \"Topic2\", \"Topic2\", \"Topic2\", \"Topic2\", \"Topic2\", \"Topic2\", \"Topic2\", \"Topic2\", \"Topic2\", \"Topic2\", \"Topic2\", \"Topic2\", \"Topic2\", \"Topic2\", \"Topic2\", \"Topic2\", \"Topic2\", \"Topic2\", \"Topic2\", \"Topic2\", \"Topic2\", \"Topic2\", \"Topic2\", \"Topic2\", \"Topic2\", \"Topic3\", \"Topic3\", \"Topic3\", \"Topic3\", \"Topic3\", \"Topic3\", \"Topic3\", \"Topic3\", \"Topic3\", \"Topic3\", \"Topic3\", \"Topic3\", \"Topic3\", \"Topic3\", \"Topic3\", \"Topic3\", \"Topic3\", \"Topic3\", \"Topic3\", \"Topic3\", \"Topic3\", \"Topic3\", \"Topic3\", \"Topic3\", \"Topic3\", \"Topic3\", \"Topic3\", \"Topic3\", \"Topic3\", \"Topic3\", \"Topic3\", \"Topic3\", \"Topic3\", \"Topic3\", \"Topic3\", \"Topic3\", \"Topic3\", \"Topic3\", \"Topic3\", \"Topic3\", \"Topic3\", \"Topic3\", \"Topic3\", \"Topic3\", \"Topic3\", \"Topic3\", \"Topic3\", \"Topic3\", \"Topic3\", \"Topic3\", \"Topic3\", \"Topic3\", \"Topic3\", \"Topic3\", \"Topic3\", \"Topic3\", \"Topic3\", \"Topic3\", \"Topic3\", \"Topic3\", \"Topic3\", \"Topic3\", \"Topic3\", \"Topic3\", \"Topic3\", \"Topic3\", \"Topic3\", \"Topic3\", \"Topic4\", \"Topic4\", \"Topic4\", \"Topic4\", \"Topic4\", \"Topic4\", \"Topic4\", \"Topic4\", \"Topic4\", \"Topic4\", \"Topic4\", \"Topic4\", \"Topic4\", \"Topic4\", \"Topic4\", \"Topic4\", \"Topic4\", \"Topic4\", \"Topic4\", \"Topic4\", \"Topic4\", \"Topic4\", \"Topic4\", \"Topic4\", \"Topic4\", \"Topic4\", \"Topic4\", \"Topic4\", \"Topic4\", \"Topic4\", \"Topic4\", \"Topic4\", \"Topic4\", \"Topic4\", \"Topic4\", \"Topic4\", \"Topic4\", \"Topic4\", \"Topic4\", \"Topic4\", \"Topic4\", \"Topic4\", \"Topic4\", \"Topic4\", \"Topic4\", \"Topic4\", \"Topic4\", \"Topic4\", \"Topic4\", \"Topic4\", \"Topic4\", \"Topic4\", \"Topic5\", \"Topic5\", \"Topic5\", \"Topic5\", \"Topic5\", \"Topic5\", \"Topic5\", \"Topic5\", \"Topic5\", \"Topic5\", \"Topic5\", \"Topic5\", \"Topic5\", \"Topic5\", \"Topic5\", \"Topic5\", \"Topic5\", \"Topic5\", \"Topic5\", \"Topic5\", \"Topic5\", \"Topic5\", \"Topic5\", \"Topic5\", \"Topic5\", \"Topic5\", \"Topic5\", \"Topic5\", \"Topic5\", \"Topic5\", \"Topic5\", \"Topic5\", \"Topic5\", \"Topic5\", \"Topic5\", \"Topic5\", \"Topic5\", \"Topic5\", \"Topic5\", \"Topic5\", \"Topic5\", \"Topic5\", \"Topic5\", \"Topic5\", \"Topic5\", \"Topic5\", \"Topic5\", \"Topic5\", \"Topic5\", \"Topic5\", \"Topic5\", \"Topic5\", \"Topic5\", \"Topic5\", \"Topic6\", \"Topic6\", \"Topic6\", \"Topic6\", \"Topic6\", \"Topic6\", \"Topic6\", \"Topic6\", \"Topic6\", \"Topic6\", \"Topic6\", \"Topic6\", \"Topic6\", \"Topic6\", \"Topic6\", \"Topic6\", \"Topic6\", \"Topic6\", \"Topic6\", \"Topic6\", \"Topic6\", \"Topic6\", \"Topic6\", \"Topic6\", \"Topic6\", \"Topic6\", \"Topic6\", \"Topic6\", \"Topic6\", \"Topic6\", \"Topic6\", \"Topic6\", \"Topic6\", \"Topic6\", \"Topic6\", \"Topic6\", \"Topic6\", \"Topic6\", \"Topic6\", \"Topic6\", \"Topic6\", \"Topic6\", \"Topic6\", \"Topic6\", \"Topic6\", \"Topic6\", \"Topic6\", \"Topic6\", \"Topic6\", \"Topic6\", \"Topic7\", \"Topic7\", \"Topic7\", \"Topic7\", \"Topic7\", \"Topic7\", \"Topic7\", \"Topic7\", \"Topic7\", \"Topic7\", \"Topic7\", \"Topic7\", \"Topic7\", \"Topic7\", \"Topic7\", \"Topic7\", \"Topic7\", \"Topic7\", \"Topic7\", \"Topic7\", \"Topic7\", \"Topic7\", \"Topic7\", \"Topic7\", \"Topic7\", \"Topic7\", \"Topic7\", \"Topic7\", \"Topic7\", \"Topic7\", \"Topic7\", \"Topic7\", \"Topic7\", \"Topic7\", \"Topic7\", \"Topic7\", \"Topic7\", \"Topic7\", \"Topic7\", \"Topic7\", \"Topic7\", \"Topic7\", \"Topic7\", \"Topic7\", \"Topic7\", \"Topic7\", \"Topic7\", \"Topic7\", \"Topic7\", \"Topic7\", \"Topic7\", \"Topic7\", \"Topic7\", \"Topic7\", \"Topic7\", \"Topic7\", \"Topic7\", \"Topic8\", \"Topic8\", \"Topic8\", \"Topic8\", \"Topic8\", \"Topic8\", \"Topic8\", \"Topic8\", \"Topic8\", \"Topic8\", \"Topic8\", \"Topic8\", \"Topic8\", \"Topic8\", \"Topic8\", \"Topic8\", \"Topic8\", \"Topic8\", \"Topic8\", \"Topic8\", \"Topic8\", \"Topic8\", \"Topic8\", \"Topic8\", \"Topic8\", \"Topic8\", \"Topic8\", \"Topic8\", \"Topic8\", \"Topic8\", \"Topic8\", \"Topic8\", \"Topic8\", \"Topic8\", \"Topic8\", \"Topic8\", \"Topic8\", \"Topic8\", \"Topic8\", \"Topic8\", \"Topic8\", \"Topic8\", \"Topic8\", \"Topic8\", \"Topic8\", \"Topic9\", \"Topic9\", \"Topic9\", \"Topic9\", \"Topic9\", \"Topic9\", \"Topic9\", \"Topic9\", \"Topic9\", \"Topic9\", \"Topic9\", \"Topic9\", \"Topic9\", \"Topic9\", \"Topic9\", \"Topic9\", \"Topic9\", \"Topic9\", \"Topic9\", \"Topic9\", \"Topic9\", \"Topic9\", \"Topic9\", \"Topic9\", \"Topic9\", \"Topic9\", \"Topic9\", \"Topic9\", \"Topic9\", \"Topic9\", \"Topic9\", \"Topic9\", \"Topic9\", \"Topic9\", \"Topic9\", \"Topic9\", \"Topic9\", \"Topic9\", \"Topic9\", \"Topic9\", \"Topic9\", \"Topic9\", \"Topic9\", \"Topic9\", \"Topic9\", \"Topic9\", \"Topic9\", \"Topic9\", \"Topic9\", \"Topic9\", \"Topic9\", \"Topic9\", \"Topic9\", \"Topic10\", \"Topic10\", \"Topic10\", \"Topic10\", \"Topic10\", \"Topic10\", \"Topic10\", \"Topic10\", \"Topic10\", \"Topic10\", \"Topic10\", \"Topic10\", \"Topic10\", \"Topic10\", \"Topic10\", \"Topic10\", \"Topic10\", \"Topic10\", \"Topic10\", \"Topic10\", \"Topic10\", \"Topic10\", \"Topic10\", \"Topic10\", \"Topic10\", \"Topic10\", \"Topic10\", \"Topic10\", \"Topic10\", \"Topic10\", \"Topic10\", \"Topic10\", \"Topic10\", \"Topic10\", \"Topic10\", \"Topic10\", \"Topic10\", \"Topic10\", \"Topic10\", \"Topic10\", \"Topic10\", \"Topic11\", \"Topic11\", \"Topic11\", \"Topic11\", \"Topic11\", \"Topic11\", \"Topic11\", \"Topic11\", \"Topic11\", \"Topic11\", \"Topic11\", \"Topic11\", \"Topic11\", \"Topic11\", \"Topic11\", \"Topic11\", \"Topic11\", \"Topic11\", \"Topic11\", \"Topic11\", \"Topic11\", \"Topic11\", \"Topic11\", \"Topic11\", \"Topic11\", \"Topic11\", \"Topic11\", \"Topic11\", \"Topic11\", \"Topic11\", \"Topic11\", \"Topic11\", \"Topic11\", \"Topic11\", \"Topic11\", \"Topic11\", \"Topic11\", \"Topic11\", \"Topic11\", \"Topic11\", \"Topic11\", \"Topic11\", \"Topic11\", \"Topic11\", \"Topic11\", \"Topic11\", \"Topic12\", \"Topic12\", \"Topic12\", \"Topic12\", \"Topic12\", \"Topic12\", \"Topic12\", \"Topic12\", \"Topic12\", \"Topic12\", \"Topic12\", \"Topic12\", \"Topic12\", \"Topic12\", \"Topic12\", \"Topic12\", \"Topic12\", \"Topic12\", \"Topic12\", \"Topic12\", \"Topic12\", \"Topic12\", \"Topic12\", \"Topic12\", \"Topic12\", \"Topic12\", \"Topic12\", \"Topic12\", \"Topic12\", \"Topic12\", \"Topic12\", \"Topic12\", \"Topic12\", \"Topic12\", \"Topic12\", \"Topic12\", \"Topic12\", \"Topic12\", \"Topic12\", \"Topic12\", \"Topic12\", \"Topic12\", \"Topic12\", \"Topic13\", \"Topic13\", \"Topic13\", \"Topic13\", \"Topic13\", \"Topic13\", \"Topic13\", \"Topic13\", \"Topic13\", \"Topic13\", \"Topic13\", \"Topic13\", \"Topic13\", \"Topic13\", \"Topic13\", \"Topic13\", \"Topic13\", \"Topic13\", \"Topic13\", \"Topic13\", \"Topic13\", \"Topic13\", \"Topic13\", \"Topic13\", \"Topic13\", \"Topic13\", \"Topic13\", \"Topic13\", \"Topic13\", \"Topic13\", \"Topic13\", \"Topic13\", \"Topic13\", \"Topic13\", \"Topic13\", \"Topic13\", \"Topic13\", \"Topic13\", \"Topic13\", \"Topic13\", \"Topic13\", \"Topic13\", \"Topic13\", \"Topic13\", \"Topic13\", \"Topic13\", \"Topic13\", \"Topic13\", \"Topic13\", \"Topic13\", \"Topic13\", \"Topic13\", \"Topic14\", \"Topic14\", \"Topic14\", \"Topic14\", \"Topic14\", \"Topic14\", \"Topic14\", \"Topic14\", \"Topic14\", \"Topic14\", \"Topic14\", \"Topic14\", \"Topic14\", \"Topic14\", \"Topic14\", \"Topic14\", \"Topic14\", \"Topic14\", \"Topic14\", \"Topic14\", \"Topic14\", \"Topic14\", \"Topic14\", \"Topic14\", \"Topic14\", \"Topic14\", \"Topic14\", \"Topic14\", \"Topic14\", \"Topic14\", \"Topic14\", \"Topic14\", \"Topic14\", \"Topic14\", \"Topic14\", \"Topic14\", \"Topic14\", \"Topic14\", \"Topic14\", \"Topic14\", \"Topic14\", \"Topic14\", \"Topic15\", \"Topic15\", \"Topic15\", \"Topic15\", \"Topic15\", \"Topic15\", \"Topic15\", \"Topic15\", \"Topic15\", \"Topic15\", \"Topic15\", \"Topic15\", \"Topic15\", \"Topic15\", \"Topic15\", \"Topic15\", \"Topic15\", \"Topic15\", \"Topic15\", \"Topic15\", \"Topic15\", \"Topic15\", \"Topic15\", \"Topic15\", \"Topic15\", \"Topic15\", \"Topic15\", \"Topic15\", \"Topic15\", \"Topic15\", \"Topic15\", \"Topic15\", \"Topic15\", \"Topic15\", \"Topic15\", \"Topic16\", \"Topic16\", \"Topic16\", \"Topic16\", \"Topic16\", \"Topic16\", \"Topic16\", \"Topic16\", \"Topic16\", \"Topic16\", \"Topic16\", \"Topic16\", \"Topic16\", \"Topic16\", \"Topic16\", \"Topic16\", \"Topic16\", \"Topic16\", \"Topic16\", \"Topic16\", \"Topic16\", \"Topic16\", \"Topic16\", \"Topic16\", \"Topic16\", \"Topic16\", \"Topic16\", \"Topic16\", \"Topic16\", \"Topic16\", \"Topic16\", \"Topic17\", \"Topic17\", \"Topic17\", \"Topic17\", \"Topic17\", \"Topic17\", \"Topic17\", \"Topic17\", \"Topic17\", \"Topic17\", \"Topic17\", \"Topic17\", \"Topic17\", \"Topic17\", \"Topic17\", \"Topic17\", \"Topic17\", \"Topic17\", \"Topic17\", \"Topic17\", \"Topic17\", \"Topic17\", \"Topic17\", \"Topic17\", \"Topic17\", \"Topic17\", \"Topic17\", \"Topic17\", \"Topic17\", \"Topic17\", \"Topic17\", \"Topic17\", \"Topic18\", \"Topic18\", \"Topic18\", \"Topic18\", \"Topic18\", \"Topic18\", \"Topic18\", \"Topic18\", \"Topic18\", \"Topic18\", \"Topic18\", \"Topic18\", \"Topic18\", \"Topic18\", \"Topic18\", \"Topic18\", \"Topic18\", \"Topic18\", \"Topic18\", \"Topic18\", \"Topic18\", \"Topic18\", \"Topic18\", \"Topic18\", \"Topic18\", \"Topic18\", \"Topic18\", \"Topic18\", \"Topic18\", \"Topic18\", \"Topic18\", \"Topic18\", \"Topic18\", \"Topic18\", \"Topic18\", \"Topic18\", \"Topic18\"], \"logprob\": [30.0, 29.0, 28.0, 27.0, 26.0, 25.0, 24.0, 23.0, 22.0, 21.0, 20.0, 19.0, 18.0, 17.0, 16.0, 15.0, 14.0, 13.0, 12.0, 11.0, 10.0, 9.0, 8.0, 7.0, 6.0, 5.0, 4.0, 3.0, 2.0, 1.0, -2.8955, -3.3949, -3.778, -4.0249, -4.1075, -4.4474, -4.8263, -4.8673, -5.0065, -5.0155, -5.0468, -5.0807, -5.1531, -5.1814, -5.2239, -5.2575, -5.2694, -5.3877, -5.414, -5.4796, -5.5068, -5.5525, -5.6316, -5.8289, -6.0213, -6.1029, -6.3019, -6.3266, -6.4092, -6.4962, -3.8821, -5.2334, -3.9508, -3.5854, -4.1291, -4.9897, -3.8432, -3.7332, -4.777, -4.4465, -4.3214, -4.9005, -4.4513, -3.997, -4.7556, -4.6205, -4.5224, -4.2668, -4.598, -4.5075, -4.5641, -4.3265, -4.5016, -4.9343, -4.9073, -3.2926, -4.5641, -4.7835, -4.9616, -5.021, -5.0983, -5.3618, -4.1302, -5.6331, -5.9521, -5.9818, -6.0196, -6.0601, -6.2426, -6.2766, -6.2959, -6.5542, -6.632, -6.6562, -6.7084, -6.7775, -6.7923, -6.8144, -6.8574, -4.912, -5.7777, -6.9063, -6.9417, -6.9482, -6.953, -1.8111, -5.5114, -2.011, -3.0878, -4.249, -5.0943, -4.5906, -4.8031, -4.4334, -4.1502, -4.1601, -4.791, -4.4796, -2.8189, -4.4987, -5.4257, -4.7385, -5.3723, -5.1688, -4.0161, -4.9621, -4.7254, -4.2316, -4.292, -4.9755, -5.1018, -3.4902, -5.0299, -5.1037, -5.2582, -5.3453, -5.3582, -5.3965, -5.4769, -5.6062, -5.6632, -5.6856, -5.8048, -5.8114, -5.8929, -5.9295, -5.9801, -6.004, -6.1006, -6.1379, -5.6052, -6.348, -6.5258, -6.7004, -6.8993, -6.9113, -6.9335, -7.07, -7.1424, -7.1691, -7.1816, -3.3433, -2.8823, -5.6586, -4.5159, -2.9991, -5.2673, -3.2857, -4.2293, -4.5935, -3.9378, -4.3224, -4.2379, -3.5273, -4.0427, -4.8939, -4.0318, -4.1323, -3.3679, -4.9688, -4.3647, -3.9527, -4.9964, -4.902, -4.7401, -4.8268, -4.224, -4.5002, -4.1698, -4.2192, -4.5027, -4.5533, -4.2686, -4.3843, -4.4438, -4.5901, -4.738, -4.7045, -4.6781, -3.5981, -3.822, -3.9588, -4.1769, -4.3823, -1.8957, -4.4786, -4.5411, -4.5691, -4.7013, -4.9885, -5.1773, -5.2716, -5.5722, -5.6987, -5.8115, -5.8836, -5.9644, -6.0054, -6.0766, -6.1094, -6.3329, -6.4118, -6.4309, -6.4497, -6.4625, -2.2261, -6.59, -2.6569, -6.8767, -2.9576, -4.854, -5.3653, -3.683, -3.3033, -4.1226, -4.0694, -2.7769, -3.5719, -5.164, -5.3971, -5.5433, -5.0402, -5.3151, -4.8252, -4.807, -4.7381, -4.2284, -5.0149, -4.9814, -5.0485, -5.0696, -2.8409, -3.6521, -4.5737, -4.6495, -5.167, -5.3471, -5.5248, -5.794, -6.0782, -6.1254, -6.1996, -6.2497, -6.647, -6.6477, -6.7256, -6.7642, -6.7955, -6.8118, -6.8371, -6.903, -2.8106, -7.0883, -7.095, -7.139, -7.3875, -7.5882, -7.6494, -7.6864, -7.6866, -7.743, -0.8167, -3.9269, -4.6434, -5.6851, -4.684, -3.0553, -3.5218, -3.1503, -3.6109, -4.0283, -5.1641, -5.4268, -5.2277, -4.1024, -4.8329, -5.0048, -4.9579, -4.4004, -5.6964, -5.6776, -5.4509, -5.5912, -5.5622, -5.5628, -3.4386, -3.7826, -3.8228, -4.5117, -4.5917, -5.1358, -5.1497, -5.4109, -5.4521, -5.6761, -5.7019, -5.9072, -5.9917, -6.0168, -6.0676, -6.2463, -6.306, -6.3184, -6.3349, -6.7757, -4.6438, -6.8938, -6.9579, -7.4754, -6.1956, -7.9143, -3.876, -2.5885, -3.3432, -1.7341, -2.8888, -2.4262, -2.7752, -4.4094, -3.8064, -3.9102, -3.3552, -4.9931, -4.9575, -3.0078, -3.9456, -4.5863, -4.4317, -3.5806, -4.7376, -4.089, -4.8507, -4.7254, -4.9229, -5.0949, -3.876, -3.9354, -4.2221, -4.2878, -4.4925, -4.5236, -4.6482, -4.7692, -5.0582, -5.2645, -5.2772, -5.3411, -5.5047, -5.6365, -5.7411, -5.8462, -5.853, -5.9377, -5.9452, -6.0031, -6.1723, -6.2722, -6.5079, -6.5241, -6.6272, -6.7039, -6.7735, -6.7754, -6.8309, -6.8345, -2.3836, -4.108, -2.392, -3.1128, -4.5418, -5.3152, -3.6893, -3.6317, -3.6068, -3.735, -4.231, -4.8071, -3.97, -3.6303, -5.0973, -4.6945, -3.9907, -4.335, -4.2673, -4.1633, -4.5383, -4.2392, -3.6516, -4.0174, -4.3911, -4.6036, -4.603, -2.1225, -2.8492, -3.2848, -3.8675, -3.906, -4.2335, -4.261, -4.2928, -4.4545, -4.5136, -4.5855, -4.6012, -4.7029, -4.7251, -4.7253, -4.9291, -4.9789, -5.004, -5.1448, -5.1896, -5.2102, -5.4548, -5.4786, -5.5544, -5.6042, -4.7169, -5.68, -5.7081, -5.713, -5.7549, -4.6154, -4.4122, -4.1868, -4.0166, -4.5856, -4.345, -4.1445, -4.6732, -4.9328, -4.4867, -4.5668, -4.8588, -4.8319, -4.8012, -4.9192, -2.3628, -2.5307, -3.2515, -3.5678, -3.7642, -4.4286, -4.5282, -4.7493, -4.9945, -5.0251, -5.0258, -5.0338, -5.198, -5.267, -5.4259, -5.4276, -5.6063, -5.6638, -5.717, -5.7784, -5.8909, -5.9524, -5.9766, -6.0131, -6.0751, -6.0857, -6.0958, -6.1551, -6.1622, -6.1669, -4.5517, -5.1839, -5.0889, -5.5098, -3.7904, -5.3008, -4.1798, -2.5859, -2.8243, -3.9934, -4.741, -3.7093, -3.8289, -4.2992, -4.4136, -4.9804, -5.1841, -4.3775, -4.7256, -4.849, -4.8391, -4.8282, -4.9671, -1.3271, -1.904, -3.5277, -3.6469, -4.5392, -4.6788, -4.7436, -4.7489, -4.8954, -5.1595, -5.4421, -5.0654, -6.5234, -7.5898, -7.9017, -5.4021, -3.1392, -4.1777, -4.0582, -4.9398, -5.2672, -4.9925, -6.6499, -5.3341, -4.5629, -6.3938, -3.6496, -3.2964, -5.0929, -3.9206, -4.1003, -3.1337, -5.1984, -4.1497, -5.0194, -4.3463, -5.0218, -4.7857, -5.0344, -5.0128, -5.0389, -2.8278, -2.8871, -3.0928, -3.3437, -3.5059, -3.881, -3.9095, -3.914, -4.0896, -4.1646, -4.2074, -4.3046, -4.3326, -4.4601, -4.4902, -4.5838, -4.5941, -4.6066, -4.6779, -4.8032, -4.8167, -5.2404, -5.242, -5.2553, -5.3055, -5.3126, -5.3863, -5.4472, -5.5257, -5.533, -4.6119, -3.5058, -4.2925, -3.6048, -3.5035, -4.8888, -4.2912, -3.7448, -4.5712, -3.1469, -3.2638, -3.5648, -4.0907, -3.8006, -4.4318, -4.4273, -2.1662, -3.8495, -4.3393, -4.3686, -4.7397, -4.7737, -4.8749, -5.093, -5.306, -5.3988, -5.5701, -5.67, -5.6942, -6.0538, -6.1513, -6.3322, -6.3809, -6.415, -6.6052, -4.5727, -7.3949, -2.8711, -3.5432, -3.0249, -5.0356, -4.5047, -2.9917, -4.1355, -8.8012, -2.2361, -3.3346, -2.697, -2.7248, -3.8853, -3.7279, -4.0825, -5.1083, -5.0514, -4.3612, -4.277, -5.1501, -4.4566, -4.7006, -2.9344, -2.3652, -3.9606, -4.1837, -4.3481, -4.6815, -4.7523, -4.7886, -4.8581, -4.8622, -4.9683, -5.1331, -5.3087, -5.3227, -5.4993, -5.5636, -5.6325, -5.6554, -6.0538, -6.2632, -6.2791, -6.3666, -6.3737, -6.7102, -6.7605, -6.7867, -7.1636, -3.619, -4.1826, -3.828, -2.0264, -2.4755, -4.4545, -4.5199, -3.8189, -2.5871, -4.1828, -5.4317, -4.7274, -4.207, -3.927, -4.3274, -4.4762, -4.2351, -4.2602, -4.7442, -4.4647, -4.1361, -4.3893, -4.6142, -4.6639, -4.7, -1.3917, -3.1081, -3.5517, -4.3515, -4.5569, -4.8058, -4.913, -4.9157, -5.0146, -5.0606, -5.2331, -5.3317, -5.5159, -5.583, -5.8425, -5.9109, -5.9551, -6.0194, -6.1269, -2.8957, -3.6413, -2.5884, -4.913, -5.1803, -3.9795, -4.2583, -4.4673, -5.9986, -9.3883, -5.6515, -3.923, -2.2087, -4.8451, -3.1042, -5.1814, -5.3558, -4.907, -5.1226, -5.2009, -5.0404, -5.0762, -5.297, -1.0057, -2.7908, -3.3069, -3.7357, -3.7535, -3.8365, -3.9612, -4.2775, -4.3136, -4.35, -4.366, -4.3791, -4.4007, -4.4124, -4.4581, -4.474, -4.6207, -4.693, -4.7569, -4.8387, -4.923, -4.9929, -5.0933, -5.5647, -5.688, -6.3488, -8.2081, -4.341, -5.0212, -3.2119, -3.1536, -4.7269, -3.987, -4.3344, -4.3453, -1.539, -2.5893, -2.706, -3.0465, -3.1993, -3.8173, -4.0748, -4.1014, -4.173, -4.3824, -4.388, -4.6808, -4.8563, -4.914, -4.9655, -4.9897, -5.0494, -5.1069, -5.3539, -5.426, -5.4743, -5.58, -5.6006, -1.7255, -3.4972, -2.975, -4.3235, -4.184, -5.5941, -11.8293, -5.4317, -1.8459, -1.8642, -2.3978, -2.9941, -3.5873, -3.6097, -3.6925, -3.7071, -3.8735, -4.0122, -4.0281, -4.052, -4.1927, -4.262, -4.2866, -4.2879, -4.3013, -4.3412, -4.6681, -4.7116, -4.7597, -4.8128, -4.9815, -5.3723, -5.4645, -5.5943, -5.739, -6.6173, -3.5066, -3.8494, -3.8129, -5.3233, -2.1678, -2.1732, -2.6243, -2.842, -2.9372, -3.0019, -3.3795, -3.4415, -3.5575, -3.706, -4.1071, -4.2126, -4.623, -6.5363, -10.3994, -10.3998, -10.4006, -10.4006, -10.4008, -10.4009, -10.4011, -10.4011, -10.4011, -10.4011, -10.401, -10.4011, -10.4012, -10.401, -10.4008, -10.4013, -10.4011, -10.401, -10.401, -10.4008, -10.4008, -10.4011, -10.4011], \"loglift\": [30.0, 29.0, 28.0, 27.0, 26.0, 25.0, 24.0, 23.0, 22.0, 21.0, 20.0, 19.0, 18.0, 17.0, 16.0, 15.0, 14.0, 13.0, 12.0, 11.0, 10.0, 9.0, 8.0, 7.0, 6.0, 5.0, 4.0, 3.0, 2.0, 1.0, 1.63, 1.6299, 1.6298, 1.6297, 1.6297, 1.6295, 1.6292, 1.6291, 1.629, 1.629, 1.629, 1.6289, 1.6288, 1.6288, 1.6287, 1.6287, 1.6287, 1.6285, 1.6285, 1.6283, 1.6283, 1.6282, 1.6281, 1.6276, 1.6271, 1.6268, 1.6261, 1.626, 1.6257, 1.6253, 1.5824, 1.6091, 1.5525, 1.4921, 1.4874, 1.5347, 1.3208, 1.2889, 1.4439, 1.3329, 1.1713, 1.3874, 1.1467, 0.8886, 1.2438, 1.0731, 0.977, 0.6139, 0.9853, 0.7623, 0.8341, 0.3676, 0.341, 1.2019, 0.4762, 1.7364, 1.7358, 1.7356, 1.7354, 1.7354, 1.7353, 1.7349, 1.7346, 1.7343, 1.7335, 1.7334, 1.7333, 1.7331, 1.7325, 1.7323, 1.7322, 1.7309, 1.7305, 1.7303, 1.73, 1.7295, 1.7294, 1.7293, 1.729, 1.7288, 1.7286, 1.7286, 1.7283, 1.7282, 1.7282, 1.7153, 1.7188, 1.6713, 1.6393, 1.6405, 1.6636, 1.6386, 1.6136, 1.5622, 1.503, 1.4881, 1.5487, 1.4962, 1.265, 1.4535, 1.5982, 1.4256, 1.5777, 1.5193, 1.0436, 1.3851, 1.0812, 0.6491, 0.4557, 0.8366, 0.4815, 2.0448, 2.0435, 2.0434, 2.0431, 2.0429, 2.0428, 2.0427, 2.0425, 2.0422, 2.042, 2.0419, 2.0415, 2.0415, 2.0412, 2.041, 2.0408, 2.0407, 2.0403, 2.0401, 2.04, 2.0389, 2.0377, 2.0362, 2.0343, 2.0341, 2.0339, 2.0323, 2.0313, 2.0309, 2.0308, 2.0167, 2.0018, 2.0181, 1.9726, 1.8961, 1.9772, 1.8609, 1.8911, 1.9022, 1.7812, 1.7949, 1.7141, 1.5239, 1.6207, 1.8015, 1.5952, 1.6055, 1.3262, 1.7701, 1.5112, 1.3171, 1.7637, 1.7171, 1.637, 1.6325, 1.1742, 1.1934, 0.8446, 0.8029, 1.1055, 1.1049, 0.617, 0.6753, 0.7202, 0.9026, 1.3376, 1.2063, 0.6594, 2.6285, 2.6284, 2.6282, 2.628, 2.6277, 2.6276, 2.6275, 2.6274, 2.6274, 2.6271, 2.6264, 2.6258, 2.6254, 2.6241, 2.6234, 2.6227, 2.6222, 2.6216, 2.6213, 2.6207, 2.6204, 2.6182, 2.6173, 2.6171, 2.6168, 2.6167, 2.6158, 2.615, 2.6139, 2.6103, 2.4937, 2.5489, 2.5507, 2.4371, 2.2679, 2.345, 2.2841, 2.0657, 1.9783, 2.376, 2.4013, 2.4488, 2.1374, 2.2343, 1.7044, 1.6362, 1.497, 0.6572, 1.7026, 1.5553, 1.6262, -0.1889, 2.727, 2.7265, 2.7252, 2.7251, 2.7235, 2.7228, 2.7219, 2.7202, 2.7179, 2.7175, 2.7167, 2.7162, 2.7107, 2.7107, 2.7094, 2.7087, 2.7081, 2.7078, 2.7073, 2.7059, 2.7018, 2.7016, 2.7015, 2.7003, 2.6928, 2.6853, 2.6827, 2.6811, 2.6811, 2.6785, 2.6648, 2.6623, 2.6579, 2.6015, 2.5346, 2.3282, 2.2572, 2.0622, 2.0472, 2.0473, 2.3082, 2.2213, 2.1318, 1.561, 1.8612, 1.7203, 1.5718, 0.6771, 2.0592, 1.7678, 1.2161, 1.2251, -0.012, -0.5116, 2.7362, 2.7359, 2.7359, 2.7349, 2.7347, 2.7332, 2.7332, 2.7321, 2.7319, 2.7307, 2.7305, 2.7291, 2.7284, 2.7282, 2.7277, 2.726, 2.7253, 2.7252, 2.725, 2.7185, 2.7185, 2.7162, 2.7149, 2.7002, 2.6973, 2.6806, 2.6167, 2.5588, 2.5135, 2.5022, 2.4486, 2.3215, 2.3298, 2.1596, 1.9979, 1.9326, 1.6591, 2.248, 2.1783, 1.0762, 1.1056, 1.4622, 1.2164, -0.0992, 1.189, -0.4067, 0.9559, -1.199, -0.0803, 0.5583, 2.7454, 2.7454, 2.745, 2.7449, 2.7445, 2.7445, 2.7442, 2.7439, 2.743, 2.7422, 2.7422, 2.7419, 2.741, 2.7403, 2.7396, 2.7388, 2.7388, 2.7381, 2.738, 2.7375, 2.7359, 2.7348, 2.7317, 2.7315, 2.7298, 2.7285, 2.7272, 2.7272, 2.7261, 2.726, 2.6988, 2.708, 2.6487, 2.6577, 2.6245, 2.6372, 2.4991, 2.4602, 2.4183, 2.3656, 2.4352, 2.4665, 2.1448, 1.978, 2.4674, 2.3063, 1.92, 1.9967, 1.9102, 1.7982, 2.0373, 1.6874, 1.0425, 0.9969, 1.6122, 1.7482, 0.5436, 2.9991, 2.9988, 2.9986, 2.998, 2.9979, 2.9974, 2.9973, 2.9972, 2.9969, 2.9967, 2.9965, 2.9965, 2.9962, 2.9961, 2.9961, 2.9954, 2.9952, 2.9951, 2.9944, 2.9942, 2.9941, 2.9927, 2.9925, 2.992, 2.9916, 2.9912, 2.991, 2.9907, 2.9907, 2.9903, 2.8778, 2.7543, 2.6769, 2.5194, 2.6705, 2.3801, 2.1608, 2.4441, 2.5969, 1.6775, 1.7805, 2.35, 1.1637, 0.749, 0.7998, 3.2151, 3.215, 3.2146, 3.2142, 3.214, 3.2125, 3.2122, 3.2114, 3.2103, 3.2101, 3.2101, 3.2101, 3.2091, 3.2087, 3.2075, 3.2075, 3.2059, 3.2054, 3.2048, 3.2042, 3.2028, 3.202, 3.2017, 3.2012, 3.2003, 3.2001, 3.2, 3.199, 3.1989, 3.1988, 3.0603, 3.0634, 2.9831, 3.0657, 2.4147, 2.8995, 2.3891, 1.6504, 1.2596, 1.9613, 2.4045, 1.3503, 1.2761, 1.6958, 1.8122, 2.2606, 2.6078, -0.6953, 0.4217, 0.8887, 0.056, -0.0805, 1.1477, 3.678, 3.6778, 3.6762, 3.676, 3.6729, 3.6721, 3.6717, 3.6716, 3.6706, 3.6683, 3.6651, 3.6617, 3.6401, 3.5713, 3.5349, 3.2774, 3.0959, 3.0931, 3.0874, 3.0617, 2.9928, 2.9499, 2.8825, 2.5767, 2.5754, 2.5491, 2.5279, 2.5157, 2.4136, 2.348, 2.1526, 1.9713, 2.161, 1.3016, 1.6726, 0.5488, 1.6694, 0.8725, 1.4584, 0.9487, 1.0813, 3.7145, 3.7144, 3.7142, 3.7138, 3.7135, 3.7127, 3.7126, 3.7126, 3.712, 3.7117, 3.7116, 3.7112, 3.711, 3.7104, 3.7103, 3.7098, 3.7097, 3.7097, 3.7092, 3.7084, 3.7083, 3.7045, 3.7045, 3.7044, 3.7038, 3.7037, 3.7028, 3.702, 3.7009, 3.7008, 3.6988, 3.6702, 3.6823, 3.6582, 3.5147, 3.5795, 3.3961, 3.1226, 3.3616, 2.3524, 2.3343, 2.4838, 2.8806, 0.2833, 2.2653, 1.6733, 3.7393, 3.737, 3.7352, 3.7351, 3.733, 3.7327, 3.732, 3.7301, 3.7278, 3.7267, 3.7242, 3.7226, 3.7222, 3.7147, 3.7121, 3.7067, 3.7051, 3.7039, 3.6966, 3.6937, 3.647, 3.6361, 3.5398, 3.5252, 3.5245, 3.5091, 3.4162, 3.411, 3.4057, 3.3785, 3.3574, 3.1458, 3.0795, 2.2295, 2.1288, 2.1395, 2.8104, 2.6316, 1.4509, 1.1212, 2.6406, 0.6907, 0.0472, 3.8493, 3.8476, 3.847, 3.8461, 3.8454, 3.8433, 3.8428, 3.8425, 3.8419, 3.8419, 3.8409, 3.8392, 3.8371, 3.8369, 3.8343, 3.8332, 3.832, 3.8316, 3.8224, 3.816, 3.8154, 3.8123, 3.812, 3.797, 3.7943, 3.7929, 3.7675, 3.7384, 3.7289, 3.7152, 3.5583, 3.4792, 3.5815, 3.1437, 2.8481, 2.2936, 2.8229, 3.3249, 2.8925, 2.3715, 2.0252, 2.4327, 2.2119, 1.6757, 1.2432, 2.3174, 1.5386, 0.558, 0.4948, 1.4344, 0.8863, 0.3511, 4.1682, 4.1665, 4.1653, 4.1614, 4.1598, 4.1574, 4.1561, 4.1561, 4.1548, 4.1542, 4.1515, 4.1498, 4.146, 4.1445, 4.1374, 4.1353, 4.1338, 4.1315, 4.1274, 4.1179, 4.0398, 4.0326, 3.8163, 3.7626, 3.6852, 3.6603, 3.5983, 3.5338, 3.4292, 3.302, 3.1299, 3.0038, 2.8245, 1.623, 2.6093, 2.8446, 1.8181, 1.82, 1.3883, 0.0192, -0.3821, 1.2327, 4.3809, 4.3794, 4.3781, 4.3765, 4.3764, 4.376, 4.3753, 4.3731, 4.3728, 4.3725, 4.3723, 4.3722, 4.372, 4.3719, 4.3715, 4.3713, 4.3698, 4.3689, 4.3681, 4.367, 4.3658, 4.3647, 4.3629, 4.3521, 4.3483, 4.3184, 4.0333, 3.7686, 2.9857, 2.9656, 2.773, 2.9377, 2.2481, 1.4777, 1.2049, 4.5165, 4.5153, 4.5151, 4.5143, 4.5139, 4.5111, 4.5094, 4.5092, 4.5086, 4.5067, 4.5066, 4.5031, 4.5004, 4.4994, 4.4985, 4.498, 4.4969, 4.4957, 4.4898, 4.4878, 4.4864, 4.483, 4.4823, 4.2695, 4.2489, 4.0778, 3.036, 2.9825, 2.3174, 1.576, 1.5692, 5.0135, 5.0135, 5.0125, 5.0106, 5.0071, 5.0069, 5.0063, 5.0061, 5.0046, 5.003, 5.0028, 5.0026, 5.0007, 4.9997, 4.9993, 4.9993, 4.9991, 4.9985, 4.9922, 4.9912, 4.99, 4.9887, 4.984, 4.9695, 4.9652, 4.9585, 4.95, 4.8654, 4.5703, 4.3656, 3.7336, 2.3414, 6.1985, 6.1985, 6.195, 6.1926, 6.1914, 6.1905, 6.184, 6.1827, 6.18, 6.1761, 6.1622, 6.1576, 6.1345, 5.8037, 3.0063, 3.0058, 3.0052, 3.0051, 3.0048, 3.0047, 3.0047, 3.0047, 3.0047, 3.0047, 3.0047, 3.0046, 3.0046, 3.0046, 3.0046, 3.0045, 3.0045, 3.0045, 3.0044, 3.0041, 3.003, 3.0045, 3.004]}, \"token.table\": {\"Topic\": [9, 6, 18, 2, 5, 6, 16, 6, 14, 2, 6, 5, 6, 12, 7, 12, 5, 5, 10, 16, 1, 4, 2, 3, 4, 7, 2, 3, 9, 10, 12, 14, 17, 6, 5, 16, 7, 11, 8, 12, 2, 6, 9, 10, 4, 8, 3, 4, 7, 8, 10, 13, 2, 3, 7, 9, 1, 2, 3, 4, 5, 6, 7, 12, 13, 13, 8, 1, 4, 5, 10, 7, 1, 6, 12, 3, 18, 2, 8, 16, 1, 2, 4, 9, 11, 9, 14, 6, 8, 13, 1, 2, 3, 7, 1, 8, 17, 5, 14, 2, 3, 7, 9, 9, 16, 1, 2, 8, 10, 17, 17, 2, 9, 2, 13, 14, 4, 11, 16, 14, 16, 1, 3, 15, 1, 1, 17, 1, 2, 4, 8, 2, 1, 7, 7, 2, 9, 15, 3, 4, 8, 10, 12, 12, 14, 9, 15, 16, 7, 12, 18, 1, 9, 11, 2, 9, 2, 1, 7, 9, 10, 13, 1, 18, 11, 4, 1, 5, 12, 13, 15, 1, 7, 14, 1, 13, 2, 5, 8, 12, 13, 10, 8, 13, 3, 1, 3, 8, 4, 14, 5, 13, 1, 13, 15, 9, 10, 15, 3, 5, 11, 9, 1, 5, 1, 5, 5, 11, 11, 10, 10, 10, 16, 12, 1, 10, 1, 8, 10, 2, 3, 8, 9, 10, 17, 10, 9, 15, 2, 3, 7, 9, 14, 2, 14, 2, 17, 5, 10, 14, 6, 14, 6, 17, 9, 10, 11, 17, 10, 14, 6, 9, 1, 2, 3, 8, 1, 6, 2, 3, 4, 8, 12, 2, 8, 9, 1, 6, 2, 7, 9, 2, 8, 2, 11, 4, 8, 12, 16, 3, 17, 4, 8, 3, 5, 2, 4, 5, 6, 2, 5, 6, 10, 12, 15, 6, 18, 17, 5, 8, 14, 1, 5, 8, 10, 1, 1, 13, 2, 3, 5, 8, 9, 14, 15, 2, 7, 1, 2, 4, 9, 13, 14, 8, 14, 1, 10, 10, 10, 7, 16, 4, 7, 12, 1, 7, 11, 6, 2, 14, 2, 2, 3, 8, 15, 2, 10, 11, 13, 8, 1, 13, 13, 13, 2, 10, 10, 15, 7, 6, 1, 3, 5, 13, 1, 2, 10, 11, 14, 17, 11, 14, 2, 10, 14, 15, 1, 3, 4, 13, 7, 8, 9, 7, 3, 2, 3, 4, 5, 8, 12, 13, 15, 3, 12, 3, 3, 3, 1, 17, 14, 1, 4, 5, 14, 12, 9, 5, 5, 8, 12, 14, 10, 12, 2, 15, 9, 14, 15, 17, 1, 2, 4, 5, 9, 8, 4, 11, 5, 1, 3, 15, 7, 4, 4, 6, 11, 14, 16, 2, 7, 1, 4, 3, 7, 9, 2, 8, 12, 13, 6, 12, 14, 6, 9, 17, 8, 15, 3, 7, 12, 17, 9, 12, 2, 4, 1, 8, 13, 15, 2, 3, 7, 9, 13, 14, 2, 8, 3, 8, 11, 12, 11, 11, 7, 7, 1, 2, 6, 7, 8, 13, 14, 16, 7, 5, 16, 9, 16, 16, 5, 1, 14, 13, 4, 7, 10, 1, 13, 6, 6, 9, 12, 14, 3, 15, 15, 18, 1, 3, 13, 1, 2, 3, 11, 13, 1, 3, 4, 5, 13, 9, 6, 15, 13, 3, 4, 9, 8, 17, 1, 3, 8, 4, 14, 11, 12, 2, 3, 5, 1, 8, 8, 3, 1, 3, 2, 3, 9, 9, 1, 9, 10, 9, 1, 2, 13, 2, 8, 13, 2, 2, 6, 14, 2, 16, 2, 4, 7, 12, 11, 6, 5, 2, 4, 8, 16, 14, 1, 2, 6, 9, 11, 14, 14, 18, 4, 8, 9, 9, 17, 4, 4, 2, 13, 1, 2, 14, 1, 2, 4, 8, 12, 2, 6, 9, 13, 14, 8, 10, 10, 1, 3, 9, 12, 9, 9, 11, 8, 3, 5, 15, 5, 5, 8, 9, 13, 2, 9, 12, 18, 15, 13, 1, 8, 10, 12, 17, 5, 8, 9, 1, 4, 8, 10, 2, 3, 7, 13, 18, 7, 3, 12, 1, 5, 11, 2, 6, 9, 2, 13, 3, 5, 8, 8, 4, 5, 1, 3, 7, 10, 7, 11, 1, 2, 3, 4, 6, 8, 9, 12, 15, 17, 1, 1, 5, 11, 2, 9, 11, 16, 1, 12, 7, 1, 14, 1, 2, 4, 12, 4, 8, 6, 8, 7, 1, 13, 15, 1, 3, 4, 8, 4, 8, 15, 4, 8, 4, 7, 2, 3, 5, 6, 10, 10, 17, 1, 2, 3, 8, 9, 2, 5, 8, 13, 12, 17, 1, 3, 5, 11, 1, 3, 4, 8, 1, 18, 14, 1, 4, 7, 16, 1, 2, 4, 7, 9, 10, 11, 14, 10, 14, 3, 9, 10, 1, 5, 14, 9, 10, 11, 2, 7, 9, 10, 11, 5, 3, 3, 1, 5, 9, 5, 14, 2, 7, 10, 15, 5, 5, 8, 11, 4, 10, 15, 7, 2, 4, 3, 9, 14, 15, 7, 4, 10, 15, 4, 5, 5, 13, 18, 14, 2, 9, 9, 11, 1, 6, 9, 10, 11, 13, 6, 11, 14, 5, 7, 9, 1, 4, 1, 3, 8, 10, 13, 5, 8, 17, 9, 18, 4, 7, 8, 10, 12, 14, 8, 17, 8, 6, 11, 12, 14, 1, 2, 8, 11, 2, 8, 12, 16, 2, 2, 7, 9, 3, 5, 10, 14, 8, 11, 2, 2, 7, 9, 12, 14, 9, 12, 11, 5, 14, 1, 3, 4, 8, 5, 6, 9, 10, 9, 10, 7, 18, 11, 7, 1, 6, 7, 9, 1, 3, 7, 13, 14, 1, 5, 2, 6, 7, 15, 15, 3, 17, 4, 1, 17, 7, 4, 2, 4, 4, 17, 2, 3, 7, 9, 10, 13, 15, 15, 5, 14, 6, 9, 11, 13, 16, 10, 14, 14, 9, 2, 17, 2, 6, 9, 2, 6, 9, 12, 17, 1, 1, 2, 7, 8, 9, 2, 7, 9, 12, 14, 7, 12, 1, 9, 15, 6, 12, 6, 11, 2, 3, 10, 2, 3, 7, 13, 8, 16, 16, 15, 1, 2, 9, 12, 1, 7, 13, 3, 6, 15, 3, 9, 11, 8, 13, 1, 13, 1, 3, 2, 8, 8, 2, 6, 9, 12, 8, 9, 12, 17, 8, 3, 7, 13, 4, 1, 4, 8, 10, 11, 8, 8, 5, 4, 10, 7, 6, 1, 2, 3, 4, 12, 11, 2, 3, 5, 7, 8, 13, 7, 12, 16, 11, 3, 3, 1, 13, 14, 6, 18, 9, 13, 1, 3, 6, 7, 9, 4, 9, 10, 5, 14, 3, 9, 1, 2, 3, 4, 15, 8, 13, 15, 6, 10, 9, 17, 2, 4, 1, 15, 1, 7, 13, 11, 1, 3, 1, 3, 4, 12, 13, 15, 1, 4, 5, 8, 9, 11, 12, 17, 13, 9, 3, 11, 3, 12, 12, 1, 2, 3, 4, 8, 5, 9, 11, 9, 1, 4, 9, 13, 9, 12, 13, 1, 5, 14, 11, 9, 12, 1, 3, 2, 5, 8, 16, 11, 14, 5, 9, 3, 13, 16, 9, 7, 16, 2, 12, 1, 2, 3, 5, 6, 9, 10, 1, 2, 3, 9, 11, 12, 3, 2, 10, 3, 4, 7, 10, 1, 2, 8, 9, 6, 12, 12, 1, 1, 2, 3, 8, 1, 1, 16, 1, 2, 3, 4, 8, 9, 16, 13, 17, 4, 4, 1, 5, 7, 1, 3, 4, 8, 9, 4, 2, 3, 5, 7, 10, 11, 12, 6, 1, 2, 3, 8, 13, 9, 3, 4, 8, 3, 9, 13], \"Freq\": [0.992469121309782, 0.9991232687963626, 0.9640414447413198, 0.001990080064958799, 0.9393177906605532, 0.058664099306176776, 0.9783419469998449, 0.993113963935839, 0.9988010426890259, 0.9925691292062838, 0.007133453700661177, 0.9737163621187712, 0.44735730191631184, 0.551970086364434, 0.27531047714442164, 0.7233964443442867, 0.9957323469640206, 0.5519913978576648, 0.21954203323884397, 0.22790553926699042, 0.0729551670017292, 0.9228828625718744, 0.20136795748911254, 0.38165026497936516, 0.3668903099801632, 0.04955127749732089, 0.3082588162714662, 0.5861659952485111, 0.025609193967167963, 0.043156234278005266, 0.035094080621674614, 0.001422732998175998, 0.9809681703156243, 0.9847239489132449, 0.9742499731864421, 0.9835989732268225, 0.9957447922567985, 0.9810485515865466, 0.18756044505777864, 0.8058152454334193, 0.008995138740598744, 0.6656402668043071, 0.14370282622176042, 0.18143853020671125, 0.27381975233878136, 0.7246671585151935, 0.9975864394837515, 0.9980241027973883, 0.31843576413259606, 0.30670392019086884, 0.33184358578028433, 0.0418994426490258, 0.0027826142877282046, 0.9961759150066972, 0.9991114246074827, 0.997618726645103, 0.028272592790055857, 0.0777496301726536, 0.593724448591173, 0.001039433558457936, 0.03929058850970998, 0.19562139570178355, 0.025570065538065224, 0.008523355179355074, 0.030143573195280143, 0.9530391498995067, 0.9968170620526121, 0.022333161348121747, 0.8731645721522601, 0.011166580674060874, 0.0927446561540056, 0.9951807562862637, 0.9990223009505108, 0.9903309987142908, 0.9753973319741636, 0.987967999772432, 0.93788241316503, 0.9978197019808986, 0.7826537881398531, 0.2154883777918098, 0.38844861020106103, 0.07346545819405409, 0.34161438060235155, 0.09366845919741897, 0.10193332324425006, 0.7930229388407276, 0.2046510809911555, 0.995347819203329, 0.9977406768364321, 0.9947598212761303, 0.6320100515552844, 0.00032327879874950613, 0.3190761743657625, 0.04816854101367641, 0.2850634182470437, 0.6692793297974069, 0.04461862198649379, 0.9806109006017185, 0.9825723792708162, 0.41142467738926725, 0.1931177057133295, 0.36867925636181087, 0.025952577052384202, 0.9816924579933053, 0.9973295620461635, 0.40385840547577945, 0.29850403882992393, 0.032308672438062354, 0.2640882790589445, 0.996546234508301, 0.9917327654567174, 0.9928150941077505, 0.004843000459062197, 0.016984593424683024, 0.10890121666414408, 0.8732079207748801, 0.9960578118998755, 0.9840761690158876, 0.9682402714002779, 0.3539113799489551, 0.6447342095591835, 0.8671295227669943, 0.13244763174753246, 0.9996536615680688, 0.999597802725573, 0.9941749980593779, 0.9983096395221925, 0.20320828983436692, 0.23557775193187672, 0.035966068997233085, 0.5215080004598798, 0.9960186250907024, 0.098359203449097, 0.8965819699013842, 0.9894065668017501, 0.8714209792835823, 0.11658805554737464, 0.01195774928691022, 0.29131574231858925, 0.7080272372362563, 0.17493055573619057, 0.5042116018278434, 0.3189910134012887, 0.9575606215252742, 0.9874918439768158, 0.9986758565846073, 0.9869005045590352, 0.9870023723062722, 0.9944554513855769, 0.9899518406216485, 0.9593636149174004, 0.9951064486945309, 0.29306599354564256, 0.7011325668370435, 0.92915845222137, 0.06874168573770924, 0.9993513607722525, 0.5027224053142869, 0.23487298454442587, 0.24564080045477205, 0.01615172386551926, 0.9700842900817818, 0.9998436471542883, 0.6086840141910992, 0.987586288158149, 0.9990753010318189, 0.8710439901937389, 0.12870363295437995, 0.9903151342227797, 0.8930049016772792, 0.10432300253239243, 0.49001710648974056, 0.47281039893361226, 0.03665776827175159, 0.5044905140055495, 0.49315364852227866, 0.47299761950175534, 0.0028724551791604576, 0.25756348106472104, 0.0382994023888061, 0.22788144421339632, 0.99561461505922, 0.9933989227867817, 0.9918544321482938, 0.9981206885693192, 0.2453183671286183, 0.7199994352311481, 0.03390579057875212, 0.9848830659693446, 0.015020567401057583, 0.9988718997544499, 0.9924051058661195, 0.2530648629510872, 0.746435015931358, 0.9909129176406929, 0.8585899042024877, 0.13717116812702465, 0.9871302251060003, 0.9996509462426786, 0.9864243804910962, 0.9866136426296538, 0.9903028125227556, 0.37452032730209844, 0.6250615117731574, 0.06509954412839768, 0.9330934658403667, 0.9791711088782669, 0.9986796979201847, 0.9992035738941374, 0.9994468336597303, 0.9986438402443519, 0.8631664773517312, 0.9582630296780008, 0.9940797842717662, 0.5130703776646856, 0.48311006364047027, 0.21238353490529252, 0.22960382151923514, 0.5567892671841452, 0.01974276757641758, 0.8615672625240249, 0.03237102431448649, 0.04250920225913336, 0.04375424165584437, 0.981493683670042, 0.9361994296207292, 0.45152609084181206, 0.5400606184578536, 0.10886559567246912, 0.39082748846416415, 0.46376743756471844, 0.03628853189082304, 0.9837489160744256, 0.5662312334889983, 0.4220996467827078, 0.9963169986400685, 0.9920976449432736, 0.5080335362733317, 0.3338506095510465, 0.15603887185538046, 0.9899411780208802, 0.9612385448065524, 0.9894578150657152, 0.9894134950165419, 0.3209252956549723, 0.6731603762518931, 0.9987341693600252, 0.9681831103892442, 0.9850719939276782, 0.008208933282730651, 0.7908391914973919, 0.20909887618783596, 0.41985361109202, 0.09364572225219424, 0.482715242327609, 0.003362967926183771, 0.016773288713492863, 0.9812373897393324, 0.2219062154711816, 0.5101831721255867, 0.005363292216826142, 0.06033703743929409, 0.20179386965808357, 0.7036381883895633, 0.29558882859993535, 0.9959050625716332, 0.9975982260493953, 0.9913413573535633, 0.14538957891918464, 0.7510813874529538, 0.10300881097513082, 0.8397654099923755, 0.15929350234101075, 0.9908487511146863, 0.9978225829490164, 0.7977909400939137, 0.17188178790641231, 0.029187473418070015, 0.9776686810828024, 0.9879180724869517, 0.9980191198577404, 0.8344718985517501, 0.16138371622934788, 0.3934373403000149, 0.6027125213106612, 0.978973524604379, 0.0006335519504674019, 0.0008598205042057598, 0.019549603042994117, 0.40669001715114517, 0.022692769009527793, 0.1014500261602419, 0.3128042473274125, 0.1014500261602419, 0.054729619375919976, 0.9932701441165575, 0.9824080527571345, 0.9799712068776665, 0.3647678861166047, 0.5388364518318234, 0.09534966020069302, 0.2346868758753981, 0.3827902441462804, 0.3053207899738189, 0.07519094081444794, 0.9989137909767978, 0.9982969976813865, 0.9906742647869514, 0.007573139223887787, 0.08037299369868006, 0.514240582783348, 0.05179050049884551, 0.019787879907577764, 0.31196447706144204, 0.014169099193080376, 0.9968674605715494, 0.9886182854918454, 0.3620101613759776, 0.33711648441937286, 0.0597798862126917, 0.02787390588802927, 0.21071971621013322, 0.002629613763021629, 0.2879522109676551, 0.6993125123500196, 0.9971914725830572, 0.9997900210000104, 0.9917495749717434, 0.9665845137251451, 0.97864781465572, 0.9679104758083499, 0.15688324341417012, 0.04424911993733003, 0.7924615116049106, 0.9968274388189482, 0.9863361546627976, 0.9927662241627543, 0.995094177160555, 0.9980909805930668, 0.001407083149332331, 0.9967029566460477, 0.9919429964423441, 0.998561622253824, 0.9969487435409948, 0.9942942450586821, 0.69232992070067, 0.13396476793743614, 0.04072528945298059, 0.13182133165043716, 0.9894890775823558, 0.9986737784412112, 0.999207170887531, 0.9249615151928675, 0.9465503950719666, 0.7144802514863097, 0.283370133640333, 0.9907410747570637, 0.9930299727011107, 0.9983034845534494, 0.9784434983568873, 0.2526505490518692, 0.523521089621902, 0.22228389652159644, 0.9856813826477848, 0.12816948100903272, 0.5898552459340431, 0.026185162786791633, 0.15986730964567525, 0.09509348590992751, 0.996474778518844, 0.9946830669016232, 0.9849520049000495, 0.9072957282591696, 0.014134205909241289, 0.0784899519640846, 0.988045762113272, 0.05376686229886364, 0.8664397645866059, 0.0282055671076006, 0.05112259038252609, 0.9150956899073291, 0.06658345504922732, 0.017926314820945814, 0.9984956103566488, 0.9982981911794133, 0.1794352520863259, 0.02944929709813746, 0.5215265055867832, 0.06471996687846487, 0.10546957565379463, 0.0061638063693776075, 0.051707486765334376, 0.041776909836892674, 0.9956239354687001, 0.914124559888348, 0.995716352024722, 0.9954430367077142, 0.9965096374365581, 0.9997270925612297, 0.9923314027513153, 0.9822550053559889, 0.23436164750032756, 0.39668216600249995, 0.31460999372612064, 0.052890955467, 0.9928754589318546, 0.9924383300074594, 0.9877505097046613, 0.34755854505208617, 0.10619844432147077, 0.33468600634645335, 0.20917875396653335, 0.9921814362459133, 0.9842987858776395, 0.998900159547113, 0.9788158254588626, 0.07660086749484223, 0.6156440091252134, 0.23547674081747796, 0.06808965999541532, 0.07592616288890006, 0.45225583981649164, 0.39613650202904377, 0.018706445929149287, 0.05611933778744786, 0.9954564798105883, 0.9921488617294979, 0.9925936619004031, 0.9382972620990954, 0.2814467211517549, 0.7179449995925674, 0.9879352598511089, 0.9979836477921049, 0.9859089145324121, 0.9828265554882865, 0.9566821085998618, 0.8744732028208083, 0.12039848444634317, 0.9936257838603343, 0.9994282132564801, 0.9901911414165722, 0.9991638984127508, 0.9964170663332897, 0.40102098788248247, 0.4917281160939964, 0.10598411822608465, 0.8844634775542167, 0.11483365592554748, 0.8182933633676487, 0.1791999032181091, 0.47768752666021586, 0.5165382682000486, 0.00529782839179537, 0.9725706208444285, 0.9933108927257316, 0.9342484561269785, 0.9978137650689104, 0.9887121352676528, 0.9968395896109691, 0.9989356157898832, 0.9970229765961756, 0.9628748412835125, 0.09719041311984014, 0.9014633730656733, 0.9919180149804062, 0.9995431638049084, 0.29355362743130536, 0.32584452644874895, 0.35813542546619254, 0.020548753920191374, 0.5000452112969482, 0.25411102561505294, 0.05786686721926949, 0.15494063360521793, 0.016982667553481264, 0.01572469217914932, 0.9923977421565722, 0.9970599185884829, 0.18216207968325535, 0.5743849359381925, 0.10831258791977344, 0.13457018499123366, 0.9945815148078344, 0.9905339050828381, 0.9946231955621387, 0.9899458369230524, 0.07744510244264098, 0.5191034580869592, 0.16860905160369263, 0.18719587618992647, 0.008850868850587541, 0.024782432781645113, 0.013718846718410687, 0.9850281644038869, 0.9984872574949659, 0.9634474441481183, 0.9994888341477045, 0.21903923839015624, 0.7805276275317519, 0.9976119927280575, 0.9736283672340446, 0.43210480951331204, 0.5634307810320638, 0.9781095228820161, 0.7524804388545455, 0.19797606079202734, 0.048851235779850906, 0.0019926914930382582, 0.9970099770168085, 0.9994808528154783, 0.6129405194838569, 0.3844808713126011, 0.9528212023700771, 0.041427008798699004, 0.9930909862553559, 0.8272797471821981, 0.9711090848521146, 0.9852226481103592, 0.7108234777605609, 0.2887720378402278, 0.00020193848800015933, 0.6167640544940646, 0.09662756590501069, 0.03520260765312657, 0.2514471975223327, 0.9782448325111135, 0.9533535117785696, 0.020431249016026058, 0.02608913335892558, 0.9715737819447567, 0.9666683783668228, 0.9955100418145751, 0.972107375272032, 0.989853154693905, 0.9965799677704243, 0.7598804533402835, 0.23942978781284083, 0.9982247618267086, 0.9930050578770043, 0.9927949459263766, 0.679358299628055, 0.2919201540265892, 0.02844075030038461, 0.9796433847546537, 0.9822189223336723, 0.9979285337266957, 0.7992292344021693, 0.5202811388627776, 0.05804789565824378, 0.4203097630069133, 0.9984921044312718, 0.9993977978463989, 0.9934302426861235, 0.9956860052722022, 0.9983736632793394, 0.9970213853906804, 0.9912150034799888, 0.9954770304708329, 0.9945713526041928, 0.9887614531766024, 0.016150397031488375, 0.8559710426688838, 0.1238197105747442, 0.9997924926843791, 0.08496998153639088, 0.7534687519371528, 0.1612382179756815, 0.5045626660494099, 0.10850810022567954, 0.3824910532955204, 0.9945326000023116, 0.7798962535259946, 0.21867308997169535, 0.0011330211915631884, 0.9878532615443731, 0.9883238715605513, 0.11603497638837458, 0.0726028902541785, 0.781129310323974, 0.0298190442115376, 0.9962730629030659, 0.9973102404273184, 0.9851890771512937, 0.9986286085032978, 0.005925872087437352, 0.9925835746457564, 0.99418638033162, 0.9892654734356372, 0.00837730228621866, 0.6240299891696466, 0.18999089335914773, 0.14146576502199434, 0.032323741840221056, 0.0037144642212478965, 0.9996238836696945, 0.9811709040549779, 0.261534106915881, 0.6185052212677328, 0.11837859576192511, 0.9921833311029311, 0.9845509717939159, 0.9985657450357408, 0.9945459671256813, 0.8045698601189912, 0.19446442834217317, 0.08440652033060944, 0.9068636544320678, 0.008103025951738507, 0.7428138100432896, 0.14339536159096547, 0.07406607265359177, 0.03918611983416774, 0.9939893353593289, 0.7918303650586566, 0.11311862357980808, 0.06415116572143478, 0.015563300559638024, 0.015183707863061488, 0.9986938366828857, 0.9916204551763473, 0.9843944023667787, 0.2503279723786679, 0.6444086417668679, 0.09748746119037231, 0.007435484328079244, 0.9941575535241934, 0.1798578063771161, 0.8175354835323458, 0.9943183381062699, 0.49279726137400115, 0.5066951864891316, 0.914045716158302, 0.9996496848249965, 0.2207348300675632, 0.28559530146182344, 0.12553639624695537, 0.3671939590223445, 0.24762454186292873, 0.05551464655334095, 0.6968549054195693, 0.9954088332494264, 0.9960247604609683, 0.9949866214518667, 0.06049443326888433, 0.0725933199226612, 0.05956374968013226, 0.8069026714480417, 0.9876636024764563, 0.9530249251993289, 0.9976206257498769, 0.9882996693940969, 0.08343327502112029, 0.6725227622914544, 0.16686655004224057, 0.073320150776136, 0.03544914687170417, 0.831797078531536, 0.1104641157356975, 0.022184304816485836, 0.969500880116701, 0.9899027859425447, 0.9734661269539725, 0.022972651963515577, 0.23641017759305166, 0.6577352465707675, 0.10533126724442896, 0.7861172647607753, 0.1236824496556953, 0.08961736818272838, 0.3973973101432845, 0.5918683342559556, 0.9983627616044277, 0.9901618703680496, 0.9940492328680274, 0.9997805523897382, 0.9950190968625185, 0.9870344400579433, 0.03694264387945696, 0.856948214580846, 0.08357516156336166, 0.02240783317278537, 0.980509684619978, 0.9954751599193947, 0.2755761922604113, 0.08083343300228844, 0.004725127607649429, 0.5692091221643402, 0.05973911332528206, 0.0023625638038247145, 0.00033750911483210205, 0.006750182296642041, 0.0006750182296642041, 0.9038825099974015, 0.9989320091511029, 0.11096304181427848, 0.8824203801421193, 0.9916512926368948, 0.20835365986133414, 0.23775325603808684, 0.5522011107981372, 0.9977650160559116, 0.6674551344001535, 0.3293934429507251, 0.980469304701609, 0.9982814222972177, 0.9955944404075017, 0.016536258165894095, 0.9829886798614823, 0.9908280821582848, 0.9514188911984739, 0.9981476052762267, 0.9967069188390271, 0.9860233291089431, 0.9983690623477731, 0.9937281754537503, 0.9253342343745787, 0.07384376305390353, 0.0006534846287956065, 0.02937436346987017, 0.27276194650593727, 0.6965920479997784, 0.0006993896064254803, 0.9983299462816424, 0.9995340006509508, 0.9960939237509578, 0.7764482976260608, 0.22041112964868823, 0.9237044260144552, 0.07424574582622098, 0.008392168556513632, 0.3906173000849982, 0.506581811047732, 0.033950136433168784, 0.06065249093116671, 0.9896086662044181, 0.9855167297830333, 0.5249140983707926, 0.28493314173195416, 0.16671243447919307, 0.011326534826611842, 0.011680489039943462, 0.8524271337933965, 0.12217196705833697, 0.005553271229924408, 0.018048131497254323, 0.9584257456240155, 0.9489792095834954, 0.0022648484414727775, 0.9719030874470057, 0.01415530275920486, 0.011324242207363888, 0.6515549119497239, 0.11997470050065738, 0.08552042753636603, 0.14212387597770182, 0.996507589960378, 0.9804106438371838, 0.9450961162317533, 0.11832196088516905, 0.18405638359915186, 0.6441973425970314, 0.05258753817118624, 0.07491880567563249, 0.3043253554686037, 0.05631827461133752, 0.38751106383947836, 0.057351637448242794, 0.06510185872503237, 0.028934159433347716, 0.025317389504179253, 0.4591535975533369, 0.5326181731618708, 0.7835619468206074, 0.18835623721649217, 0.025831712532547495, 0.31533813891154455, 0.670963043731825, 0.013332311020157214, 0.08125457913824519, 0.18862670157092634, 0.7254873137343321, 0.35579214659810465, 0.1584892289391557, 0.20485002379890874, 0.04528263683975877, 0.23503844835874793, 0.9814430624099465, 0.98974522624553, 0.998659999086244, 0.9991162974830525, 0.9746884515842126, 0.024729916735052756, 0.9829909340309682, 0.9939080002520292, 0.00705346173600058, 0.4334672848669448, 0.31676455432584427, 0.24302381799492911, 0.995237843210585, 0.9938617637499264, 0.9927658677693496, 0.9903104260355027, 0.3226266835551722, 0.5583139660681086, 0.1181832482917894, 0.995063324697172, 0.9927082691726425, 0.9970070875046675, 0.9977428696924417, 0.7271337250511873, 0.2666156991854354, 0.9886312861374159, 0.9787863158630287, 0.9865637658071174, 0.0131541835440949, 0.972764480050477, 0.9983160648572479, 0.001471538235878513, 0.9976545407847682, 0.9828439918067965, 0.9957786598748583, 0.9824187709417108, 0.9955965352445485, 0.9935156183868651, 0.05315775838745848, 0.943550211377388, 0.2694215035775948, 0.27956708321022394, 0.014654726136019803, 0.05467340135361234, 0.2919672360945484, 0.0890556434419665, 0.9944579386754685, 0.9994045423217636, 0.4906064748776089, 0.97390119712282, 0.990430257980207, 0.9800519380203561, 0.9994333167906945, 0.9880162277199377, 0.19260098143676255, 0.6647082652024854, 0.06498325796443614, 0.07672722024716558, 0.9519313097680615, 0.2790541740537479, 0.7202614492468357, 0.9814162004441294, 0.9938981803593216, 0.9901136269266536, 0.030033884426987487, 0.09439220819910353, 0.056849852665369176, 0.13407984119190844, 0.6821982319844301, 0.9768884794804762, 0.3555942009778386, 0.6426401222491059, 0.9965298429165333, 0.9988064584048066, 0.9925816559642784, 0.3950017913334619, 0.5998175349878496, 0.47285078910140316, 0.09398729089997074, 0.43205010467971044, 0.993908236098174, 0.9969109927488518, 0.9968532975131271, 0.9901265170678069, 0.9778811588076907, 0.9957033101087521, 0.24225742642868767, 0.7201652585652806, 0.036889199024368345, 0.34210139352098057, 0.20240999116658015, 0.19100661138254746, 0.2594268900867436, 0.9989433653840043, 0.9955208973304771, 0.9985351332180185, 0.025095003907885542, 0.9533956612867627, 0.0002144872128879106, 0.01072436064439553, 0.01050987343150762, 0.8606170104607102, 0.1340305180225696, 0.995135212594308, 0.986111838727465, 0.9545781639321067, 0.582923147785685, 0.016726632648082784, 0.37049491315503363, 0.03010793876654901, 0.13709707802967097, 0.5717951303188715, 0.13876899361539866, 0.1504724027154925, 0.4439829138054851, 0.5537125312859281, 0.9822694713115053, 0.933931267642616, 0.9967729522773534, 0.9942540522984649, 0.9962096809865675, 0.9965064995474527, 0.885953668431926, 0.11376058777530568, 0.28293616938062216, 0.48731936628539035, 0.18198105290239502, 0.03709445922470882, 0.010619198130995074, 0.4847365807111283, 0.5127021526752319, 0.23998038787396708, 0.21253980298193342, 0.3467492090902435, 0.20006680984919084, 0.9924013877074651, 0.991517086334116, 0.9460967813718398, 0.9949250134555945, 0.4722045547038846, 0.5213925291522059, 0.9971245184788476, 0.997189935422984, 0.996754447204948, 0.999109497827942, 0.9877396428715659, 0.9908638168576601, 0.22302313895137144, 0.3399217407688777, 0.3216058308066878, 0.016161097025461698, 0.0005387032341820566, 0.09912139508949842, 0.9866932259518512, 0.9885046733410515, 0.9918529604202161, 0.9911367426354857, 0.5614829985229233, 0.43723591607950607, 0.9933303834489337, 0.8860204465309681, 0.11256817148549185, 0.3259545859961004, 0.6620952528045789, 0.9823311733586494, 0.995577850210804, 0.9998320349172486, 0.9854943547587532, 0.9368235095906486, 0.04315501771626788, 0.0200438133755705, 0.277807905813118, 0.6601391176255362, 0.03698989243147041, 0.02486457499542824, 0.9807085341054247, 0.9983620609113806, 0.003085922869995554, 0.06809603133123522, 0.9068498673960268, 0.00020572819133303692, 0.02160146008996888, 0.09515358904564072, 0.5480364938704624, 0.12646996012395287, 0.22102131126424143, 0.009635806485634503, 0.7573240529978811, 0.24131681688746043, 0.6711022366104366, 0.07989312340600435, 0.2476686825586135, 0.9951686263219436, 0.9767435861711868, 0.010825978140961855, 0.9851640108275288, 0.023629754585845625, 0.9303121898057, 0.045509156980147125, 0.016206247496788954, 0.43216659991437206, 0.4375686824133017, 0.11344373247752267, 0.23085684674746051, 0.7633666399116028, 0.9850566918567295, 0.9934705267260735, 0.040209785926115474, 0.4976784979379866, 0.4488994133718793, 0.013183536369218188, 0.8303646828121147, 0.1694211812511815, 0.9867668608222789, 0.2502318547904383, 0.749588343774897, 0.9913550202059531, 0.9905592119449732, 0.027082029189338518, 0.9672153281906614, 0.9973658781985287, 0.8926159295716637, 0.1231154912939487, 0.8743712442917173, 0.7339855010322631, 0.26576139574471924, 0.7326825189236104, 0.26637248744977543, 0.9913382698279237, 0.05423931557473875, 0.8369332365266651, 0.061105051723439864, 0.04737357942603765, 0.8866315742710908, 0.11232259835779318, 0.7209706186270484, 0.277296391779634, 0.9983674507324528, 0.9576463839928196, 0.007388160934551511, 0.03482990154859998, 0.9934937878396335, 0.5607454836858289, 0.18599326154314175, 0.015211344810219771, 0.2177988006917831, 0.019359893394825165, 0.9949221135314396, 0.9934236500958595, 0.9978315355839036, 0.4569532242597473, 0.5403968565158751, 0.9944920445307495, 0.9944859961668286, 0.20312434970461285, 0.12408433078189739, 0.6620663950623156, 0.004249463382941692, 0.006799141412706706, 0.9950518898069799, 0.034129322533085066, 0.6542092611398104, 0.3113821336726413, 0.7327501444851224, 0.2393720158161099, 0.027177608782615097, 0.9983017818588001, 0.9812846165051587, 0.9918069877303284, 0.9956948184313903, 0.9889751735528951, 0.9868260373521424, 0.9996035597069332, 0.11824206432518053, 0.8796056004678063, 0.9967421662846705, 0.9864502090948573, 0.9830532662471139, 0.9973495592541725, 0.18435114559275856, 0.3009732833481775, 0.34044847430662695, 0.17393129823316786, 0.00020038167999212887, 0.8252641914624892, 0.09990358884175402, 0.07447358440930754, 0.9368742375030537, 0.06194209834730933, 0.9337464980196921, 0.06336802581371163, 0.1992880949070578, 0.1586170551301072, 0.6377958510476339, 0.004436840702940062, 0.9941871761135116, 0.23031252594358737, 0.7649666040269152, 0.9803212815441368, 0.9593113636917736, 0.029070041323993143, 0.9976464583014466, 0.9903958248997725, 0.9909690818755985, 0.9843336368477734, 0.9990007613471914, 0.9939003755271535, 0.24178130313839133, 0.7560462971152871, 0.9860547973674719, 0.9900225832786415, 0.9787767890436867, 0.019949590604712086, 0.45122894644007616, 0.4185780904721176, 0.057065459980035704, 0.0729496601806642, 0.9892050301180174, 0.9984006110683, 0.9998591414904449, 0.0468007728044878, 0.1829484755084523, 0.2949866891919231, 0.017018462837995563, 0.4339708023688869, 0.022691283783994085, 0.9902853612027466, 0.9842931314325386, 0.9993492582525274, 0.99889449425008, 0.9961179113533827, 0.9966464604952634, 0.9927925498244283, 0.9718189080412668, 0.47635387810521246, 0.11679830665079728, 0.23976243642795642, 0.13917143628073883, 0.027658120881108857, 0.9399012425288561, 0.04176936109319876, 0.9554741350069217, 0.9856148070634698, 0.38698081195655765, 0.6118480405259087, 0.9874137671127109, 0.9927737810268928, 0.28531335189935336, 0.024631368509296692, 0.6896783182603073, 0.9993874711381311, 0.9956158641176984, 0.977385202496482, 0.9891460615035188, 0.9793938700483535, 0.9959120677713912, 0.5730983944077203, 0.4268594937657503, 0.996587219750451, 0.8244993652324144, 0.1743434781108189, 0.9899471815249425, 0.04734211084716171, 0.9512805398351556, 0.4511024980767252, 0.5445451583926183, 0.9944606219688538, 0.9785734152420039, 0.9890694174608617, 0.9903948519998623, 0.9882526817090715, 0.9555158882729002, 0.9946288440340131, 0.9945678055415366, 0.07466449045519499, 0.8288512627298918, 0.0022625603168240907, 0.09351915976206242, 0.8867403791980455, 0.003515323604353005, 0.10897503173494315, 0.5204048522367968, 0.029941992749083993, 0.11358429858076428, 0.054351225968445945, 0.25580876413891324, 0.025711058991061256, 0.9966183884966845, 0.9983474157231558, 0.9977918532505461, 0.9917003117072306, 0.9984402005028407, 0.9617098226833057, 0.03642840237436764, 0.0908613596790132, 0.9081328488553223, 0.9946759025719599, 0.998829481604836, 0.7997920290333247, 0.19959905785648416, 0.9994313445762061, 0.9988665804495419, 0.9089532338217564, 0.08527106185553403, 0.0027214168677298094, 0.001814277911819873, 0.9984238360994343, 0.9993228992934228, 0.9860481171443151, 0.003622764167452567, 0.134042274195745, 0.778894296002302, 0.03018970139543806, 0.019321408893080358, 0.033208671534981866, 0.9982311518913748, 0.942027172540068, 0.9899945394202115, 0.9912676991700555, 0.9921920891001283, 0.9944800090207497, 0.9952050600248266, 0.9866863852742057, 0.7847523104386062, 0.02291247621718558, 0.019332401808250334, 0.17327560139246595, 0.9834836662317848, 0.9881483246540105, 0.11519324233773677, 0.012469371593260167, 0.046908588374645385, 0.6834403192305929, 0.0029688979983952778, 0.13003773232971316, 0.008906693995185833, 0.9972891854563988, 0.24059395736860248, 0.18316185141609737, 0.324413787677664, 0.035701038835341016, 0.21575845209184352, 0.9857285155246556, 0.7678187152816813, 0.12080780208761406, 0.11067291936214309, 0.7544114485897294, 0.00229653409007528, 0.24228434650294203], \"Term\": [\"acceptance\", \"accordance\", \"accordingly\", \"account\", \"account\", \"account\", \"accountable\", \"acct_acct\", \"accuracy\", \"accurate\", \"accurate\", \"acquaint\", \"act\", \"act\", \"action\", \"action\", \"active\", \"activity\", \"activity\", \"activity\", \"actual\", \"actual\", \"add\", \"add\", \"add\", \"add\", \"address\", \"address\", \"address\", \"address\", \"address\", \"address\", \"adequate\", \"adverse_item\", \"advertise\", \"advice\", \"affidavit\", \"affiliate\", \"age\", \"age\", \"agency\", \"agency\", \"agency\", \"agency\", \"agent\", \"agent\", \"ago\", \"agree\", \"agreement\", \"agreement\", \"agreement\", \"agreement\", \"alert\", \"alert\", \"allege\", \"alleged\", \"also\", \"also\", \"also\", \"also\", \"also\", \"also\", \"also\", \"also\", \"also\", \"alternative\", \"always\", \"amount\", \"amount\", \"amount\", \"amount\", \"andor\", \"answer\", \"antedate\", \"anxiety\", \"anyway\", \"apart\", \"app\", \"application\", \"application\", \"apply\", \"apply\", \"apply\", \"apply\", \"apply\", \"appropriate\", \"appropriate\", \"approval\", \"approve\", \"arrive\", \"ask\", \"ask\", \"ask\", \"ask\", \"assistance\", \"assistance\", \"assistance\", \"assumption\", \"assure_maximum_possible\", \"attach\", \"attach\", \"attach\", \"attach\", \"attached\", \"attachment\", \"attempt\", \"attempt\", \"attempt\", \"attempt\", \"attorney\", \"auction\", \"authorization\", \"authorization\", \"authorize\", \"authorize\", \"authorize\", \"auto\", \"automatically\", \"await\", \"aware\", \"aware\", \"back\", \"back\", \"balance\", \"bank\", \"banking\", \"bankruptcy\", \"base\", \"base\", \"base\", \"base\", \"bear\", \"behalf\", \"behalf\", \"behavior\", \"belong\", \"belong\", \"belong\", \"bill\", \"bill\", \"billing\", \"billing\", \"billing\", \"billing_error\", \"birth\", \"block\", \"bogus\", \"bond\", \"bonus\", \"borrower\", \"bounce\", \"branch\", \"breach\", \"breach\", \"bureau\", \"bureau\", \"bureaus\", \"business\", \"business\", \"business\", \"business\", \"ca\", \"call\", \"called_wells_fargo\", \"cancellation\", \"car\", \"card\", \"card\", \"cardholder\", \"care\", \"care\", \"case\", \"case\", \"case\", \"cash\", \"cash\", \"cause\", \"cause\", \"cause\", \"cause\", \"cause\", \"cease\", \"cell\", \"certified_mail\", \"certify\", \"change\", \"change\", \"change\", \"charge\", \"charge\", \"chase\", \"chat\", \"check\", \"check\", \"child\", \"circumstance\", \"circumstance\", \"citizen\", \"claim\", \"clarification\", \"clause\", \"clean\", \"close\", \"close\", \"closed\", \"closed\", \"co\", \"code\", \"collect\", \"collection\", \"collector\", \"collector_obtain\", \"commercial\", \"commit\", \"communicate\", \"communicate\", \"communication\", \"communication\", \"communication\", \"company\", \"company\", \"company\", \"company\", \"company\", \"compensate\", \"competent_jurisdiction\", \"complain\", \"complain\", \"complaint\", \"complaint\", \"complaint\", \"complaint\", \"completeness\", \"completion\", \"completion\", \"compliant\", \"condition\", \"conduct\", \"conduct\", \"conduct\", \"conduct_reasonable\", \"conduct_reasonable_reinvestigation\", \"confidentiality\", \"connect\", \"connection\", \"connection\", \"consent\", \"consequence\", \"constitute\", \"constitute\", \"consumer\", \"consumer\", \"contact\", \"contact\", \"contact\", \"contact\", \"contain\", \"contain\", \"continue\", \"continue\", \"continue\", \"continue\", \"continue\", \"contract\", \"contract\", \"control\", \"conversation\", \"conviction\", \"copy\", \"copy\", \"copy\", \"correct\", \"correct\", \"correction\", \"correspondence\", \"cost\", \"cost\", \"cost\", \"countless\", \"country\", \"court\", \"cover\", \"cover\", \"create\", \"create\", \"credit\", \"credit\", \"credit\", \"credit\", \"creditor\", \"creditor\", \"creditor\", \"creditor\", \"creditor\", \"creditor\", \"crime\", \"criminal\", \"currency\", \"current\", \"current\", \"current\", \"currently\", \"currently\", \"currently\", \"currently\", \"customer\", \"customer_service\", \"data_breach\", \"date\", \"date\", \"date\", \"date\", \"date\", \"date\", \"date\", \"datum\", \"daughter\", \"day\", \"day\", \"day\", \"day\", \"day\", \"day\", \"dear\", \"dear\", \"debit\", \"debt\", \"debtor\", \"debts\", \"deceive\", \"deception\", \"deceptive\", \"deceptive\", \"deceptive\", \"decline\", \"deem\", \"default\", \"define\", \"delete\", \"delete\", \"deletion\", \"delinquency\", \"delinquent\", \"deliver\", \"delivery\", \"demand\", \"demand\", \"demand\", \"demand\", \"denial\", \"department\", \"deposit\", \"dept_ed\", \"depte\", \"derogatory\", \"derogatory\", \"describe\", \"desist\", \"detail\", \"determine_whether\", \"different\", \"different\", \"different\", \"direct_deposit\", \"directly\", \"directly\", \"directly\", \"directly\", \"directly\", \"discharge\", \"disclose\", \"display\", \"dispute\", \"dispute\", \"dispute\", \"disregard\", \"do\", \"do\", \"do\", \"do\", \"document\", \"document\", \"document\", \"documentation\", \"dollar\", \"due\", \"due\", \"due\", \"due\", \"due\", \"due\", \"due\", \"due\", \"early\", \"ecoa\", \"effect\", \"effort\", \"else\", \"email\", \"employment\", \"enclosure\", \"end\", \"end\", \"end\", \"end\", \"enforce\", \"enforcement\", \"engage\", \"ensure\", \"ensure\", \"ensure\", \"ensure\", \"entity\", \"equal\", \"equifax\", \"equipment\", \"erroneous\", \"erroneous\", \"erroneous\", \"erroneous\", \"error\", \"error\", \"error\", \"error\", \"error\", \"escrow\", \"especially\", \"establish\", \"evaluate\", \"even\", \"even\", \"eventually\", \"evidence\", \"exactly\", \"exchange\", \"exclusions_except\", \"exercise\", \"exercise\", \"expense\", \"experian\", \"expire\", \"explain\", \"extra\", \"fact\", \"fact\", \"fact\", \"fail\", \"fail\", \"failure\", \"failure\", \"fair\", \"fair\", \"fair\", \"fairness_impartiality\", \"fall\", \"falsify\", \"family\", \"favor\", \"fax\", \"fcra\", \"fdcpa\", \"fear\", \"federal\", \"federal\", \"federal_trade_commission\", \"fee\", \"feel\", \"feel\", \"feel\", \"feel\", \"file\", \"file\", \"file\", \"file\", \"file\", \"file\", \"filing\", \"finance\", \"financial\", \"financial\", \"financial\", \"financial\", \"financial_institution\", \"financially\", \"fine\", \"firm\", \"follow\", \"follow\", \"follow\", \"follow\", \"follow\", \"follow\", \"follow\", \"foreclose\", \"form\", \"fourth\", \"fraud\", \"fraudulent\", \"fraudulent\", \"fraudulently\", \"frca\", \"free\", \"free\", \"frozen\", \"full\", \"full\", \"full\", \"fund\", \"fund\", \"furnish\", \"furnisher\", \"furnisher\", \"furthermore\", \"furthermore\", \"future\", \"ga_ga\", \"game\", \"generate\", \"get\", \"get\", \"get\", \"give\", \"give\", \"give\", \"give\", \"gives_reason\", \"go\", \"go\", \"go\", \"good_stande\", \"got\", \"government\", \"grave\", \"guarantee\", \"hand\", \"happen\", \"happen\", \"hard\", \"hardship\", \"health\", \"help\", \"help\", \"help\", \"helpful\", \"hesitate\", \"high\", \"higher_interest_rate\", \"history\", \"history\", \"history\", \"hold\", \"home\", \"honor\", \"hope\", \"hour\", \"house\", \"hurt\", \"idea\", \"identification\", \"identifie\", \"identify\", \"identify\", \"identify\", \"identity\", \"immediately\", \"immediately\", \"immediately\", \"impact\", \"impact\", \"impact\", \"inaccuracy\", \"inaccurate\", \"inaccurate\", \"inaccurate\", \"inaccurately\", \"incident\", \"include\", \"include\", \"include\", \"include\", \"income\", \"incomplete\", \"inconsistent\", \"incorrect\", \"increase\", \"increase\", \"indeed\", \"indirectly\", \"information\", \"information\", \"information\", \"information\", \"information\", \"information\", \"inquiry\", \"insist\", \"insurance\", \"insurance\", \"insurance\", \"insure\", \"intent\", \"interest\", \"interest_rate\", \"investigate\", \"investigate\", \"investigation\", \"investigation\", \"investigation\", \"issue\", \"issue\", \"issue\", \"issue\", \"issuer\", \"item\", \"item\", \"item\", \"item\", \"item\", \"job\", \"judgment\", \"key\", \"know\", \"know\", \"know\", \"know\", \"knowingly\", \"knowledge\", \"knowledge\", \"lack\", \"last\", \"last\", \"last_digit\", \"late\", \"later\", \"later\", \"later\", \"later\", \"law\", \"law\", \"law\", \"lead\", \"learn\", \"lease\", \"legal\", \"legal\", \"legal\", \"legal\", \"legally\", \"legit\", \"lender\", \"lending\", \"less\", \"less\", \"less\", \"less\", \"letter\", \"letter\", \"letter\", \"letter\", \"level\", \"license\", \"life\", \"life\", \"limit\", \"limit\", \"limit\", \"list\", \"list\", \"list\", \"litigation\", \"litigation\", \"live\", \"living\", \"llc\", \"loan\", \"loss\", \"machine\", \"mail\", \"mail\", \"mail\", \"mail\", \"main\", \"maintain\", \"make\", \"make\", \"make\", \"make\", \"make\", \"make\", \"make\", \"make\", \"make\", \"malicious\", \"manager\", \"mark\", \"mark\", \"market\", \"mean\", \"mean\", \"mean\", \"medical\", \"meet\", \"meet\", \"meeting\", \"message\", \"method\", \"mine\", \"mine\", \"minimum\", \"misleading_representation\", \"miss\", \"mistake\", \"mode\", \"modification\", \"modify\", \"money\", \"money\", \"money\", \"month\", \"month\", \"month\", \"month\", \"monthly\", \"mortgage\", \"mother\", \"move\", \"move\", \"much\", \"much\", \"name\", \"name\", \"name\", \"name\", \"name\", \"national\", \"nature\", \"need\", \"need\", \"need\", \"need\", \"need\", \"negative\", \"negative\", \"negative\", \"negative\", \"negative_impact\", \"negatively_impacte\", \"never\", \"never\", \"never\", \"never\", \"new\", \"new\", \"new\", \"new\", \"next\", \"night\", \"noncompliance\", \"note\", \"note\", \"note\", \"note\", \"notice\", \"notice\", \"notice\", \"notice\", \"notice\", \"notice\", \"notice\", \"notice\", \"notifie\", \"notifie\", \"notify\", \"notify\", \"notify\", \"number\", \"number\", \"number\", \"obligation\", \"obligation\", \"obligation\", \"obtain\", \"obtain\", \"obtain\", \"obtain\", \"obtain\", \"obvious\", \"occasion\", \"old\", \"online\", \"open\", \"open\", \"operate\", \"organization\", \"original\", \"original\", \"original\", \"original\", \"other\", \"outline\", \"outstanding\", \"overdraft_fee\", \"owe\", \"owe\", \"owe\", \"owner\", \"package\", \"paper\", \"paperwork\", \"paragraph\", \"paragraph\", \"particular\", \"pattern\", \"pay\", \"pay\", \"payable\", \"payment\", \"payment\", \"paypal\", \"payroll\", \"pende\", \"period_beginne\", \"permanently\", \"permissible_purpose\", \"permission\", \"permission\", \"person\", \"person\", \"person\", \"person\", \"person\", \"person\", \"person_know\", \"personal\", \"personal_identifiable\", \"personal_interview\", \"personally\", \"pertain\", \"phone\", \"pick\", \"place\", \"place\", \"place\", \"place\", \"plainly_state\", \"plan\", \"plan\", \"portion\", \"position\", \"power\", \"practice\", \"practice\", \"practice\", \"practice\", \"practice\", \"prepare\", \"present\", \"present\", \"principal\", \"privacy\", \"private\", \"procedure\", \"procedure\", \"process\", \"process\", \"process\", \"product\", \"profile\", \"program\", \"prohibit\", \"promissory_note\", \"promptly\", \"proof\", \"proof\", \"proof\", \"proper\", \"proper\", \"proper\", \"proper\", \"property\", \"protect\", \"prove\", \"provide\", \"provide\", \"provide\", \"provide\", \"provide\", \"provision\", \"provision\", \"public\", \"publish\", \"punishable\", \"purchase\", \"purchase\", \"purchase\", \"purchase\", \"purpose\", \"purpose\", \"purpose\", \"purpose\", \"pursuant\", \"pursuant\", \"pursue\", \"quick\", \"rate\", \"real\", \"really\", \"reasonable_cause\", \"receipt\", \"receipt\", \"receive\", \"receive\", \"receive\", \"receive\", \"receive\", \"recent\", \"recent\", \"record\", \"record\", \"record\", \"record\", \"recording\", \"rectify\", \"redeem\", \"reduce\", \"refer\", \"refer\", \"reference\", \"refinance\", \"reflect\", \"refund\", \"refunded\", \"refusal\", \"regard\", \"regard\", \"regard\", \"regard\", \"regard\", \"regard\", \"register\", \"reimburse\", \"reinvestigate\", \"reinvestigation\", \"relate\", \"relate\", \"relationship\", \"release\", \"release\", \"relevant\", \"relevant\", \"remind\", \"removal\", \"remove\", \"removed\", \"report\", \"report\", \"report\", \"reporting\", \"reporting\", \"reporting\", \"reporting\", \"repossession\", \"representative\", \"request\", \"request\", \"request\", \"request\", \"request\", \"require\", \"require\", \"require\", \"require\", \"require\", \"requirement\", \"requirement\", \"research\", \"research\", \"research\", \"reseller\", \"respa\", \"respect\", \"respect\", \"respond\", \"respond\", \"respond\", \"response\", \"response\", \"response\", \"response\", \"responsible\", \"responsible\", \"restore\", \"restrict\", \"result\", \"result\", \"result\", \"result\", \"return\", \"return\", \"ridiculous\", \"right\", \"right\", \"rude\", \"ruin\", \"rule\", \"rule\", \"sale\", \"satisfaction\", \"saving\", \"saving\", \"say\", \"say\", \"score\", \"score\", \"screenshot\", \"section\", \"section\", \"section\", \"section\", \"security\", \"security\", \"seek\", \"seek\", \"sell\", \"send\", \"send\", \"send\", \"serve\", \"service\", \"service\", \"service\", \"service\", \"service\", \"servicer\", \"servicing\", \"set\", \"settle\", \"settle\", \"settlement\", \"seven_year\", \"several\", \"several\", \"several\", \"several\", \"several\", \"share\", \"show\", \"show\", \"show\", \"sign\", \"sign\", \"sign\", \"signature\", \"significant\", \"simply\", \"solution\", \"somehow\", \"sort\", \"speak\", \"specific\", \"specific\", \"specify\", \"ss\", \"ssn\", \"standard\", \"state\", \"state\", \"state\", \"state\", \"state\", \"statement\", \"statement\", \"statement\", \"status\", \"status\", \"steal\", \"steal\", \"still\", \"still\", \"still\", \"still\", \"store\", \"stress\", \"stress\", \"strict\", \"subchapter\", \"subchapter\", \"subsection\", \"subsequent\", \"successful\", \"summon\", \"supervisor\", \"supply\", \"support\", \"support\", \"supposedly\", \"surprise\", \"system\", \"system\", \"take\", \"take\", \"take\", \"take\", \"taken_advantage\", \"talk\", \"tell\", \"term\", \"term\", \"term\", \"term\", \"term\", \"term\", \"terminate\", \"texte\", \"theft\", \"thing\", \"third_party\", \"threaten\", \"tie\", \"tila\", \"time\", \"time\", \"time\", \"time\", \"time\", \"timeframe\", \"title\", \"title\", \"together\", \"total\", \"total\", \"totally\", \"tracking\", \"transaction\", \"transaction\", \"transaction\", \"transfer\", \"treat\", \"trouble\", \"truist\", \"truly\", \"truth\", \"try\", \"try\", \"twice\", \"type\", \"type\", \"ucc\", \"unauthorized\", \"unauthorized\", \"unfair\", \"unfair\", \"united_state\", \"unknown_thing\", \"unlawful\", \"unlawfully\", \"unpaid\", \"unsuccessful\", \"unverifiable\", \"unverifie\", \"update\", \"update\", \"update\", \"update\", \"usc\", \"usc\", \"usc\", \"use\", \"use\", \"use\", \"use\", \"use\", \"use\", \"valid\", \"validate\", \"validation\", \"various\", \"vehicle\", \"verification\", \"verification\", \"verify\", \"verify\", \"veteran\", \"victim\", \"violate\", \"violate\", \"violation\", \"wait\", \"way\", \"way\", \"way\", \"way\", \"website\", \"week\", \"weekend\", \"well\", \"well\", \"well\", \"well\", \"well\", \"well\", \"wells_fargo\", \"willful_non_compliance\", \"willfully\", \"wire\", \"wish\", \"withdraw\", \"withdrawal\", \"wonder\", \"work\", \"work\", \"work\", \"work\", \"world\", \"worth\", \"write\", \"write\", \"write\", \"write\", \"write\", \"write\", \"write\", \"written_instruction\", \"wrong\", \"wrong\", \"wrong\", \"wrong\", \"wrong\", \"wrongfully\", \"year\", \"year\", \"year\", \"yet\", \"yet\", \"yet\"]}, \"R\": 30, \"lambda.step\": 0.01, \"plot.opts\": {\"xlab\": \"PC1\", \"ylab\": \"PC2\"}, \"topic.order\": [17, 2, 6, 5, 18, 14, 4, 12, 7, 1, 15, 10, 11, 8, 16, 3, 9, 13]};\n",
       "\n",
       "function LDAvis_load_lib(url, callback){\n",
       "  var s = document.createElement('script');\n",
       "  s.src = url;\n",
       "  s.async = true;\n",
       "  s.onreadystatechange = s.onload = callback;\n",
       "  s.onerror = function(){console.warn(\"failed to load library \" + url);};\n",
       "  document.getElementsByTagName(\"head\")[0].appendChild(s);\n",
       "}\n",
       "\n",
       "if(typeof(LDAvis) !== \"undefined\"){\n",
       "   // already loaded: just create the visualization\n",
       "   !function(LDAvis){\n",
       "       new LDAvis(\"#\" + \"ldavis_el288424161736149126154173237\", ldavis_el288424161736149126154173237_data);\n",
       "   }(LDAvis);\n",
       "}else if(typeof define === \"function\" && define.amd){\n",
       "   // require.js is available: use it to load d3/LDAvis\n",
       "   require.config({paths: {d3: \"https://d3js.org/d3.v5\"}});\n",
       "   require([\"d3\"], function(d3){\n",
       "      window.d3 = d3;\n",
       "      LDAvis_load_lib(\"https://cdn.jsdelivr.net/gh/bmabey/pyLDAvis@3.4.0/pyLDAvis/js/ldavis.v3.0.0.js\", function(){\n",
       "        new LDAvis(\"#\" + \"ldavis_el288424161736149126154173237\", ldavis_el288424161736149126154173237_data);\n",
       "      });\n",
       "    });\n",
       "}else{\n",
       "    // require.js not available: dynamically load d3 & LDAvis\n",
       "    LDAvis_load_lib(\"https://d3js.org/d3.v5.js\", function(){\n",
       "         LDAvis_load_lib(\"https://cdn.jsdelivr.net/gh/bmabey/pyLDAvis@3.4.0/pyLDAvis/js/ldavis.v3.0.0.js\", function(){\n",
       "                 new LDAvis(\"#\" + \"ldavis_el288424161736149126154173237\", ldavis_el288424161736149126154173237_data);\n",
       "            })\n",
       "         });\n",
       "}\n",
       "</script>"
      ],
      "text/plain": [
       "PreparedData(topic_coordinates=              x         y  topics  cluster       Freq\n",
       "topic                                                \n",
       "16    -0.245593 -0.184164       1        1  19.591065\n",
       "1     -0.178551  0.163537       2        1  17.611872\n",
       "5     -0.251376 -0.123002       3        1  12.935754\n",
       "4     -0.092143 -0.160060       4        1   7.213121\n",
       "17     0.002331 -0.037206       5        1   6.539247\n",
       "13    -0.050664  0.321968       6        1   6.477620\n",
       "3     -0.112083 -0.012580       7        1   6.415169\n",
       "11    -0.079697 -0.154319       8        1   4.982068\n",
       "6     -0.057550  0.274870       9        1   4.013575\n",
       "0      0.026138  0.040749      10        1   2.526896\n",
       "14     0.051758  0.061981      11        1   2.434394\n",
       "9      0.033486  0.117410      12        1   2.375924\n",
       "10    -0.032537 -0.061383      13        1   2.126863\n",
       "7      0.115321 -0.014112      14        1   1.547502\n",
       "15     0.170216 -0.048127      15        1   1.250998\n",
       "2      0.212590 -0.054202      16        1   1.092108\n",
       "8      0.239821 -0.068681      17        1   0.663848\n",
       "12     0.248533 -0.062679      18        1   0.201975, topic_info=            Term          Freq         Total Category  logprob  loglift\n",
       "0        account  23114.000000  23114.000000  Default  30.0000  30.0000\n",
       "5         credit  22097.000000  22097.000000  Default  29.0000  29.0000\n",
       "50        report  18908.000000  18908.000000  Default  28.0000  28.0000\n",
       "96      consumer  10865.000000  10865.000000  Default  27.0000  27.0000\n",
       "19       payment   8154.000000   8154.000000  Default  26.0000  26.0000\n",
       "...          ...           ...           ...      ...      ...      ...\n",
       "1562        scam      0.046139      1.132329  Topic18 -10.4010   3.0044\n",
       "1655        post      0.046145      1.132802  Topic18 -10.4008   3.0041\n",
       "1623  transunion      0.046146      1.134152  Topic18 -10.4008   3.0030\n",
       "2585    coinbase      0.046133      1.132043  Topic18 -10.4011   3.0045\n",
       "2189     exhibit      0.046134      1.132609  Topic18 -10.4011   3.0040\n",
       "\n",
       "[879 rows x 6 columns], token_table=      Topic      Freq         Term\n",
       "term                              \n",
       "1237      9  0.992469   acceptance\n",
       "78        6  0.999123   accordance\n",
       "1064     18  0.964041  accordingly\n",
       "0         2  0.001990      account\n",
       "0         5  0.939318      account\n",
       "...     ...       ...          ...\n",
       "182       4  0.120808         year\n",
       "182       8  0.110673         year\n",
       "402       3  0.754411          yet\n",
       "402       9  0.002297          yet\n",
       "402      13  0.242284          yet\n",
       "\n",
       "[1235 rows x 3 columns], R=30, lambda_step=0.01, plot_opts={'xlab': 'PC1', 'ylab': 'PC2'}, topic_order=[17, 2, 6, 5, 18, 14, 4, 12, 7, 1, 15, 10, 11, 8, 16, 3, 9, 13])"
      ]
     },
     "execution_count": 27,
     "metadata": {},
     "output_type": "execute_result"
    }
   ],
   "source": [
    "# Visualize the topics\n",
    "pyLDAvis.enable_notebook()\n",
    "vis = pyLDAvis.gensim_models.prepare(lda_model, corpus, id2word)\n",
    "vis"
   ]
  }
 ],
 "metadata": {
  "kernelspec": {
   "display_name": "topic_modeling_env",
   "language": "python",
   "name": "python3"
  },
  "language_info": {
   "codemirror_mode": {
    "name": "ipython",
    "version": 3
   },
   "file_extension": ".py",
   "mimetype": "text/x-python",
   "name": "python",
   "nbconvert_exporter": "python",
   "pygments_lexer": "ipython3",
   "version": "3.11.3"
  },
  "orig_nbformat": 4
 },
 "nbformat": 4,
 "nbformat_minor": 2
}
