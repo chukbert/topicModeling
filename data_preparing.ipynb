{
 "cells": [
  {
   "cell_type": "code",
   "execution_count": 2,
   "metadata": {},
   "outputs": [],
   "source": [
    "import numpy as np\n",
    "import pandas as pd\n",
    "import os\n"
   ]
  },
  {
   "cell_type": "code",
   "execution_count": 3,
   "metadata": {},
   "outputs": [
    {
     "name": "stderr",
     "output_type": "stream",
     "text": [
      "C:\\Users\\chuk bert\\AppData\\Local\\Temp\\ipykernel_9740\\1047253087.py:1: DtypeWarning: Columns (9) have mixed types. Specify dtype option on import or set low_memory=False.\n",
      "  df = pd.read_csv(\"complaints.csv\")\n"
     ]
    }
   ],
   "source": [
    "df = pd.read_csv(\"complaints.csv\")"
   ]
  },
  {
   "cell_type": "code",
   "execution_count": 4,
   "metadata": {},
   "outputs": [
    {
     "name": "stdout",
     "output_type": "stream",
     "text": [
      "<class 'pandas.core.frame.DataFrame'>\n",
      "RangeIndex: 3585952 entries, 0 to 3585951\n",
      "Data columns (total 18 columns):\n",
      " #   Column                        Dtype \n",
      "---  ------                        ----- \n",
      " 0   Date received                 object\n",
      " 1   Product                       object\n",
      " 2   Sub-product                   object\n",
      " 3   Issue                         object\n",
      " 4   Sub-issue                     object\n",
      " 5   Consumer complaint narrative  object\n",
      " 6   Company public response       object\n",
      " 7   Company                       object\n",
      " 8   State                         object\n",
      " 9   ZIP code                      object\n",
      " 10  Tags                          object\n",
      " 11  Consumer consent provided?    object\n",
      " 12  Submitted via                 object\n",
      " 13  Date sent to company          object\n",
      " 14  Company response to consumer  object\n",
      " 15  Timely response?              object\n",
      " 16  Consumer disputed?            object\n",
      " 17  Complaint ID                  int64 \n",
      "dtypes: int64(1), object(17)\n",
      "memory usage: 5.1 GB\n"
     ]
    }
   ],
   "source": [
    "df.info(memory_usage=\"deep\")"
   ]
  },
  {
   "cell_type": "code",
   "execution_count": 5,
   "metadata": {},
   "outputs": [
    {
     "name": "stdout",
     "output_type": "stream",
     "text": [
      "<class 'pandas.core.series.Series'>\n",
      "RangeIndex: 3585952 entries, 0 to 3585951\n",
      "Series name: Consumer complaint narrative\n",
      "Non-Null Count    Dtype \n",
      "--------------    ----- \n",
      "1292265 non-null  object\n",
      "dtypes: object(1)\n",
      "memory usage: 1.4 GB\n"
     ]
    }
   ],
   "source": [
    "df['Consumer complaint narrative'].info(memory_usage=\"deep\")"
   ]
  },
  {
   "cell_type": "code",
   "execution_count": 6,
   "metadata": {},
   "outputs": [],
   "source": [
    "df_prepared = df[['Consumer complaint narrative', 'Issue', 'Product']].copy()"
   ]
  },
  {
   "cell_type": "code",
   "execution_count": 7,
   "metadata": {},
   "outputs": [
    {
     "name": "stdout",
     "output_type": "stream",
     "text": [
      "<class 'pandas.core.frame.DataFrame'>\n",
      "RangeIndex: 3585952 entries, 0 to 3585951\n",
      "Data columns (total 3 columns):\n",
      " #   Column                        Dtype \n",
      "---  ------                        ----- \n",
      " 0   Consumer complaint narrative  object\n",
      " 1   Issue                         object\n",
      " 2   Product                       object\n",
      "dtypes: object(3)\n",
      "memory usage: 2.1 GB\n"
     ]
    }
   ],
   "source": [
    "df_prepared.info(memory_usage=\"deep\")"
   ]
  },
  {
   "cell_type": "code",
   "execution_count": 8,
   "metadata": {},
   "outputs": [],
   "source": [
    "df_prepared.dropna(inplace=True)"
   ]
  },
  {
   "cell_type": "code",
   "execution_count": 9,
   "metadata": {},
   "outputs": [
    {
     "name": "stdout",
     "output_type": "stream",
     "text": [
      "<class 'pandas.core.frame.DataFrame'>\n",
      "Int64Index: 1292265 entries, 93 to 3585948\n",
      "Data columns (total 3 columns):\n",
      " #   Column                        Non-Null Count    Dtype \n",
      "---  ------                        --------------    ----- \n",
      " 0   Consumer complaint narrative  1292265 non-null  object\n",
      " 1   Issue                         1292265 non-null  object\n",
      " 2   Product                       1292265 non-null  object\n",
      "dtypes: object(3)\n",
      "memory usage: 1.6 GB\n"
     ]
    }
   ],
   "source": [
    "df_prepared.info(memory_usage=\"deep\")"
   ]
  },
  {
   "cell_type": "code",
   "execution_count": 11,
   "metadata": {},
   "outputs": [],
   "source": [
    "df_prepared.drop_duplicates(inplace=True)"
   ]
  },
  {
   "cell_type": "code",
   "execution_count": 14,
   "metadata": {},
   "outputs": [
    {
     "name": "stdout",
     "output_type": "stream",
     "text": [
      "<class 'pandas.core.frame.DataFrame'>\n",
      "Int64Index: 1118903 entries, 93 to 3585948\n",
      "Data columns (total 3 columns):\n",
      " #   Column                        Non-Null Count    Dtype \n",
      "---  ------                        --------------    ----- \n",
      " 0   Consumer complaint narrative  1118903 non-null  object\n",
      " 1   Issue                         1118903 non-null  object\n",
      " 2   Product                       1118903 non-null  object\n",
      "dtypes: object(3)\n",
      "memory usage: 1.4 GB\n"
     ]
    }
   ],
   "source": [
    "df_prepared.info(memory_usage=\"deep\")"
   ]
  },
  {
   "cell_type": "code",
   "execution_count": 17,
   "metadata": {},
   "outputs": [],
   "source": [
    "df_duplicated = df_prepared.loc[df_prepared['Consumer complaint narrative'].duplicated()]\n"
   ]
  },
  {
   "cell_type": "code",
   "execution_count": 18,
   "metadata": {},
   "outputs": [
    {
     "data": {
      "text/html": [
       "<div>\n",
       "<style scoped>\n",
       "    .dataframe tbody tr th:only-of-type {\n",
       "        vertical-align: middle;\n",
       "    }\n",
       "\n",
       "    .dataframe tbody tr th {\n",
       "        vertical-align: top;\n",
       "    }\n",
       "\n",
       "    .dataframe thead th {\n",
       "        text-align: right;\n",
       "    }\n",
       "</style>\n",
       "<table border=\"1\" class=\"dataframe\">\n",
       "  <thead>\n",
       "    <tr style=\"text-align: right;\">\n",
       "      <th></th>\n",
       "      <th>Consumer complaint narrative</th>\n",
       "      <th>Issue</th>\n",
       "      <th>Product</th>\n",
       "    </tr>\n",
       "  </thead>\n",
       "  <tbody>\n",
       "    <tr>\n",
       "      <th>4392</th>\n",
       "      <td>HI I AM SUBMITTING THIS WITHOUT ANY INFLUENCE ...</td>\n",
       "      <td>Problem with a credit reporting company's inve...</td>\n",
       "      <td>Credit reporting, credit repair services, or o...</td>\n",
       "    </tr>\n",
       "    <tr>\n",
       "      <th>15920</th>\n",
       "      <td>I have tried to send my disputes to the major ...</td>\n",
       "      <td>Problem with a credit reporting company's inve...</td>\n",
       "      <td>Credit reporting, credit repair services, or o...</td>\n",
       "    </tr>\n",
       "    <tr>\n",
       "      <th>18486</th>\n",
       "      <td>My name is XXXX XXXX this complaint is not mad...</td>\n",
       "      <td>Problem with a credit reporting company's inve...</td>\n",
       "      <td>Credit reporting, credit repair services, or o...</td>\n",
       "    </tr>\n",
       "    <tr>\n",
       "      <th>19449</th>\n",
       "      <td>My name is XXXX XXXX XXXX there is no third pa...</td>\n",
       "      <td>Improper use of your report</td>\n",
       "      <td>Credit reporting, credit repair services, or o...</td>\n",
       "    </tr>\n",
       "    <tr>\n",
       "      <th>19851</th>\n",
       "      <td>My name is XXXX XXXX XXXX this complaint is no...</td>\n",
       "      <td>Problem with a credit reporting company's inve...</td>\n",
       "      <td>Credit reporting, credit repair services, or o...</td>\n",
       "    </tr>\n",
       "    <tr>\n",
       "      <th>...</th>\n",
       "      <td>...</td>\n",
       "      <td>...</td>\n",
       "      <td>...</td>\n",
       "    </tr>\n",
       "    <tr>\n",
       "      <th>3573583</th>\n",
       "      <td>this acct is fraudulent and when initially sub...</td>\n",
       "      <td>Identity theft / Fraud / Embezzlement</td>\n",
       "      <td>Credit card</td>\n",
       "    </tr>\n",
       "    <tr>\n",
       "      <th>3573653</th>\n",
       "      <td>In XXXX I began having XXXX ( XXXX ) monitor m...</td>\n",
       "      <td>Cont'd attempts collect debt not owed</td>\n",
       "      <td>Debt collection</td>\n",
       "    </tr>\n",
       "    <tr>\n",
       "      <th>3583215</th>\n",
       "      <td>Identity theft</td>\n",
       "      <td>Identity theft / Fraud / Embezzlement</td>\n",
       "      <td>Credit card</td>\n",
       "    </tr>\n",
       "    <tr>\n",
       "      <th>3583602</th>\n",
       "      <td>Chase has mishandled numerous disputes filed p...</td>\n",
       "      <td>Billing disputes</td>\n",
       "      <td>Credit card</td>\n",
       "    </tr>\n",
       "    <tr>\n",
       "      <th>3583851</th>\n",
       "      <td>MY INSURANCE COMPANY, XXXX XXXX &amp; XXXX XXXX SA...</td>\n",
       "      <td>Disclosure verification of debt</td>\n",
       "      <td>Debt collection</td>\n",
       "    </tr>\n",
       "  </tbody>\n",
       "</table>\n",
       "<p>2261 rows × 3 columns</p>\n",
       "</div>"
      ],
      "text/plain": [
       "                              Consumer complaint narrative  \\\n",
       "4392     HI I AM SUBMITTING THIS WITHOUT ANY INFLUENCE ...   \n",
       "15920    I have tried to send my disputes to the major ...   \n",
       "18486    My name is XXXX XXXX this complaint is not mad...   \n",
       "19449    My name is XXXX XXXX XXXX there is no third pa...   \n",
       "19851    My name is XXXX XXXX XXXX this complaint is no...   \n",
       "...                                                    ...   \n",
       "3573583  this acct is fraudulent and when initially sub...   \n",
       "3573653  In XXXX I began having XXXX ( XXXX ) monitor m...   \n",
       "3583215                                     Identity theft   \n",
       "3583602  Chase has mishandled numerous disputes filed p...   \n",
       "3583851  MY INSURANCE COMPANY, XXXX XXXX & XXXX XXXX SA...   \n",
       "\n",
       "                                                     Issue  \\\n",
       "4392     Problem with a credit reporting company's inve...   \n",
       "15920    Problem with a credit reporting company's inve...   \n",
       "18486    Problem with a credit reporting company's inve...   \n",
       "19449                          Improper use of your report   \n",
       "19851    Problem with a credit reporting company's inve...   \n",
       "...                                                    ...   \n",
       "3573583              Identity theft / Fraud / Embezzlement   \n",
       "3573653              Cont'd attempts collect debt not owed   \n",
       "3583215              Identity theft / Fraud / Embezzlement   \n",
       "3583602                                   Billing disputes   \n",
       "3583851                    Disclosure verification of debt   \n",
       "\n",
       "                                                   Product  \n",
       "4392     Credit reporting, credit repair services, or o...  \n",
       "15920    Credit reporting, credit repair services, or o...  \n",
       "18486    Credit reporting, credit repair services, or o...  \n",
       "19449    Credit reporting, credit repair services, or o...  \n",
       "19851    Credit reporting, credit repair services, or o...  \n",
       "...                                                    ...  \n",
       "3573583                                        Credit card  \n",
       "3573653                                    Debt collection  \n",
       "3583215                                        Credit card  \n",
       "3583602                                        Credit card  \n",
       "3583851                                    Debt collection  \n",
       "\n",
       "[2261 rows x 3 columns]"
      ]
     },
     "execution_count": 18,
     "metadata": {},
     "output_type": "execute_result"
    }
   ],
   "source": [
    "df_duplicated"
   ]
  },
  {
   "cell_type": "code",
   "execution_count": 20,
   "metadata": {},
   "outputs": [],
   "source": [
    "df_prepared.drop_duplicates(subset='Consumer complaint narrative', keep=\"first\", inplace=True)"
   ]
  },
  {
   "cell_type": "code",
   "execution_count": 21,
   "metadata": {},
   "outputs": [
    {
     "name": "stdout",
     "output_type": "stream",
     "text": [
      "<class 'pandas.core.frame.DataFrame'>\n",
      "Int64Index: 1116642 entries, 93 to 3585948\n",
      "Data columns (total 3 columns):\n",
      " #   Column                        Non-Null Count    Dtype \n",
      "---  ------                        --------------    ----- \n",
      " 0   Consumer complaint narrative  1116642 non-null  object\n",
      " 1   Issue                         1116642 non-null  object\n",
      " 2   Product                       1116642 non-null  object\n",
      "dtypes: object(3)\n",
      "memory usage: 1.4 GB\n"
     ]
    }
   ],
   "source": [
    "df_prepared.info(memory_usage=\"deep\")"
   ]
  },
  {
   "cell_type": "code",
   "execution_count": 28,
   "metadata": {},
   "outputs": [],
   "source": [
    "df_prepared[:400000].to_csv(\"cleaned_data.csv\", index=False)"
   ]
  },
  {
   "cell_type": "code",
   "execution_count": null,
   "metadata": {},
   "outputs": [],
   "source": []
  }
 ],
 "metadata": {
  "kernelspec": {
   "display_name": "topic_modeling_env",
   "language": "python",
   "name": "python3"
  },
  "language_info": {
   "codemirror_mode": {
    "name": "ipython",
    "version": 3
   },
   "file_extension": ".py",
   "mimetype": "text/x-python",
   "name": "python",
   "nbconvert_exporter": "python",
   "pygments_lexer": "ipython3",
   "version": "3.11.3"
  },
  "orig_nbformat": 4
 },
 "nbformat": 4,
 "nbformat_minor": 2
}
