{
 "cells": [
  {
   "cell_type": "code",
   "execution_count": 2,
   "metadata": {},
   "outputs": [
    {
     "name": "stderr",
     "output_type": "stream",
     "text": [
      "[nltk_data] Downloading package stopwords to C:\\Users\\chuk\n",
      "[nltk_data]     bert\\AppData\\Roaming\\nltk_data...\n",
      "[nltk_data]   Package stopwords is already up-to-date!\n"
     ]
    },
    {
     "data": {
      "text/plain": [
       "True"
      ]
     },
     "execution_count": 2,
     "metadata": {},
     "output_type": "execute_result"
    }
   ],
   "source": [
    "# Run in python console\n",
    "import nltk \n",
    "nltk.download('stopwords')"
   ]
  },
  {
   "cell_type": "code",
   "execution_count": 3,
   "metadata": {},
   "outputs": [],
   "source": [
    "# run this command below in conda prompt (already done)\n",
    "# python3 -m spacy download en \n",
    "import spacy"
   ]
  },
  {
   "cell_type": "code",
   "execution_count": 4,
   "metadata": {},
   "outputs": [],
   "source": [
    "import re\n",
    "import numpy as np\n",
    "import pandas as pd\n",
    "from pprint import pprint\n",
    "\n",
    "# Gensim\n",
    "import gensim\n",
    "import gensim.corpora as corpora\n",
    "from gensim.utils import simple_preprocess\n",
    "from gensim.models import CoherenceModel\n",
    "\n",
    "# spacy for lemmatization\n",
    "import spacy\n",
    "\n",
    "# Plotting tools\n",
    "import pyLDAvis\n",
    "import pyLDAvis.gensim_models  # don't skip this\n",
    "import matplotlib.pyplot as plt\n",
    "%matplotlib inline\n",
    "\n",
    "# Enable logging for gensim - optional\n",
    "import logging\n",
    "logging.basicConfig(format='%(asctime)s : %(levelname)s : %(message)s', level=logging.ERROR)\n",
    "\n",
    "import warnings\n",
    "warnings.filterwarnings(\"ignore\",category=DeprecationWarning)"
   ]
  },
  {
   "cell_type": "code",
   "execution_count": 5,
   "metadata": {},
   "outputs": [],
   "source": [
    "# NLTK Stop words\n",
    "from nltk.corpus import stopwords\n",
    "stop_words = stopwords.words('english')\n",
    "stop_words.extend(['from', 'subject', 're', 'edu', 'use'])"
   ]
  },
  {
   "cell_type": "code",
   "execution_count": 6,
   "metadata": {},
   "outputs": [
    {
     "name": "stdout",
     "output_type": "stream",
     "text": [
      "['rec.autos' 'comp.sys.mac.hardware' 'comp.graphics' 'sci.space'\n",
      " 'talk.politics.guns' 'sci.med' 'comp.sys.ibm.pc.hardware'\n",
      " 'comp.os.ms-windows.misc' 'rec.motorcycles' 'talk.religion.misc'\n",
      " 'misc.forsale' 'alt.atheism' 'sci.electronics' 'comp.windows.x'\n",
      " 'rec.sport.hockey' 'rec.sport.baseball' 'soc.religion.christian'\n",
      " 'talk.politics.mideast' 'talk.politics.misc' 'sci.crypt']\n"
     ]
    },
    {
     "data": {
      "text/html": [
       "<div>\n",
       "<style scoped>\n",
       "    .dataframe tbody tr th:only-of-type {\n",
       "        vertical-align: middle;\n",
       "    }\n",
       "\n",
       "    .dataframe tbody tr th {\n",
       "        vertical-align: top;\n",
       "    }\n",
       "\n",
       "    .dataframe thead th {\n",
       "        text-align: right;\n",
       "    }\n",
       "</style>\n",
       "<table border=\"1\" class=\"dataframe\">\n",
       "  <thead>\n",
       "    <tr style=\"text-align: right;\">\n",
       "      <th></th>\n",
       "      <th>content</th>\n",
       "      <th>target</th>\n",
       "      <th>target_names</th>\n",
       "    </tr>\n",
       "  </thead>\n",
       "  <tbody>\n",
       "    <tr>\n",
       "      <th>0</th>\n",
       "      <td>From: lerxst@wam.umd.edu (where's my thing)\\nS...</td>\n",
       "      <td>7</td>\n",
       "      <td>rec.autos</td>\n",
       "    </tr>\n",
       "    <tr>\n",
       "      <th>1</th>\n",
       "      <td>From: guykuo@carson.u.washington.edu (Guy Kuo)...</td>\n",
       "      <td>4</td>\n",
       "      <td>comp.sys.mac.hardware</td>\n",
       "    </tr>\n",
       "    <tr>\n",
       "      <th>2</th>\n",
       "      <td>From: twillis@ec.ecn.purdue.edu (Thomas E Will...</td>\n",
       "      <td>4</td>\n",
       "      <td>comp.sys.mac.hardware</td>\n",
       "    </tr>\n",
       "    <tr>\n",
       "      <th>3</th>\n",
       "      <td>From: jgreen@amber (Joe Green)\\nSubject: Re: W...</td>\n",
       "      <td>1</td>\n",
       "      <td>comp.graphics</td>\n",
       "    </tr>\n",
       "    <tr>\n",
       "      <th>4</th>\n",
       "      <td>From: jcm@head-cfa.harvard.edu (Jonathan McDow...</td>\n",
       "      <td>14</td>\n",
       "      <td>sci.space</td>\n",
       "    </tr>\n",
       "  </tbody>\n",
       "</table>\n",
       "</div>"
      ],
      "text/plain": [
       "                                             content  target  \\\n",
       "0  From: lerxst@wam.umd.edu (where's my thing)\\nS...       7   \n",
       "1  From: guykuo@carson.u.washington.edu (Guy Kuo)...       4   \n",
       "2  From: twillis@ec.ecn.purdue.edu (Thomas E Will...       4   \n",
       "3  From: jgreen@amber (Joe Green)\\nSubject: Re: W...       1   \n",
       "4  From: jcm@head-cfa.harvard.edu (Jonathan McDow...      14   \n",
       "\n",
       "            target_names  \n",
       "0              rec.autos  \n",
       "1  comp.sys.mac.hardware  \n",
       "2  comp.sys.mac.hardware  \n",
       "3          comp.graphics  \n",
       "4              sci.space  "
      ]
     },
     "execution_count": 6,
     "metadata": {},
     "output_type": "execute_result"
    }
   ],
   "source": [
    "# Import Dataset\n",
    "df = pd.read_json('https://raw.githubusercontent.com/selva86/datasets/master/newsgroups.json')\n",
    "print(df.target_names.unique())\n",
    "df.head()"
   ]
  },
  {
   "cell_type": "code",
   "execution_count": 7,
   "metadata": {},
   "outputs": [
    {
     "data": {
      "text/html": [
       "<div>\n",
       "<style scoped>\n",
       "    .dataframe tbody tr th:only-of-type {\n",
       "        vertical-align: middle;\n",
       "    }\n",
       "\n",
       "    .dataframe tbody tr th {\n",
       "        vertical-align: top;\n",
       "    }\n",
       "\n",
       "    .dataframe thead th {\n",
       "        text-align: right;\n",
       "    }\n",
       "</style>\n",
       "<table border=\"1\" class=\"dataframe\">\n",
       "  <thead>\n",
       "    <tr style=\"text-align: right;\">\n",
       "      <th></th>\n",
       "      <th>content</th>\n",
       "      <th>target</th>\n",
       "      <th>target_names</th>\n",
       "    </tr>\n",
       "  </thead>\n",
       "  <tbody>\n",
       "    <tr>\n",
       "      <th>0</th>\n",
       "      <td>From: lerxst@wam.umd.edu (where's my thing)\\nS...</td>\n",
       "      <td>7</td>\n",
       "      <td>rec.autos</td>\n",
       "    </tr>\n",
       "    <tr>\n",
       "      <th>1</th>\n",
       "      <td>From: guykuo@carson.u.washington.edu (Guy Kuo)...</td>\n",
       "      <td>4</td>\n",
       "      <td>comp.sys.mac.hardware</td>\n",
       "    </tr>\n",
       "    <tr>\n",
       "      <th>2</th>\n",
       "      <td>From: twillis@ec.ecn.purdue.edu (Thomas E Will...</td>\n",
       "      <td>4</td>\n",
       "      <td>comp.sys.mac.hardware</td>\n",
       "    </tr>\n",
       "    <tr>\n",
       "      <th>3</th>\n",
       "      <td>From: jgreen@amber (Joe Green)\\nSubject: Re: W...</td>\n",
       "      <td>1</td>\n",
       "      <td>comp.graphics</td>\n",
       "    </tr>\n",
       "    <tr>\n",
       "      <th>4</th>\n",
       "      <td>From: jcm@head-cfa.harvard.edu (Jonathan McDow...</td>\n",
       "      <td>14</td>\n",
       "      <td>sci.space</td>\n",
       "    </tr>\n",
       "    <tr>\n",
       "      <th>...</th>\n",
       "      <td>...</td>\n",
       "      <td>...</td>\n",
       "      <td>...</td>\n",
       "    </tr>\n",
       "    <tr>\n",
       "      <th>11309</th>\n",
       "      <td>From: jim.zisfein@factory.com (Jim Zisfein) \\n...</td>\n",
       "      <td>13</td>\n",
       "      <td>sci.med</td>\n",
       "    </tr>\n",
       "    <tr>\n",
       "      <th>11310</th>\n",
       "      <td>From: ebodin@pearl.tufts.edu\\nSubject: Screen ...</td>\n",
       "      <td>4</td>\n",
       "      <td>comp.sys.mac.hardware</td>\n",
       "    </tr>\n",
       "    <tr>\n",
       "      <th>11311</th>\n",
       "      <td>From: westes@netcom.com (Will Estes)\\nSubject:...</td>\n",
       "      <td>3</td>\n",
       "      <td>comp.sys.ibm.pc.hardware</td>\n",
       "    </tr>\n",
       "    <tr>\n",
       "      <th>11312</th>\n",
       "      <td>From: steve@hcrlgw (Steven Collins)\\nSubject: ...</td>\n",
       "      <td>1</td>\n",
       "      <td>comp.graphics</td>\n",
       "    </tr>\n",
       "    <tr>\n",
       "      <th>11313</th>\n",
       "      <td>From: gunning@cco.caltech.edu (Kevin J. Gunnin...</td>\n",
       "      <td>8</td>\n",
       "      <td>rec.motorcycles</td>\n",
       "    </tr>\n",
       "  </tbody>\n",
       "</table>\n",
       "<p>11314 rows × 3 columns</p>\n",
       "</div>"
      ],
      "text/plain": [
       "                                                 content  target  \\\n",
       "0      From: lerxst@wam.umd.edu (where's my thing)\\nS...       7   \n",
       "1      From: guykuo@carson.u.washington.edu (Guy Kuo)...       4   \n",
       "2      From: twillis@ec.ecn.purdue.edu (Thomas E Will...       4   \n",
       "3      From: jgreen@amber (Joe Green)\\nSubject: Re: W...       1   \n",
       "4      From: jcm@head-cfa.harvard.edu (Jonathan McDow...      14   \n",
       "...                                                  ...     ...   \n",
       "11309  From: jim.zisfein@factory.com (Jim Zisfein) \\n...      13   \n",
       "11310  From: ebodin@pearl.tufts.edu\\nSubject: Screen ...       4   \n",
       "11311  From: westes@netcom.com (Will Estes)\\nSubject:...       3   \n",
       "11312  From: steve@hcrlgw (Steven Collins)\\nSubject: ...       1   \n",
       "11313  From: gunning@cco.caltech.edu (Kevin J. Gunnin...       8   \n",
       "\n",
       "                   target_names  \n",
       "0                     rec.autos  \n",
       "1         comp.sys.mac.hardware  \n",
       "2         comp.sys.mac.hardware  \n",
       "3                 comp.graphics  \n",
       "4                     sci.space  \n",
       "...                         ...  \n",
       "11309                   sci.med  \n",
       "11310     comp.sys.mac.hardware  \n",
       "11311  comp.sys.ibm.pc.hardware  \n",
       "11312             comp.graphics  \n",
       "11313           rec.motorcycles  \n",
       "\n",
       "[11314 rows x 3 columns]"
      ]
     },
     "execution_count": 7,
     "metadata": {},
     "output_type": "execute_result"
    }
   ],
   "source": [
    "df"
   ]
  },
  {
   "cell_type": "code",
   "execution_count": 8,
   "metadata": {},
   "outputs": [
    {
     "name": "stdout",
     "output_type": "stream",
     "text": [
      "<class 'pandas.core.frame.DataFrame'>\n",
      "Int64Index: 11314 entries, 0 to 11313\n",
      "Data columns (total 3 columns):\n",
      " #   Column        Non-Null Count  Dtype \n",
      "---  ------        --------------  ----- \n",
      " 0   content       11314 non-null  object\n",
      " 1   target        11314 non-null  int64 \n",
      " 2   target_names  11314 non-null  object\n",
      "dtypes: int64(1), object(2)\n",
      "memory usage: 353.6+ KB\n"
     ]
    }
   ],
   "source": [
    "df.info(memory_usage=True)"
   ]
  },
  {
   "cell_type": "code",
   "execution_count": 9,
   "metadata": {},
   "outputs": [
    {
     "name": "stdout",
     "output_type": "stream",
     "text": [
      "['From: (wheres my thing) Subject: WHAT car is this!? Nntp-Posting-Host: '\n",
      " 'rac3.wam.umd.edu Organization: University of Maryland, College Park Lines: '\n",
      " '15 I was wondering if anyone out there could enlighten me on this car I saw '\n",
      " 'the other day. It was a 2-door sports car, looked to be from the late 60s/ '\n",
      " 'early 70s. It was called a Bricklin. The doors were really small. In '\n",
      " 'addition, the front bumper was separate from the rest of the body. This is '\n",
      " 'all I know. If anyone can tellme a model name, engine specs, years of '\n",
      " 'production, where this car is made, history, or whatever info you have on '\n",
      " 'this funky looking car, please e-mail. Thanks, - IL ---- brought to you by '\n",
      " 'your neighborhood Lerxst ---- ']\n"
     ]
    }
   ],
   "source": [
    "# Convert to list\n",
    "data = df.content.values.tolist()\n",
    "\n",
    "# Remove Emails\n",
    "data = [re.sub('\\S*@\\S*\\s?', '', sent) for sent in data]\n",
    "\n",
    "# Remove new line characters\n",
    "data = [re.sub('\\s+', ' ', sent) for sent in data]\n",
    "\n",
    "# Remove distracting single quotes\n",
    "data = [re.sub(\"\\'\", \"\", sent) for sent in data]\n",
    "\n",
    "pprint(data[:1])"
   ]
  },
  {
   "cell_type": "code",
   "execution_count": 10,
   "metadata": {},
   "outputs": [
    {
     "name": "stdout",
     "output_type": "stream",
     "text": [
      "[['from', 'wheres', 'my', 'thing', 'subject', 'what', 'car', 'is', 'this', 'nntp', 'posting', 'host', 'rac', 'wam', 'umd', 'edu', 'organization', 'university', 'of', 'maryland', 'college', 'park', 'lines', 'was', 'wondering', 'if', 'anyone', 'out', 'there', 'could', 'enlighten', 'me', 'on', 'this', 'car', 'saw', 'the', 'other', 'day', 'it', 'was', 'door', 'sports', 'car', 'looked', 'to', 'be', 'from', 'the', 'late', 'early', 'it', 'was', 'called', 'bricklin', 'the', 'doors', 'were', 'really', 'small', 'in', 'addition', 'the', 'front', 'bumper', 'was', 'separate', 'from', 'the', 'rest', 'of', 'the', 'body', 'this', 'is', 'all', 'know', 'if', 'anyone', 'can', 'tellme', 'model', 'name', 'engine', 'specs', 'years', 'of', 'production', 'where', 'this', 'car', 'is', 'made', 'history', 'or', 'whatever', 'info', 'you', 'have', 'on', 'this', 'funky', 'looking', 'car', 'please', 'mail', 'thanks', 'il', 'brought', 'to', 'you', 'by', 'your', 'neighborhood', 'lerxst']]\n"
     ]
    }
   ],
   "source": [
    "def sent_to_words(sentences):\n",
    "    for sentence in sentences:\n",
    "        yield(gensim.utils.simple_preprocess(str(sentence), deacc=True))  # deacc=True removes punctuations\n",
    "\n",
    "data_words = list(sent_to_words(data))\n",
    "\n",
    "print(data_words[:1])"
   ]
  },
  {
   "cell_type": "code",
   "execution_count": 11,
   "metadata": {},
   "outputs": [
    {
     "name": "stdout",
     "output_type": "stream",
     "text": [
      "['from', 'wheres', 'my', 'thing', 'subject', 'what', 'car', 'is', 'this', 'nntp_posting_host', 'rac_wam_umd_edu', 'organization', 'university', 'of', 'maryland_college_park', 'lines', 'was', 'wondering', 'if', 'anyone', 'out', 'there', 'could', 'enlighten', 'me', 'on', 'this', 'car', 'saw', 'the', 'other', 'day', 'it', 'was', 'door', 'sports', 'car', 'looked', 'to', 'be', 'from', 'the', 'late', 'early', 'it', 'was', 'called', 'bricklin', 'the', 'doors', 'were', 'really', 'small', 'in', 'addition', 'the', 'front_bumper', 'was', 'separate', 'from', 'the', 'rest', 'of', 'the', 'body', 'this', 'is', 'all', 'know', 'if', 'anyone', 'can', 'tellme', 'model', 'name', 'engine', 'specs', 'years', 'of', 'production', 'where', 'this', 'car', 'is', 'made', 'history', 'or', 'whatever', 'info', 'you', 'have', 'on', 'this', 'funky', 'looking', 'car', 'please', 'mail', 'thanks', 'il', 'brought', 'to', 'you', 'by', 'your', 'neighborhood', 'lerxst']\n"
     ]
    }
   ],
   "source": [
    "# Build the bigram and trigram models\n",
    "bigram = gensim.models.Phrases(data_words, min_count=5, threshold=100) # higher threshold fewer phrases.\n",
    "trigram = gensim.models.Phrases(bigram[data_words], threshold=100)  \n",
    "\n",
    "# Faster way to get a sentence clubbed as a trigram/bigram\n",
    "bigram_mod = gensim.models.phrases.Phraser(bigram)\n",
    "trigram_mod = gensim.models.phrases.Phraser(trigram)\n",
    "\n",
    "# See trigram example\n",
    "print(trigram_mod[bigram_mod[data_words[0]]])"
   ]
  },
  {
   "cell_type": "code",
   "execution_count": 12,
   "metadata": {},
   "outputs": [],
   "source": [
    "# Define functions for stopwords, bigrams, trigrams and lemmatization\n",
    "def remove_stopwords(texts):\n",
    "    return [[word for word in simple_preprocess(str(doc)) if word not in stop_words] for doc in texts]\n",
    "\n",
    "def make_bigrams(texts):\n",
    "    return [bigram_mod[doc] for doc in texts]\n",
    "\n",
    "def make_trigrams(texts):\n",
    "    return [trigram_mod[bigram_mod[doc]] for doc in texts]\n",
    "\n",
    "def lemmatization(texts, allowed_postags=['NOUN', 'ADJ', 'VERB', 'ADV']):\n",
    "    \"\"\"https://spacy.io/api/annotation\"\"\"\n",
    "    texts_out = []\n",
    "    for sent in texts:\n",
    "        doc = nlp(\" \".join(sent)) \n",
    "        texts_out.append([token.lemma_ for token in doc if token.pos_ in allowed_postags])\n",
    "    return texts_out"
   ]
  },
  {
   "cell_type": "code",
   "execution_count": 13,
   "metadata": {},
   "outputs": [
    {
     "name": "stdout",
     "output_type": "stream",
     "text": [
      "[['s', 'thing', 'car', 'nntp_poste', 'host', 'rac_wam', 'university', 'park', 'line', 'wonder', 'enlighten', 'car', 'see', 'day', 'door', 'sport', 'car', 'look', 'late', 'early', 'call', 'door', 'really', 'small', 'addition', 'separate', 'rest', 'body', 'know', 'model', 'name', 'engine', 'spec', 'year', 'production', 'car', 'make', 'history', 'info', 'funky', 'look', 'car', 'mail', 'thank', 'bring', 'neighborhood', 'lerxst']]\n"
     ]
    }
   ],
   "source": [
    "# Remove Stop Words\n",
    "data_words_nostops = remove_stopwords(data_words)\n",
    "\n",
    "# Form Bigrams\n",
    "data_words_bigrams = make_bigrams(data_words_nostops)\n",
    "\n",
    "# Initialize spacy 'en' model, keeping only tagger component (for efficiency)\n",
    "# python3 -m spacy download en\n",
    "nlp = spacy.load('en_core_web_sm', disable=['parser', 'ner'])\n",
    "\n",
    "# Do lemmatization keeping only noun, adj, vb, adv\n",
    "data_lemmatized = lemmatization(data_words_bigrams, allowed_postags=['NOUN', 'ADJ', 'VERB', 'ADV'])\n",
    "\n",
    "print(data_lemmatized[:1])"
   ]
  },
  {
   "cell_type": "code",
   "execution_count": 14,
   "metadata": {},
   "outputs": [
    {
     "name": "stdout",
     "output_type": "stream",
     "text": [
      "[[(0, 1), (1, 1), (2, 1), (3, 1), (4, 5), (5, 1), (6, 2), (7, 1), (8, 1), (9, 1), (10, 1), (11, 1), (12, 1), (13, 1), (14, 1), (15, 1), (16, 1), (17, 1), (18, 2), (19, 1), (20, 1), (21, 1), (22, 1), (23, 1), (24, 1), (25, 1), (26, 1), (27, 1), (28, 1), (29, 1), (30, 1), (31, 1), (32, 1), (33, 1), (34, 1), (35, 1), (36, 1), (37, 1), (38, 1), (39, 1), (40, 1)]]\n"
     ]
    }
   ],
   "source": [
    "# Create Dictionary\n",
    "id2word = corpora.Dictionary(data_lemmatized)\n",
    "\n",
    "# Create Corpus\n",
    "texts = data_lemmatized\n",
    "\n",
    "# Term Document Frequency\n",
    "corpus = [id2word.doc2bow(text) for text in texts]\n",
    "\n",
    "# View\n",
    "print(corpus[:1])"
   ]
  },
  {
   "cell_type": "code",
   "execution_count": 15,
   "metadata": {},
   "outputs": [
    {
     "data": {
      "text/plain": [
       "[[('addition', 1),\n",
       "  ('body', 1),\n",
       "  ('bring', 1),\n",
       "  ('call', 1),\n",
       "  ('car', 5),\n",
       "  ('day', 1),\n",
       "  ('door', 2),\n",
       "  ('early', 1),\n",
       "  ('engine', 1),\n",
       "  ('enlighten', 1),\n",
       "  ('funky', 1),\n",
       "  ('history', 1),\n",
       "  ('host', 1),\n",
       "  ('info', 1),\n",
       "  ('know', 1),\n",
       "  ('late', 1),\n",
       "  ('lerxst', 1),\n",
       "  ('line', 1),\n",
       "  ('look', 2),\n",
       "  ('mail', 1),\n",
       "  ('make', 1),\n",
       "  ('model', 1),\n",
       "  ('name', 1),\n",
       "  ('neighborhood', 1),\n",
       "  ('nntp_poste', 1),\n",
       "  ('park', 1),\n",
       "  ('production', 1),\n",
       "  ('rac_wam', 1),\n",
       "  ('really', 1),\n",
       "  ('rest', 1),\n",
       "  ('s', 1),\n",
       "  ('see', 1),\n",
       "  ('separate', 1),\n",
       "  ('small', 1),\n",
       "  ('spec', 1),\n",
       "  ('sport', 1),\n",
       "  ('thank', 1),\n",
       "  ('thing', 1),\n",
       "  ('university', 1),\n",
       "  ('wonder', 1),\n",
       "  ('year', 1)]]"
      ]
     },
     "execution_count": 15,
     "metadata": {},
     "output_type": "execute_result"
    }
   ],
   "source": [
    "# Human readable format of corpus (term-frequency)\n",
    "[[(id2word[id], freq) for id, freq in cp] for cp in corpus[:1]]"
   ]
  },
  {
   "cell_type": "code",
   "execution_count": 16,
   "metadata": {},
   "outputs": [],
   "source": [
    "# Build LDA model\n",
    "lda_model = gensim.models.ldamodel.LdaModel(corpus=corpus,\n",
    "                                           id2word=id2word,\n",
    "                                           num_topics=20, \n",
    "                                           random_state=100,\n",
    "                                           update_every=1,\n",
    "                                           chunksize=100,\n",
    "                                           passes=10,\n",
    "                                           alpha='auto',\n",
    "                                           per_word_topics=True)"
   ]
  },
  {
   "cell_type": "code",
   "execution_count": 17,
   "metadata": {},
   "outputs": [
    {
     "name": "stdout",
     "output_type": "stream",
     "text": [
      "[(0,\n",
      "  '0.021*\"research\" + 0.019*\"information\" + 0.019*\"high\" + 0.019*\"report\" + '\n",
      "  '0.018*\"player\" + 0.016*\"service\" + 0.015*\"rate\" + 0.014*\"design\" + '\n",
      "  '0.013*\"season\" + 0.012*\"low\"'),\n",
      " (1,\n",
      "  '0.077*\"team\" + 0.072*\"game\" + 0.053*\"play\" + 0.050*\"faith\" + 0.049*\"win\" + '\n",
      "  '0.031*\"belief\" + 0.025*\"atheist\" + 0.025*\"year\" + 0.018*\"wing\" + '\n",
      "  '0.018*\"score\"'),\n",
      " (2,\n",
      "  '0.106*\"space\" + 0.029*\"notice\" + 0.029*\"launch\" + 0.026*\"earth\" + '\n",
      "  '0.024*\"mission\" + 0.024*\"orbit\" + 0.023*\"external\" + 0.020*\"vehicle\" + '\n",
      "  '0.019*\"satellite\" + 0.019*\"door\"'),\n",
      " (3,\n",
      "  '0.022*\"say\" + 0.019*\"people\" + 0.017*\"reason\" + 0.017*\"believe\" + '\n",
      "  '0.015*\"evidence\" + 0.014*\"mean\" + 0.012*\"point\" + 0.012*\"question\" + '\n",
      "  '0.011*\"many\" + 0.010*\"claim\"'),\n",
      " (4,\n",
      "  '0.078*\"book\" + 0.044*\"science\" + 0.042*\"reference\" + 0.036*\"pin\" + '\n",
      "  '0.032*\"section\" + 0.025*\"faq\" + 0.024*\"author\" + 0.023*\"copy\" + '\n",
      "  '0.023*\"reality\" + 0.022*\"internal\"'),\n",
      " (5,\n",
      "  '0.065*\"cost\" + 0.059*\"model\" + 0.039*\"character\" + 0.036*\"picture\" + '\n",
      "  '0.036*\"format\" + 0.032*\"quality\" + 0.032*\"associate\" + 0.028*\"handle\" + '\n",
      "  '0.023*\"hole\" + 0.023*\"gift\"'),\n",
      " (6,\n",
      "  '0.032*\"system\" + 0.028*\"use\" + 0.024*\"program\" + 0.023*\"file\" + '\n",
      "  '0.018*\"card\" + 0.016*\"run\" + 0.014*\"software\" + 0.014*\"bit\" + '\n",
      "  '0.013*\"machine\" + 0.013*\"problem\"'),\n",
      " (7,\n",
      "  '0.092*\"moral\" + 0.056*\"property\" + 0.045*\"serial\" + 0.036*\"lock\" + '\n",
      "  '0.022*\"positively\" + 0.021*\"intent\" + 0.018*\"alarm\" + 0.012*\"converter\" + '\n",
      "  '0.011*\"unnecessary\" + 0.007*\"provision\"'),\n",
      " (8,\n",
      "  '0.249*\"window\" + 0.057*\"monitor\" + 0.055*\"normal\" + 0.041*\"do\" + '\n",
      "  '0.032*\"font\" + 0.023*\"left\" + 0.020*\"widget\" + 0.019*\"please_respond\" + '\n",
      "  '0.017*\"environment\" + 0.017*\"trivial\"'),\n",
      " (9,\n",
      "  '0.061*\"child\" + 0.028*\"church\" + 0.027*\"woman\" + 0.025*\"armenian\" + '\n",
      "  '0.022*\"authority\" + 0.020*\"community\" + 0.019*\"greek\" + 0.017*\"period\" + '\n",
      "  '0.017*\"turk\" + 0.016*\"soldier\"'),\n",
      " (10,\n",
      "  '0.765*\"ax\" + 0.035*\"physical\" + 0.024*\"graphic\" + 0.014*\"direct\" + '\n",
      "  '0.011*\"convert\" + 0.006*\"daughter\" + 0.006*\"capture\" + 0.005*\"human_being\" '\n",
      "  '+ 0.004*\"split\" + 0.003*\"accomplish\"'),\n",
      " (11,\n",
      "  '0.130*\"line\" + 0.076*\"organization\" + 0.074*\"write\" + 0.063*\"article\" + '\n",
      "  '0.056*\"nntp_poste\" + 0.050*\"host\" + 0.029*\"reply\" + 0.024*\"thank\" + '\n",
      "  '0.018*\"university\" + 0.013*\"post\"'),\n",
      " (12,\n",
      "  '0.072*\"plane\" + 0.030*\"hi\" + 0.021*\"subscription\" + 0.020*\"steve\" + '\n",
      "  '0.015*\"divide\" + 0.011*\"evolve\" + 0.010*\"intersection\" + 0.010*\"rip\" + '\n",
      "  '0.008*\"upcoming\" + 0.007*\"script\"'),\n",
      " (13,\n",
      "  '0.031*\"people\" + 0.028*\"state\" + 0.018*\"gun\" + 0.017*\"government\" + '\n",
      "  '0.017*\"law\" + 0.016*\"right\" + 0.015*\"kill\" + 0.013*\"death\" + 0.011*\"live\" + '\n",
      "  '0.011*\"force\"'),\n",
      " (14,\n",
      "  '0.141*\"drug\" + 0.029*\"film\" + 0.026*\"movie\" + 0.025*\"stereo\" + '\n",
      "  '0.024*\"japanese\" + 0.022*\"deficit\" + 0.020*\"plot\" + 0.014*\"mad\" + '\n",
      "  '0.009*\"harley\" + 0.007*\"deck\"'),\n",
      " (15,\n",
      "  '0.061*\"box\" + 0.050*\"club\" + 0.041*\"modem\" + 0.041*\"status\" + '\n",
      "  '0.030*\"primary\" + 0.029*\"routine\" + 0.029*\"spec\" + 0.026*\"sufficient\" + '\n",
      "  '0.023*\"public_access\" + 0.023*\"automatically\"'),\n",
      " (16,\n",
      "  '0.152*\"drive\" + 0.091*\"car\" + 0.036*\"bike\" + 0.024*\"engine\" + 0.023*\"nhl\" + '\n",
      "  '0.022*\"ride\" + 0.018*\"road\" + 0.017*\"weight\" + 0.016*\"mile\" + '\n",
      "  '0.015*\"ground\"'),\n",
      " (17,\n",
      "  '0.113*\"patient\" + 0.060*\"disease\" + 0.054*\"scientific\" + '\n",
      "  '0.050*\"computer_science\" + 0.043*\"animal\" + 0.041*\"health\" + '\n",
      "  '0.040*\"treatment\" + 0.037*\"medical\" + 0.033*\"dog\" + 0.030*\"study\"'),\n",
      " (18,\n",
      "  '0.023*\"get\" + 0.018*\"go\" + 0.015*\"good\" + 0.015*\"time\" + 0.015*\"know\" + '\n",
      "  '0.014*\"make\" + 0.013*\"well\" + 0.013*\"think\" + 0.012*\"see\" + 0.010*\"take\"'),\n",
      " (19,\n",
      "  '0.106*\"key\" + 0.043*\"test\" + 0.032*\"public\" + 0.031*\"encryption\" + '\n",
      "  '0.028*\"security\" + 0.028*\"server\" + 0.022*\"clipper\" + 0.021*\"chip\" + '\n",
      "  '0.018*\"secure\" + 0.018*\"message\"')]\n"
     ]
    }
   ],
   "source": [
    "# Print the Keyword in the 10 topics\n",
    "pprint(lda_model.print_topics())\n",
    "doc_lda = lda_model[corpus]"
   ]
  },
  {
   "cell_type": "code",
   "execution_count": 18,
   "metadata": {},
   "outputs": [
    {
     "name": "stdout",
     "output_type": "stream",
     "text": [
      "\n",
      "Perplexity:  -13.324612880516419\n",
      "\n",
      "Coherence Score:  0.483541481988623\n"
     ]
    }
   ],
   "source": [
    "# Compute Perplexity\n",
    "print('\\nPerplexity: ', lda_model.log_perplexity(corpus))  # a measure of how good the model is. lower the better.\n",
    "\n",
    "# Compute Coherence Score\n",
    "coherence_model_lda = CoherenceModel(model=lda_model, texts=data_lemmatized, dictionary=id2word, coherence='c_v')\n",
    "coherence_lda = coherence_model_lda.get_coherence()\n",
    "print('\\nCoherence Score: ', coherence_lda)"
   ]
  },
  {
   "cell_type": "code",
   "execution_count": 19,
   "metadata": {},
   "outputs": [
    {
     "data": {
      "text/html": [
       "\n",
       "<link rel=\"stylesheet\" type=\"text/css\" href=\"https://cdn.jsdelivr.net/gh/bmabey/pyLDAvis@3.4.0/pyLDAvis/js/ldavis.v1.0.0.css\">\n",
       "\n",
       "\n",
       "<div id=\"ldavis_el1691624361485446729595266986\" style=\"background-color:white;\"></div>\n",
       "<script type=\"text/javascript\">\n",
       "\n",
       "var ldavis_el1691624361485446729595266986_data = {\"mdsDat\": {\"x\": [0.33652459086850445, 0.31692916624502926, 0.21678500254769523, 0.24709096502458056, 0.18410980154969617, -0.01930185355576591, 0.15391513919587815, -0.008548569151632485, 0.006923385450617664, 0.03837236752483319, -0.0375624141094978, -0.04603606426596846, -0.0819062526276067, -0.11857844505828202, -0.16268356366226644, -0.175943754218564, -0.20425889643998418, -0.2122017197720227, -0.2140817890595477, -0.21954709648569545], \"y\": [-0.053714463978837675, -0.11890679868197852, 0.28524061985006344, 0.16700269485610839, -0.27964631960984576, 0.0396413910763808, 0.02798236927645328, -0.11769280574109028, -0.062096337188763825, 0.06950786266223816, 0.03703728401375684, -0.038087732950353906, 0.028034516772673494, 0.02384463926658565, 0.013117286836369348, -0.007820894191207049, -0.00177870593396711, -0.003264017508382123, -0.003632558745119568, -0.0047680300810836965], \"topics\": [1, 2, 3, 4, 5, 6, 7, 8, 9, 10, 11, 12, 13, 14, 15, 16, 17, 18, 19, 20], \"cluster\": [1, 1, 1, 1, 1, 1, 1, 1, 1, 1, 1, 1, 1, 1, 1, 1, 1, 1, 1, 1], \"Freq\": [34.413842236521, 15.585664758642015, 9.181616961160419, 9.110745757506944, 7.614233425324734, 5.391938585859816, 5.120625948174256, 2.140494858170393, 2.0656148430611863, 1.8479526351846125, 1.7323117960903054, 1.60686049860082, 1.237492376361144, 1.1442841871551586, 0.6192241713832046, 0.43367322319436996, 0.29485292501458216, 0.20044997017071453, 0.15895481159999586, 0.0991660308243406]}, \"tinfo\": {\"Term\": [\"ax\", \"line\", \"write\", \"organization\", \"article\", \"nntp_poste\", \"host\", \"drive\", \"people\", \"year\", \"window\", \"key\", \"system\", \"do\", \"get\", \"use\", \"go\", \"car\", \"say\", \"team\", \"reply\", \"game\", \"space\", \"book\", \"state\", \"physical\", \"thank\", \"run\", \"time\", \"child\", \"go\", \"s\", \"ve\", \"back\", \"long\", \"re\", \"start\", \"bad\", \"still\", \"hear\", \"little\", \"lot\", \"probably\", \"put\", \"big\", \"maybe\", \"money\", \"remember\", \"week\", \"hard\", \"ill\", \"home\", \"move\", \"guess\", \"couple\", \"pretty\", \"cheap\", \"guy\", \"school\", \"soon\", \"time\", \"good\", \"really\", \"end\", \"day\", \"get\", \"great\", \"much\", \"let\", \"well\", \"sure\", \"take\", \"first\", \"want\", \"come\", \"see\", \"know\", \"make\", \"think\", \"tell\", \"m\", \"try\", \"work\", \"year\", \"look\", \"way\", \"say\", \"thing\", \"give\", \"also\", \"write\", \"even\", \"reason\", \"believe\", \"evidence\", \"claim\", \"talk\", \"sense\", \"true\", \"word\", \"rule\", \"matter\", \"argument\", \"religion\", \"love\", \"accept\", \"understand\", \"explain\", \"god\", \"prove\", \"speak\", \"discussion\", \"truth\", \"clear\", \"purpose\", \"certainly\", \"statement\", \"christian\", \"master\", \"indeed\", \"doubt\", \"therefore\", \"religious\", \"human\", \"exist\", \"apply\", \"mean\", \"life\", \"fact\", \"view\", \"rather\", \"question\", \"say\", \"point\", \"however\", \"people\", \"case\", \"many\", \"group\", \"man\", \"agree\", \"follow\", \"example\", \"issue\", \"world\", \"think\", \"make\", \"different\", \"read\", \"thing\", \"write\", \"also\", \"nntp_poste\", \"host\", \"thank\", \"university\", \"price\", \"com\", \"sale\", \"internet\", \"cpu\", \"appreciate\", \"bus\", \"version_pl\", \"controller\", \"originator\", \"printer\", \"apr\", \"upgrade\", \"corporation\", \"resource\", \"crash\", \"cycle\", \"northern\", \"bio\", \"ram\", \"opinions_expresse\", \"clock\", \"laboratory\", \"cool\", \"bug\", \"floppy\", \"reply\", \"organization\", \"line\", \"keyword\", \"interested\", \"sell\", \"distribution_world\", \"article\", \"dealer\", \"write\", \"buy\", \"phone\", \"mail\", \"post\", \"email\", \"help\", \"technology\", \"need\", \"new\", \"m\", \"message\", \"question\", \"look\", \"use\", \"know\", \"file\", \"software\", \"machine\", \"code\", \"entry\", \"version\", \"memory\", \"hardware\", \"screen\", \"disk\", \"mode\", \"pc\", \"video\", \"display\", \"device\", \"fax\", \"package\", \"scan\", \"scsi\", \"port\", \"apple\", \"ide\", \"mhz\", \"gateway\", \"mac\", \"manager\", \"mouse\", \"unix\", \"directory\", \"interface\", \"card\", \"program\", \"input\", \"image\", \"instal\", \"driver\", \"user\", \"application\", \"system\", \"type\", \"available\", \"address\", \"bit\", \"use\", \"run\", \"set\", \"computer\", \"source\", \"include\", \"support\", \"problem\", \"work\", \"also\", \"chip\", \"need\", \"gun\", \"kill\", \"death\", \"force\", \"die\", \"country\", \"member\", \"israeli\", \"war\", \"risk\", \"publish\", \"city\", \"crime\", \"state\", \"serious\", \"military\", \"police\", \"weapon\", \"land\", \"headache\", \"convince\", \"firearm\", \"proof\", \"trial\", \"blank\", \"library\", \"arab\", \"doctor\", \"occupy\", \"withdraw\", \"jewish\", \"fight\", \"suggest\", \"attack\", \"law\", \"government\", \"fire\", \"meet\", \"self\", \"field\", \"people\", \"murder\", \"live\", \"right\", \"public\", \"black\", \"carry\", \"conclusion\", \"ax\", \"physical\", \"graphic\", \"direct\", \"convert\", \"daughter\", \"capture\", \"human_being\", \"split\", \"accomplish\", \"pp\", \"discount\", \"tour\", \"applicable\", \"good_luck\", \"sister\", \"shareware\", \"genesis\", \"sabbath\", \"ceremonial\", \"tc\", \"oracle\", \"seventh\", \"workshop\", \"birthday\", \"everytime\", \"moral_agency\", \"max\", \"ei\", \"fq\", \"part\", \"end\", \"research\", \"player\", \"season\", \"tape\", \"goal\", \"trade\", \"national\", \"family\", \"possibility\", \"unit\", \"material\", \"pen\", \"signal\", \"site\", \"technical\", \"development\", \"radio\", \"communication\", \"factor\", \"electronic\", \"operation\", \"particularly\", \"circuit\", \"dept\", \"lab\", \"surface\", \"facility\", \"cap\", \"improve\", \"blue\", \"feature\", \"service\", \"rate\", \"design\", \"report\", \"contact\", \"increase\", \"level\", \"information\", \"low\", \"high\", \"center\", \"include\", \"control\", \"year\", \"number\", \"block\", \"complete\", \"point\", \"new\", \"child\", \"church\", \"woman\", \"armenian\", \"authority\", \"greek\", \"period\", \"turk\", \"turkish\", \"terrorism\", \"boy\", \"parent\", \"united_state\", \"male\", \"muslim\", \"percent\", \"somehow\", \"violence\", \"russian\", \"inhabitant\", \"role\", \"escape\", \"unknown\", \"serdar_argic\", \"closed\", \"proceed\", \"informed\", \"investigation\", \"violate\", \"reflect\", \"community\", \"aware\", \"soldier\", \"girl\", \"young\", \"village\", \"mother\", \"today\", \"man\", \"team\", \"game\", \"play\", \"faith\", \"win\", \"belief\", \"atheist\", \"wing\", \"score\", \"revelation\", \"fan\", \"atheism\", \"average\", \"bible\", \"universe\", \"interpretation\", \"pitch\", \"canadian\", \"stat\", \"offense\", \"production\", \"passage\", \"absolute\", \"origin\", \"birth\", \"hr\", \"handgun\", \"follower\", \"danger\", \"teaching\", \"star\", \"ice\", \"division\", \"defense\", \"year\", \"lose\", \"run\", \"final\", \"hit\", \"last\", \"pick\", \"key\", \"test\", \"encryption\", \"security\", \"server\", \"clipper\", \"secure\", \"motif\", \"tap\", \"clipper_chip\", \"agency\", \"pgp\", \"rsa\", \"dual\", \"crypto\", \"privacy\", \"export\", \"detailed\", \"warrant\", \"restriction\", \"cryptography\", \"cd\", \"second_amendment\", \"assure\", \"algorithm\", \"secrecy\", \"wiretap\", \"testing\", \"distribution_inet\", \"tavare\", \"secret\", \"license\", \"proposal\", \"public\", \"private\", \"chip\", \"message\", \"government\", \"technology\", \"use\", \"system\", \"information\", \"bit\", \"phone\", \"drive\", \"car\", \"bike\", \"engine\", \"nhl\", \"ride\", \"weight\", \"mile\", \"though\", \"rider\", \"auto\", \"oil\", \"quick\", \"noise\", \"travel\", \"corner\", \"spacecraft\", \"essentially\", \"wiring\", \"gear\", \"wind\", \"tire\", \"combination\", \"lift\", \"strip\", \"highway\", \"suitable\", \"sensor\", \"paint\", \"dirty\", \"road\", \"ground\", \"mirror\", \"light\", \"speed\", \"fast\", \"sport\", \"power\", \"front\", \"driver\", \"science\", \"reference\", \"pin\", \"section\", \"faq\", \"author\", \"internal\", \"object\", \"concept\", \"transfer\", \"processor\", \"generate\", \"cable\", \"gmt\", \"language\", \"blind\", \"description\", \"expansion\", \"modify\", \"connector\", \"radiation\", \"enable\", \"typically\", \"qualified\", \"button\", \"presence\", \"extension\", \"phase\", \"responce\", \"observe\", \"book\", \"panel\", \"reality\", \"define\", \"obtain\", \"copy\", \"operate\", \"describe\", \"cover\", \"function\", \"remove\", \"space\", \"notice\", \"launch\", \"mission\", \"orbit\", \"external\", \"vehicle\", \"satellite\", \"door\", \"moon\", \"flight\", \"rocket\", \"saturn\", \"planet\", \"energy\", \"fuel\", \"sky\", \"shuttle\", \"mar\", \"lunar\", \"park\", \"mph\", \"solar\", \"space_station\", \"ozone\", \"crew\", \"thermal\", \"environmental\", \"giant\", \"cbr\", \"earth\", \"observation\", \"environment\", \"cost\", \"fly\", \"model\", \"character\", \"picture\", \"format\", \"quality\", \"associate\", \"handle\", \"hole\", \"gift\", \"insurance\", \"excuse\", \"popular\", \"draft\", \"morality\", \"solid\", \"pub\", \"scale\", \"depth\", \"fee\", \"programmer\", \"hunt\", \"translate\", \"meter\", \"import\", \"runner\", \"sc\", \"leadership\", \"scare\", \"fish\", \"variation\", \"cost\", \"type\", \"license\", \"window\", \"monitor\", \"normal\", \"font\", \"left\", \"widget\", \"please_respond\", \"trivial\", \"impressive\", \"click\", \"upper\", \"publisher\", \"ms_window\", \"hassle\", \"dialog\", \"visualization\", \"judaism\", \"user_interface\", \"accessible\", \"enhanced_mode\", \"environment\", \"vendor\", \"do\", \"application\", \"routine\", \"size\", \"correctly\", \"value\", \"color\", \"window_manag\", \"create\", \"top\", \"position\", \"patient\", \"disease\", \"scientific\", \"computer_science\", \"animal\", \"health\", \"medical\", \"dog\", \"medicine\", \"luck\", \"km\", \"cure\", \"prevention\", \"television\", \"lemieux\", \"soviet_union\", \"adequately\", \"pitt\", \"treatment\", \"study\", \"treat\", \"dn\", \"diagnosis\", \"tumor\", \"eeg\", \"syndrome\", \"neurologist\", \"millie\", \"aunt\", \"gonorrhea\", \"department\", \"box\", \"club\", \"modem\", \"status\", \"primary\", \"spec\", \"sufficient\", \"public_access\", \"automatically\", \"investment\", \"campaign\", \"exposure\", \"galaxy\", \"global\", \"approval\", \"spectrum\", \"routine\", \"baud\", \"yehuda\", \"speedstar\", \"rating\", \"accelerator\", \"keyboard\", \"mixer\", \"enviroleague\", \"resident\", \"admiral\", \"transformer\", \"franchise\", \"taxpayer\", \"hockey\", \"color\", \"ripem\", \"fund\", \"connect\", \"slave\", \"moral\", \"property\", \"serial\", \"lock\", \"positively\", \"intent\", \"alarm\", \"converter\", \"unnecessary\", \"provision\", \"theft\", \"deter\", \"complexity\", \"flexible\", \"malfunction\", \"hudson\", \"seller\", \"serial_number\", \"specie\", \"lemon\", \"serial_port\", \"premise\", \"protocol\", \"selfish\", \"handshake\", \"steven_langlois\", \"freshman\", \"spoof_chip\", \"granted\", \"ofthe\", \"immoral\", \"evil\", \"marriage\", \"behavior\", \"item\", \"encrypt\", \"transmit\", \"compare\", \"drug\", \"film\", \"movie\", \"stereo\", \"japanese\", \"deficit\", \"plot\", \"mad\", \"harley\", \"deck\", \"legalization\", \"legalize\", \"dale_cook\", \"hypocrisy_t\", \"neighbor_political\", \"heroin\", \"fuck\", \"criminalization\", \"taxis\", \"convinced\", \"winco\", \"reagan_reagan\", \"addict\", \"vat\", \"advocate\", \"revenue\", \"carter\", \"cigarette\", \"pot\", \"dea\", \"illegal\", \"trend\", \"gonorrhea\", \"plane\", \"hi\", \"subscription\", \"steve\", \"divide\", \"evolve\", \"intersection\", \"rip\", \"upcoming\", \"script\", \"infinity\", \"tel_fax\", \"portal\", \"announce\", \"intersect\", \"offerre\", \"xterminal\", \"turkish_plane\", \"cargo\", \"colour\", \"elchibey\", \"architecture\", \"shipment\", \"refugee\", \"feal\", \"c\", \"calculation\", \"parallel\", \"confiscate\", \"azeri\", \"tv\", \"advertising\", \"logo\", \"circle\", \"_\"], \"Freq\": [53235.0, 17060.0, 13405.0, 9429.0, 9896.0, 6637.0, 5937.0, 3405.0, 7863.0, 5026.0, 1994.0, 2521.0, 5181.0, 2275.0, 10774.0, 6155.0, 7967.0, 2024.0, 8881.0, 2061.0, 3455.0, 1931.0, 1697.0, 1739.0, 2761.0, 2419.0, 2869.0, 3172.0, 6755.0, 1680.0, 7966.548732625879, 4229.18629710629, 2985.381867030989, 2784.2984398133704, 2454.7520653148977, 2293.2120687403763, 2271.454030469053, 2267.428027151519, 2790.91331196169, 2157.283012363806, 2086.11186880395, 2052.418107027985, 2023.4595058806874, 2020.9506731768804, 1541.958546774753, 1514.6574379780168, 1430.3413429175448, 1336.4623783650538, 1288.4318092750987, 1250.8949691281425, 1144.132463060825, 1141.7091469939833, 1108.2286080782626, 998.8122943071078, 930.8834411366619, 927.9782538143695, 879.0821777698822, 837.9590159745279, 780.6309685035225, 775.5205997524512, 6708.312568667381, 6800.9253286012045, 3158.870202623707, 2266.410513599237, 2838.7852564795717, 10296.950094455364, 2047.8552205434335, 3725.8798364444287, 2179.585172211563, 5831.214232106902, 2706.5362074504205, 4534.669096528391, 3669.0802445637623, 4213.012381482357, 4295.505845051719, 5119.0862777493385, 6514.670226330068, 6307.999987912989, 5798.901145224237, 3025.708700384664, 4182.199506654214, 3474.4882229109853, 3593.585702465197, 3548.810969930846, 3104.7008419133494, 3215.8482729994175, 4479.296091737895, 3254.1493857749224, 3015.264502843245, 3139.347798803637, 3105.2474452301544, 2859.548737297049, 3433.495321777936, 3385.953568875262, 2999.607516048293, 2065.5439113074813, 1711.66701444532, 1686.5011238333072, 1587.000479058074, 1354.6676798851295, 1119.4405120004083, 1059.3279899593717, 1055.3680192531, 1045.5132848019455, 1038.0212888506703, 1033.6994986397196, 1031.9761026039716, 1021.1843652212069, 990.701610513255, 986.7304939304478, 938.2451816982016, 920.8913329208417, 912.3693268497229, 868.7581345253191, 865.5104696262141, 761.2717970322658, 696.3646279929701, 627.3794262526712, 590.900798776978, 576.1881949186443, 513.4433727586584, 495.0760921820161, 638.4481246179199, 718.1156655578446, 1725.7110062057632, 757.1685690305226, 2739.6019406711184, 1405.68760190669, 1897.267588538252, 1070.1919413825474, 1324.701382010934, 2359.894896420557, 4362.8167775356, 2423.3786246308696, 1608.610928718076, 3871.097795267241, 1963.1674430604214, 2247.0581635391295, 1663.6166723864442, 1485.717524328262, 1142.549754234543, 1426.3439083375524, 1129.5130125267322, 1297.7296720745067, 1218.9745944052481, 2042.689993942556, 2032.012806198472, 1209.1455235689737, 1319.1041850707015, 1403.0420016661603, 1535.070154348064, 1311.658458556473, 6636.218854936705, 5936.152925247486, 2868.7403973620426, 2139.3512193889687, 1400.8715673893614, 1347.3444285162302, 1305.1370403410747, 951.3423021596946, 792.8238575761374, 707.0204320007836, 574.6950227024454, 546.5215607479678, 518.8962861042861, 504.87891309883094, 391.1749604993319, 382.7900948603629, 354.26446325201977, 338.1482529110787, 312.48312724800763, 305.10453156243403, 293.6553347214159, 272.6496080792652, 269.62279749838785, 257.48970457043873, 247.61149062014266, 232.1334343147335, 226.8337431346483, 224.35287138616567, 204.02248833641414, 202.62236221548366, 3382.116958672894, 8959.298403564982, 15393.997533540887, 774.7924402339156, 979.6438859999968, 1187.3077230324357, 904.0738787849289, 7407.773927692108, 368.04556669886114, 8763.783302248878, 1327.9697729360603, 838.5156975556972, 1545.1041458165491, 1580.1501716672387, 806.3704571406554, 1225.6671507968936, 764.865973661245, 1517.5911571494623, 1323.276274291781, 1357.5716670094994, 828.2917145280884, 1004.9529795923169, 983.5015576302917, 894.6958754099744, 875.9716508332934, 2692.779845648601, 1657.4802767677104, 1517.8490007330802, 1208.871615907784, 1133.1152780505358, 1130.153113476837, 1094.7967977193448, 944.8299752925977, 944.4155065886146, 942.4526660287996, 896.0697306979915, 896.0589994079016, 885.1578702268619, 845.4450339532214, 839.4183742896089, 786.2015782248019, 730.9239912023694, 630.7741716866858, 594.5201506622835, 523.0282413317385, 465.21883636880494, 451.6536096714619, 448.3252671991843, 422.9576472076881, 410.3202117155429, 401.21285052392176, 373.5321721304668, 369.25556139945246, 354.4143240837895, 352.50752166380636, 2082.457870328906, 2776.610712777795, 724.787171560895, 1307.072884999946, 741.7965948623028, 1417.3550681652785, 928.0276220887415, 882.9480457405386, 3788.1765005833804, 1311.3075834729816, 1361.4228176958807, 1217.9773345550036, 1647.9792524345253, 3255.880421471992, 1882.1035893204485, 1387.6448345335668, 1289.7671466885042, 1206.553876254281, 1268.2699635732668, 1160.6775016169013, 1496.3095494752438, 1304.4760223011447, 1346.8034060016428, 993.6813263500082, 1049.2018456894252, 1758.7861689220165, 1513.1156098750932, 1318.7176589770154, 1041.8373202093553, 1031.9068026382417, 909.6274842085355, 831.027855404759, 781.9577683494798, 765.3912259503157, 686.9221450478136, 656.6689387151395, 650.1810786625277, 612.1064377820638, 2755.88294337395, 598.2174314652956, 579.8631652824329, 565.9219031986631, 560.7197088951256, 550.2195485539573, 478.8742282242251, 467.08300267644665, 463.93630864390457, 450.04551776066256, 439.1461178686287, 425.8203939439701, 411.7705478539878, 409.31480135360295, 389.88723283204627, 387.6923075855221, 382.5055566456999, 591.7214722263797, 422.0721179773042, 829.3507289843202, 867.7384011275316, 1649.9622071559493, 1717.0875311144455, 697.5957744018565, 488.9200562444139, 563.9873873829671, 583.8153851663719, 3073.3964880062176, 562.0750642529067, 1078.03839508292, 1608.242154550693, 857.2832210131257, 608.3414143454131, 600.8907578011379, 566.8353266845519, 53234.66713826363, 2418.339966441948, 1671.0815604093261, 960.8546749753413, 770.2457649409217, 397.2175426520131, 396.29956216960056, 351.70142623914006, 280.1524137643675, 228.0273401265349, 192.48231280819016, 187.648738909091, 182.32153583000343, 169.45329968491868, 156.6330363638442, 153.60621201393676, 124.26485985617538, 111.76946214828652, 109.54960518044757, 105.6769297005402, 83.94677147144962, 64.85756904912324, 56.79387765507264, 31.73521187239787, 31.267077874842116, 27.106512795797624, 24.15056622766625, 0.14616541028873756, 0.14358603940240303, 0.1435688727086752, 13.862042973756221, 6.249321035303445, 1384.4440898655764, 1179.474195054413, 833.3217525924003, 797.5764810095693, 708.2243186635108, 631.5587994033668, 568.737775201754, 549.3978991494987, 541.8024074418217, 534.8720974765591, 499.40978047003733, 469.26267055356476, 466.23577974448375, 463.99820757404666, 462.4794538862638, 453.3002474129804, 439.69722538982694, 426.8522262136799, 397.6370661986237, 379.5797329230312, 378.3834459024744, 373.3043266329194, 356.8469868582099, 296.9537962844775, 276.9965899706302, 273.27552957673333, 270.10899245255814, 264.6371833136957, 262.23651606392866, 260.14240601798895, 460.650296412594, 1036.3100729623618, 964.5817802527558, 906.7738064272412, 1257.1930008004636, 597.0108303387563, 806.6491833187847, 746.3592716577464, 1274.491049550134, 816.0584769445492, 1261.129808288923, 637.0992315661737, 805.1271061841023, 559.8518629173561, 720.9421652230934, 651.2292353315016, 490.19493926055316, 474.2034051869412, 524.0922512766067, 501.8359582520241, 1679.5025317509458, 770.6130592311216, 749.6109691074719, 694.5444587044046, 613.6066971742425, 526.7428653903629, 476.7812765761431, 476.2331923867706, 396.71863858079575, 393.2975631372084, 379.9572289563581, 363.6118734771764, 328.9705292423197, 285.79068474014105, 251.85327777479287, 247.78792555902862, 235.76894661899513, 229.75007972281307, 220.00699825408302, 213.79759852338665, 207.4226081108983, 198.28150852102326, 196.2724882248257, 195.35181535386351, 187.8176387151899, 186.29565286271233, 168.51481796584298, 162.77507421144634, 160.56481872330025, 159.75815425851548, 564.5629898709329, 272.27098316498433, 448.0484311764279, 198.52982379495413, 293.4229062927134, 271.067791211897, 222.29956670523592, 246.49528145017484, 275.76450533581885, 2060.436054574693, 1930.122405177851, 1400.0214120748324, 1328.5761498505917, 1297.3731935592334, 838.1739537093262, 677.6592595887709, 490.87147288949706, 480.4049280755665, 449.49765933427875, 442.3255356071814, 360.8286593854948, 353.73389606192563, 306.5100123252704, 304.521184595542, 295.5886399784015, 212.93292179410776, 208.45962349253412, 193.11280655968866, 185.1637147617905, 183.77875002789503, 162.31698546006908, 159.31454031216165, 158.3002277427314, 154.0917944812862, 131.64897288335155, 125.47084096500161, 125.15531677744085, 121.94555518227352, 119.79961085635517, 299.624539181978, 219.2562161898098, 333.3798674263272, 208.24395281684443, 674.0685054542764, 340.89062912008825, 428.66909066240396, 225.21544994451799, 223.44539624427935, 232.49624070827858, 190.56314073121155, 2519.8577576060643, 1016.5074881678105, 734.4747037798646, 678.5643078829655, 674.4540352289044, 530.5513591055945, 429.4721633600749, 408.35509288176473, 402.29116471077805, 385.0933546372616, 357.3252598501874, 310.7775958798495, 298.8007280577041, 231.93888916705217, 216.7292278689627, 205.3477852070917, 185.46858515766755, 180.05568670114616, 157.62303046137015, 156.91268700136203, 136.84517330595955, 119.9591463079188, 114.0459401280401, 110.79882073340104, 97.89645414210175, 93.9646779928357, 92.63040745756797, 87.76137195938215, 85.2439082515812, 75.28929377564765, 328.1576227548764, 367.6529812179022, 197.8825156590088, 752.733164894255, 302.54641163365767, 507.1110910402064, 418.8392221866121, 418.71510864604164, 304.223588025132, 305.17636156662314, 268.62605661567403, 212.06710750033213, 210.82581661954063, 186.09614923941757, 3403.8462445935174, 2023.389043063164, 797.0944148961406, 540.4968661463491, 523.4583914813999, 498.20730781651196, 371.65573403597193, 350.0009903332113, 321.1369308647011, 275.8700357863097, 227.162478076026, 223.9024777678529, 222.97074571916826, 187.48820311832802, 180.77213276561395, 164.27370873482747, 163.7826390983079, 157.02800857231642, 154.91493397962526, 151.07679133263986, 142.51928531847852, 139.95794871143752, 139.1005782496105, 123.46551066867333, 117.04043220673951, 109.84046499271864, 109.65689816350684, 104.01925300247197, 98.12086861360072, 96.07891796902815, 410.023731071828, 336.047246247143, 182.87786801646908, 321.7307200556829, 323.88413500243723, 249.85886697797417, 158.17115530753387, 256.074945969412, 167.21037199607213, 170.67580100275578, 906.8678632341366, 881.135277605129, 740.9313544482179, 667.8587033328059, 523.1393197193905, 507.1344686304924, 456.28657999856915, 435.72914883589146, 389.35956241716485, 369.68207090188093, 343.873894127184, 323.1580576050418, 323.11927706836724, 274.8424916667288, 253.777668940548, 249.13109241657182, 232.56079483725628, 199.08380556119613, 166.89080354596032, 166.8361670229263, 153.31417799296523, 140.43955161193998, 137.43737220195166, 122.86558554648289, 122.77490127857679, 121.01099521989654, 118.02515462167452, 114.01387011146402, 99.45813257251743, 98.01593308239126, 1622.5081276053293, 153.71808075877377, 470.19863401817975, 438.1678420266141, 241.07889722918927, 478.22006357064066, 213.46636328322995, 272.9288807624146, 277.04707247419987, 222.57741390075188, 208.72244915724187, 1695.8209270296709, 466.87444944430297, 464.38066180832146, 386.0460781410927, 376.05950471533953, 373.39812198505007, 320.13765634109575, 304.49387094335003, 297.3796465966318, 285.5099635063292, 263.37857617251444, 245.05218349712587, 230.57388901080827, 212.7248032373932, 207.87656332605115, 197.68339637350198, 177.4256591302235, 174.29712812854385, 159.70546748950923, 154.03977759741053, 150.1181446065772, 144.38671364979615, 137.80005391038213, 132.91634059649087, 119.82437940359331, 110.63945281804814, 105.36963717427223, 104.65537984210528, 104.60303240383611, 102.12109154568708, 416.3408398715277, 165.42436004865968, 175.38710605685148, 198.62214010595204, 121.41192943763683, 877.5735939581626, 577.7338107229987, 534.6404837473473, 531.47294165379, 474.6960506856978, 469.26582134513643, 417.7074144413177, 338.38735337727354, 334.34777172874703, 333.8686354637876, 287.9862287557695, 266.05480391113497, 234.9964094808488, 231.70816872889318, 192.65458844095477, 155.25633744041107, 155.20688069752129, 148.71231364317947, 127.80497070408336, 127.09402314840996, 114.57877155724866, 104.86070724849118, 101.20409903225305, 97.88111065490506, 93.03941105342588, 92.14120591076254, 91.90158276522064, 91.24581331090258, 89.74844715489292, 88.33657817412639, 960.6110251656105, 235.74167143405, 102.9048966155303, 1992.997199998486, 455.55408093981697, 441.83844507199274, 253.109581965628, 182.34575867362864, 163.67732128063147, 150.33273953789552, 137.09020958758597, 86.14079267856687, 81.18341400546939, 78.33003487430197, 71.14476107959804, 45.83194225379759, 38.24003910298156, 31.06980291377629, 23.542147290536175, 22.859940138036325, 13.766512913698467, 9.475839560607382, 1.0592164540419005, 139.7686672428638, 57.030570986553045, 326.1784867225283, 85.3731640377667, 9.291815886487244, 52.745887929292564, 11.194835840054509, 44.20010715098799, 0.0594165890964833, 0.05940771476718968, 35.45692849560309, 15.35681970223843, 9.683556487439702, 630.4142903567072, 333.8621666220516, 302.7498927619672, 279.09448600584483, 239.410900425254, 227.89650168037423, 208.34683048557392, 184.4686890920471, 94.06001590772017, 82.72739306251383, 74.12242512292748, 71.32995450037112, 63.0045567894618, 45.77253092167824, 34.122553438299754, 29.084774643502904, 26.027568173483893, 15.191418864779447, 225.69300707317305, 167.88771846669647, 52.78217739732178, 0.04486501083165867, 0.04486162076051688, 0.04486078087802681, 0.044857701308896505, 0.0448547235437044, 0.044850539401844726, 0.044850111825304316, 0.044850111825304316, 0.044847352938579325, 8.569465241397133, 230.81927884209534, 190.18730252748438, 156.6854866925674, 154.83339110182476, 115.22152389131708, 111.43079148613975, 100.69254240088519, 88.29723088232728, 86.57085041727062, 79.34440308058596, 66.30600025578316, 65.54031951424118, 53.32767660236658, 33.34176064135321, 28.859855519102087, 18.200689590166107, 112.1190174780907, 0.04306696064166792, 0.043066576492059916, 0.04306617503841551, 0.04306636192200859, 0.043067016014584396, 0.04306746938033799, 0.043065908556255, 0.04306675645403844, 0.04306592239948412, 0.04306586010495309, 0.04306577012396383, 0.043065995076436984, 0.04306528215013744, 0.04306884678163517, 0.04306816154179386, 0.04306904404765009, 0.043066618021747265, 0.04306654188398712, 0.043066891425522336, 239.0661474848769, 145.12273865160333, 116.90866297823597, 93.96987179520013, 57.0981191457503, 55.07816444888943, 46.09485619695163, 31.267355548595866, 28.64725730276999, 18.81374809902658, 17.817080531474087, 17.185806141054773, 15.890871310899147, 10.602114416790018, 3.3072510691879993, 0.03443897990998191, 0.03443915871988317, 0.034438448185801836, 0.03443734003496637, 0.03443725533553945, 0.03443704829249588, 0.034436838896690455, 0.034437627071913134, 0.034436749491739825, 0.03443645304374562, 0.034436403635746585, 0.03443639893022287, 0.034436542448696254, 0.03443630481974852, 0.03443630481974852, 0.03443659420945715, 0.03443723416068272, 0.03443691418506993, 0.034436949476497815, 0.034437742357244214, 0.03443818702923551, 0.03443693535992666, 0.03443675419726354, 288.73810976421873, 58.54909316587549, 53.949652176464426, 52.10537618593246, 50.13528272214497, 44.96674004771967, 41.4247611434925, 28.63915840843017, 19.30707680868703, 13.853449308764826, 0.028521155988772508, 0.028520049618884387, 0.028519945138760047, 0.028519174597843023, 0.028519174597843023, 0.02851909623774977, 0.02851909623774977, 0.02851887421748554, 0.028519101834899287, 0.028518892874650602, 0.02851872122873204, 0.028518700705850473, 0.028518639137205773, 0.028518877948918553, 0.028519057057703138, 0.028518848097454454, 0.028518728691598064, 0.02851857756856107, 0.028518751080196136, 0.02851835741401335, 0.02851904213197109, 0.028518752945912645, 0.028518689511551436, 92.38593686412078, 38.925667596908866, 26.7742308545621, 24.977917414689124, 19.12926770440167, 13.532176344758394, 12.826734544144495, 12.285172355298736, 10.145408507499189, 8.66366070471294, 8.416769185248421, 7.214266658119209, 5.87133905564604, 0.020349639774540303, 0.020348389690567414, 0.02034810103058112, 0.02034810103058112, 0.02034816621186835, 0.0203481126700967, 0.020348128965418506, 0.02034795902849109, 0.020348103358484238, 0.02034795902849109, 0.02034770994285776, 0.020347668040601685, 0.020348794745709466, 0.02034781702640106, 0.020347896175106978, 0.020347628466248727, 0.02034763079415184, 0.020348354772020683, 0.02034810801429047, 0.020348066112034394, 0.020348007914456512, 0.020348215097833768], \"Total\": [53235.0, 17060.0, 13405.0, 9429.0, 9896.0, 6637.0, 5937.0, 3405.0, 7863.0, 5026.0, 1994.0, 2521.0, 5181.0, 2275.0, 10774.0, 6155.0, 7967.0, 2024.0, 8881.0, 2061.0, 3455.0, 1931.0, 1697.0, 1739.0, 2761.0, 2419.0, 2869.0, 3172.0, 6755.0, 1680.0, 7967.7328075173555, 4230.370371997767, 2986.565941922465, 2785.4825147048464, 2455.957917071143, 2294.3961436318523, 2272.638105360529, 2268.612102042995, 2792.436486730749, 2158.467087255282, 2087.2959437011427, 2053.602181919461, 2024.6435807778805, 2022.1347480683569, 1543.1426216662294, 1515.8415128694933, 1431.5254178162836, 1337.6464532565303, 1289.6158841665751, 1252.079044019619, 1145.3165379523016, 1142.893221891521, 1109.412682969739, 999.9963691985841, 932.0675160407412, 929.1623287058459, 880.2662526664486, 839.1430908660043, 781.8150433949988, 776.704674650663, 6755.649333018451, 6871.820656368625, 3170.539857650157, 2273.7003584528757, 2855.439226732839, 10774.338788183764, 2074.534226083675, 3849.2073693639063, 2216.5565465124496, 6280.339552920612, 2817.9600496006174, 4867.108566389078, 3967.1129680055446, 4806.6356784880045, 4931.077187475571, 6188.05524149234, 8625.040961227156, 8341.13082519569, 7842.709170251023, 3431.846342320163, 5540.886617271979, 4331.790243615974, 4927.41024529704, 5026.847368947307, 4187.701551674519, 4531.671110325254, 8881.75866089596, 4658.309418525314, 4216.09143390962, 6021.88474650578, 13405.150301628115, 4141.335722926969, 3434.6874660947483, 3387.1457131920743, 3000.799660365105, 2066.7360556242934, 1712.859158762133, 1687.6932681561814, 1588.1926233748868, 1355.8598242019423, 1120.671799388238, 1060.5201342761845, 1056.560163569913, 1046.7054291187583, 1039.2134331674831, 1034.8916429565325, 1033.1682469207844, 1022.3765095380196, 991.8937548300677, 987.9226417941846, 939.4373260150143, 922.0834772427445, 913.5614711665356, 869.9502788421318, 866.7026139548934, 762.4639413490785, 697.5567723097828, 628.5715705694839, 592.0929432603524, 577.3803392415182, 514.6355170754711, 496.26823649882886, 640.3995006415132, 721.6155406542044, 1754.7430468750042, 762.9277987977005, 2880.0659580742363, 1539.9097983799538, 2221.813656913733, 1148.3950270012144, 1495.205845477322, 3367.7868656262226, 8881.75866089596, 3813.715130320177, 2111.9306326294754, 7863.362135804247, 2963.7527485813944, 3964.3438804492157, 2670.7230130120247, 2185.4079461925817, 1315.3646404379213, 2309.797274980238, 1292.739514105511, 1863.2378374143996, 1637.7937700764007, 7842.709170251023, 8341.13082519569, 1680.7946751750142, 2520.09566440631, 4658.309418525314, 13405.150301628115, 6021.88474650578, 6637.408411777554, 5937.342482088335, 2869.9299542028903, 2140.5407762614605, 1402.0611242302093, 1348.533985357078, 1306.3265971819226, 952.5318590005425, 794.0134144397786, 708.2099888416315, 575.8845795798804, 547.7111175888157, 520.0858429518175, 506.0684699451015, 392.36451734018, 383.979651720095, 355.45402009286784, 339.33781067215676, 313.6726841053488, 306.29408845094906, 294.84489163043025, 273.8391650444386, 270.8123544107341, 258.67926141797034, 248.80104746099065, 233.32299118597675, 228.0233000460923, 225.54242822701366, 205.2120451902266, 203.81191906664918, 3455.2430009363525, 9429.33407177723, 17060.961507485445, 802.3418244266027, 1028.1832837895518, 1301.8314373536703, 1004.3417630145719, 9896.913019939138, 380.6917720795959, 13405.150301628115, 1687.1618593128667, 1025.7392632338324, 2415.284234850373, 2901.602834651735, 1339.3493208924638, 2901.1340664630625, 1287.2713579254334, 4819.967724842285, 4016.4865275811235, 5540.886617271979, 1720.337468820325, 3367.7868656262226, 4187.701551674519, 6155.464536619337, 8625.040961227156, 2693.9607869332294, 1658.6612180523384, 1519.0299420177082, 1210.0525571978344, 1134.2962193526557, 1131.334054761465, 1095.9777390107083, 946.0109165772258, 945.5964478732426, 943.6336073134277, 897.2506719877028, 897.2399406925297, 886.3388115114899, 846.6259752451119, 840.5993155796596, 787.3825195568954, 732.1049324869974, 631.9551130421485, 595.7010919469116, 524.2091826163665, 466.3997776534331, 452.83455096117325, 449.50620848381243, 424.1385884974065, 411.5011530069066, 402.39379183437353, 374.71311341509494, 370.4365026840806, 355.59526536841764, 353.6884629535177, 2093.1343479002844, 2800.245920538931, 731.3105009559465, 1354.9628737277885, 773.8835617790536, 1589.147226750528, 1003.8741962608575, 969.4427514884192, 5181.572988445917, 1548.1644123807278, 1634.370558187429, 1470.5465316038428, 2311.419479248719, 6155.464536619337, 3172.5248879948635, 2169.992594700292, 1966.1214675304236, 1868.2832675361703, 2480.82800558712, 1965.7635368668446, 4158.912084958234, 4927.41024529704, 6021.88474650578, 1614.3649021146655, 4819.967724842285, 1759.9720954928273, 1514.301536445904, 1319.9035855478262, 1043.0232467801661, 1033.0927292090525, 910.8134107793463, 832.2137826476632, 783.1436949202906, 766.5771525211265, 688.1080716669367, 657.8548653121243, 651.3670052333385, 613.2923643528746, 2761.3389098208645, 599.4033580411965, 581.0490918605062, 567.1078297694739, 561.9056354659364, 551.405475137114, 480.0601549119592, 468.2689292809429, 465.1222352147155, 451.2314443587735, 440.33204443943964, 427.0063206377279, 412.9564744625836, 410.50072792441387, 391.0731594079474, 388.878234162614, 383.69148323950463, 595.5592739098258, 424.8183159932651, 870.7881862070651, 948.9906209319626, 1965.017480643772, 2136.9264259291676, 780.8631597727326, 505.66990950380904, 617.7321287566504, 657.0073572339269, 7863.362135804247, 624.9102221123088, 1784.8973003776136, 4025.0644171479307, 1611.1401720760612, 781.8582528777038, 852.569212690902, 713.0519374412098, 53235.78177531455, 2419.4546038114677, 1672.1961975398194, 961.9693123918595, 771.3604021957021, 398.33217989733726, 397.4141996432285, 352.81606352544605, 281.2670510254839, 229.14197732503405, 193.59695004796063, 188.76337620927703, 183.4361730566511, 170.5679375027435, 157.74767354151155, 154.72084917395597, 125.37949697778035, 112.8840993087166, 110.66424231719999, 106.79156686298663, 85.06140883025934, 65.97220621725114, 57.9085151296393, 32.84984904659656, 32.38171509270156, 28.221149999986764, 25.265203343500794, 1.2608062535507367, 1.2582410117624032, 1.258205928715961, 2415.0816721557, 2273.7003584528757, 1385.6272817652202, 1180.6573869601182, 834.5049444981055, 798.7596729142965, 709.4075105692159, 632.7419913030108, 569.9209696069901, 550.5810910610093, 542.9855994129148, 536.0552893762031, 500.5929723696813, 470.4458624712981, 467.41897164921096, 465.18139947369065, 463.6626457859078, 454.4834393126244, 440.8804172894709, 428.0354181187464, 398.8202580982677, 380.7629248280977, 379.5666378088019, 374.48751853862467, 358.0301787578539, 298.1369881841215, 278.1797818702742, 274.4587214836398, 271.2921843522021, 265.82037521962064, 263.4197079754393, 261.32559791763293, 463.8930296688702, 1080.0046175414136, 1028.0480485266266, 983.0771778373191, 1462.4316669802065, 654.8960323422244, 931.2100029386482, 977.5404486954601, 2244.606546675634, 1174.6249668027112, 2265.813394443254, 1022.7840082223275, 2480.82800558712, 1051.006435097362, 5026.847368947307, 3223.5633077340835, 678.0235905840406, 661.4783743676345, 3813.715130320177, 4016.4865275811235, 1680.6925206035764, 771.7980087870412, 750.7959186633915, 695.7294082603242, 614.7916467355848, 527.9278149462825, 477.96622615986496, 477.4181419426903, 397.9035881367154, 394.48251273862326, 381.1421785190133, 364.7968230330961, 330.1554788275674, 286.9756342960607, 253.03822733071252, 248.97287513361255, 236.95389619904898, 230.93502928431843, 221.19194781726515, 214.98254808489202, 208.6075576722405, 199.4664580769429, 197.45743782951217, 196.53676490978316, 189.00258837116968, 187.48060241863197, 169.6997676515088, 163.9600238037246, 161.74976831641172, 160.94310384729982, 588.998274916502, 325.8278811512127, 728.8125922528001, 255.93983878224284, 782.0943190394285, 624.7738189984316, 361.19123841988636, 908.6079318587965, 2185.4079461925817, 2061.633491469007, 1931.3198420721644, 1401.2188489747314, 1329.7735867506217, 1298.5706304535468, 839.3713906329568, 678.8566964888008, 492.0689097838104, 481.60236496987983, 450.69509623430883, 443.52297250149473, 362.0260962855249, 354.9313329890925, 307.7074492253005, 305.7186214955721, 296.7860768978111, 214.13035868842107, 209.65706038684743, 194.31024345400198, 186.36115166168952, 184.97618692894386, 163.51442236009913, 160.51197722503989, 159.4976647089242, 155.28923148635707, 132.8464098022308, 126.66827786490065, 126.35275367747089, 123.14299211263969, 120.99704775638521, 349.8363112899328, 248.56289057037102, 700.0744816666753, 333.8199551189363, 5026.847368947307, 1278.955942600208, 3172.5248879948635, 482.72782916704443, 671.6990742525996, 2287.6593934314847, 688.2800241684963, 2521.053805327993, 1017.7035359062206, 735.6707515017929, 679.7603556048938, 675.6500829508327, 531.7474068275228, 430.6682110937811, 409.551140603693, 403.4872124327063, 386.28940235918986, 358.5213075721157, 311.9736436017778, 299.99677577963234, 233.13493700274717, 217.92527559089098, 206.54383292901997, 186.6646328795958, 181.25173453144382, 158.81907818329842, 158.10873474365135, 138.04122102788781, 121.15519403658259, 115.24198785555407, 111.99486852178318, 99.0925018687451, 95.16072571476397, 93.82645517949624, 88.95741969391347, 86.43995598496008, 76.48534149757592, 355.99781535530997, 471.68814172850847, 237.94866651763274, 1611.1401720760612, 630.5163449968021, 1614.3649021146655, 1720.337468820325, 2136.9264259291676, 1287.2713579254334, 6155.464536619337, 5181.572988445917, 2244.606546675634, 2311.419479248719, 1025.7392632338324, 3405.0398490154416, 2024.5826474850883, 798.2880193180648, 541.6904705682733, 524.6519959093853, 499.40091223843615, 372.84933852585186, 351.19459476141645, 322.33053534548435, 277.0636402082339, 228.35608249795018, 225.0960821897771, 224.16435014109246, 188.6818075402522, 181.96573724815156, 165.4674026586036, 164.9762435422699, 158.2216130717349, 156.10853840626456, 152.27039576028076, 143.71288975277534, 141.15155313336172, 140.29418274489285, 124.65911509785998, 118.23403662866369, 111.03406943352682, 110.8505026571489, 105.21285742439615, 99.33074536310357, 97.27252241455292, 570.536608744143, 512.6912676661559, 263.2223448620653, 851.4012451825062, 931.5763716395618, 1049.8163726279115, 297.23300261337823, 1798.773235763595, 411.7931693304265, 1589.147226750528, 908.0628978950036, 882.3303122602792, 742.1263891218705, 669.0537379879562, 524.3343543745408, 508.3295032856427, 457.481614660403, 436.9241834910418, 390.5545970851634, 370.87710556996666, 345.0689287957533, 324.3530922718956, 324.31431172351756, 276.03752635820877, 254.97270359569833, 250.3261271407321, 233.7558294924066, 200.27884022240767, 168.08583820619384, 168.03120169347739, 154.509212755599, 141.6345862721735, 138.63240686218518, 124.06062026350969, 123.9699359388103, 122.20602989894162, 119.22018928224736, 115.20890476661431, 100.6531673275911, 99.210967751085, 1739.0352369849381, 162.84159132283656, 584.3268023665719, 546.8039386544054, 362.3708010277629, 1204.419914418808, 409.3336396138373, 755.0690514924815, 860.6229345091613, 728.8169167580396, 622.4888308697386, 1697.0180207425287, 468.07154316384447, 465.5777555211794, 387.2431718539507, 377.2565984281975, 374.59521578721404, 321.33475006575236, 305.690964656208, 298.57674032122367, 286.70705721918716, 264.5756698853724, 246.24927720998386, 231.77098272874946, 213.92189695631242, 209.07365703890915, 198.88049008635997, 178.62275284308149, 175.49422184140184, 160.90256120778974, 155.23687131026853, 151.3152383330093, 145.58380736773734, 138.99714762324012, 134.11343430934886, 121.02147311645126, 111.83654657620832, 106.56673089464304, 105.85247360004226, 105.80012611669406, 103.3181853922512, 822.0581227231149, 218.15873242739144, 316.293467474922, 1160.3644751409865, 219.61936325787244, 878.7659982511328, 578.9262150103067, 535.8328880336885, 532.6653459344145, 475.88845496632223, 470.4582256562595, 418.89981872194215, 339.57975765789797, 335.54017605033425, 335.0610397494952, 289.1786330832231, 267.2472081917594, 236.18881377504732, 232.90057301187036, 193.8469927215792, 156.4487417331416, 156.39928498420696, 149.9047179238039, 128.9973749847078, 128.2864274290344, 115.77117583787307, 106.05311155697282, 102.39650332013994, 99.07351493552947, 94.23181534617278, 93.33361019647016, 93.09398708426502, 92.43821762199414, 90.9408514575961, 89.52898250621345, 1160.3644751409865, 1548.1644123807278, 471.68814172850847, 1994.19598854803, 456.7528694893612, 443.0372336317104, 254.30837051517227, 183.54454723456752, 164.87610983017575, 151.5315281083717, 138.28899819999575, 87.33958125349089, 82.38220255501365, 79.52882347257047, 72.3435496716691, 47.03073081544792, 39.43882766425975, 32.26859146332054, 24.74093586153929, 24.05872869316629, 14.965301463242728, 10.67462823280188, 2.2580050035861605, 316.293467474922, 134.55487232814315, 2275.0263315279594, 969.4427514884192, 122.56655772604982, 703.8457247595683, 153.2585421311956, 794.3407396891588, 1.2583189750601063, 1.2582094656927618, 1027.2864775711698, 611.3862008322184, 681.6454373242096, 631.6276432526762, 335.0755195180206, 303.9632456579362, 280.30783890181385, 240.62425333771606, 229.10985459111856, 209.5601833815429, 185.6820419880161, 95.27336880368918, 83.9407459703495, 75.33577829190442, 72.54330739634013, 64.21790971112172, 46.985883849399386, 35.33590634784284, 30.29812758704775, 27.24092108567536, 16.40477176074844, 302.97502360112287, 754.6894164535299, 395.94414112358373, 1.2582526326071863, 1.258252933080614, 1.258242260616828, 1.2582365817755272, 1.258236526569256, 1.258221360034824, 1.2582193675014313, 1.2582194601968568, 1.2582604517596936, 539.4313788197097, 232.03440276723643, 191.4024264586867, 157.90061061770848, 156.04851503205606, 116.43664783632369, 112.64591542304757, 101.90766633144881, 89.51235480746837, 87.78597434783424, 80.55952700572705, 67.52112421394745, 66.75544345924779, 54.54280053948522, 34.55688457847185, 30.07497947356049, 19.41581352199071, 122.56655772604982, 1.2581977853734359, 1.258194074135785, 1.2581966660894643, 1.2582052488914908, 1.2582247609730677, 1.258238030864293, 1.2581968039243594, 1.2582223773577603, 1.2582005131547096, 1.25820081606613, 1.2581996210610242, 1.2582097877610539, 1.2581927267634763, 1.2583091630647063, 1.2583189750601063, 1.2583945941506487, 1.2582474988435248, 1.2582754665503468, 1.2583623056188171, 240.28990025698425, 146.34649144706114, 118.13241575576585, 95.19362456730747, 58.32187199277105, 56.30191722671349, 47.31860896905897, 32.491108320703205, 29.871010117892563, 20.037500881979, 19.040833414010844, 18.40955891316211, 17.11462422506755, 11.82586725048044, 4.531003846385535, 1.2582072531326631, 1.2582229305735724, 1.2582332651826302, 1.25820461606888, 1.2582091639379172, 1.2582067335311378, 1.2582012969919338, 1.2582309208123428, 1.2581994847642044, 1.2581929032682573, 1.2581912139568578, 1.258195526365991, 1.2582035573136807, 1.2581961224897764, 1.2581961224897764, 1.2582068056343785, 1.2582330399286814, 1.2582204642440726, 1.258224493642367, 1.2582667395468503, 1.2583024343388354, 1.2582330454910982, 1.2583027238176414, 289.9677807286533, 59.77876413031001, 55.179323140898944, 53.335047150366975, 51.36495369384196, 46.19641102572828, 42.65443211518949, 29.86882937286469, 20.53674779245313, 15.083120273199345, 1.2581969216051307, 1.2581947487597875, 1.2581944361895072, 1.2581925668356488, 1.2581925668356488, 1.258192405523506, 1.25819552337242, 1.2581915121848775, 1.2582045215371016, 1.2581953655816924, 1.2581921218240169, 1.2581926643043164, 1.2581928076782571, 1.2582035349246672, 1.2582129323466933, 1.2582041171613776, 1.2582011387334782, 1.2581958835032085, 1.258205728836819, 1.2581904650321079, 1.2582243279372858, 1.258212695942945, 1.2582604517596936, 93.62377801618175, 40.16350874896983, 28.012072162250778, 26.21575856675009, 20.367108918346236, 14.770017524614847, 14.064575702486422, 13.52301351244291, 11.383249696122899, 9.901501868879976, 9.654610342024478, 8.452107810180173, 7.109180256175422, 1.2582631900937657, 1.2581950121836933, 1.2581903394369995, 1.258190403346965, 1.2581961465678853, 1.2581973721265458, 1.258199693397981, 1.2581933116406867, 1.2582028504233569, 1.2581944153075857, 1.2581936912616678, 1.258192697491257, 1.2582625421381195, 1.2582052373177222, 1.2582102564284776, 1.2581937573388693, 1.2581948932529812, 1.258240898720454, 1.2582267076316394, 1.258224901489793, 1.2582257568184538, 1.2582510812488101], \"Category\": [\"Default\", \"Default\", \"Default\", \"Default\", \"Default\", \"Default\", \"Default\", \"Default\", \"Default\", \"Default\", \"Default\", \"Default\", \"Default\", \"Default\", \"Default\", \"Default\", \"Default\", \"Default\", \"Default\", \"Default\", \"Default\", \"Default\", \"Default\", \"Default\", \"Default\", \"Default\", \"Default\", \"Default\", \"Default\", \"Default\", \"Topic1\", \"Topic1\", \"Topic1\", \"Topic1\", \"Topic1\", \"Topic1\", \"Topic1\", \"Topic1\", \"Topic1\", \"Topic1\", \"Topic1\", \"Topic1\", \"Topic1\", \"Topic1\", \"Topic1\", \"Topic1\", \"Topic1\", \"Topic1\", \"Topic1\", \"Topic1\", \"Topic1\", \"Topic1\", \"Topic1\", \"Topic1\", \"Topic1\", \"Topic1\", \"Topic1\", \"Topic1\", \"Topic1\", \"Topic1\", \"Topic1\", \"Topic1\", \"Topic1\", \"Topic1\", \"Topic1\", \"Topic1\", \"Topic1\", \"Topic1\", \"Topic1\", \"Topic1\", \"Topic1\", \"Topic1\", \"Topic1\", \"Topic1\", \"Topic1\", \"Topic1\", \"Topic1\", \"Topic1\", \"Topic1\", \"Topic1\", \"Topic1\", \"Topic1\", \"Topic1\", \"Topic1\", \"Topic1\", \"Topic1\", \"Topic1\", \"Topic1\", \"Topic1\", \"Topic1\", \"Topic1\", \"Topic1\", \"Topic2\", \"Topic2\", \"Topic2\", \"Topic2\", \"Topic2\", \"Topic2\", \"Topic2\", \"Topic2\", \"Topic2\", \"Topic2\", \"Topic2\", \"Topic2\", \"Topic2\", \"Topic2\", \"Topic2\", \"Topic2\", \"Topic2\", \"Topic2\", \"Topic2\", \"Topic2\", \"Topic2\", \"Topic2\", \"Topic2\", \"Topic2\", \"Topic2\", \"Topic2\", \"Topic2\", \"Topic2\", \"Topic2\", \"Topic2\", \"Topic2\", \"Topic2\", \"Topic2\", \"Topic2\", \"Topic2\", \"Topic2\", \"Topic2\", \"Topic2\", \"Topic2\", \"Topic2\", \"Topic2\", \"Topic2\", \"Topic2\", \"Topic2\", \"Topic2\", \"Topic2\", \"Topic2\", \"Topic2\", \"Topic2\", \"Topic2\", \"Topic2\", \"Topic2\", \"Topic2\", \"Topic2\", \"Topic2\", \"Topic2\", \"Topic2\", \"Topic2\", \"Topic2\", \"Topic2\", \"Topic3\", \"Topic3\", \"Topic3\", \"Topic3\", \"Topic3\", \"Topic3\", \"Topic3\", \"Topic3\", \"Topic3\", \"Topic3\", \"Topic3\", \"Topic3\", \"Topic3\", \"Topic3\", \"Topic3\", \"Topic3\", \"Topic3\", \"Topic3\", \"Topic3\", \"Topic3\", \"Topic3\", \"Topic3\", \"Topic3\", \"Topic3\", \"Topic3\", \"Topic3\", \"Topic3\", \"Topic3\", \"Topic3\", \"Topic3\", \"Topic3\", \"Topic3\", \"Topic3\", \"Topic3\", \"Topic3\", \"Topic3\", \"Topic3\", \"Topic3\", \"Topic3\", \"Topic3\", \"Topic3\", \"Topic3\", \"Topic3\", \"Topic3\", \"Topic3\", \"Topic3\", \"Topic3\", \"Topic3\", \"Topic3\", \"Topic3\", \"Topic3\", \"Topic3\", \"Topic3\", \"Topic3\", \"Topic3\", \"Topic4\", \"Topic4\", \"Topic4\", \"Topic4\", \"Topic4\", \"Topic4\", \"Topic4\", \"Topic4\", \"Topic4\", \"Topic4\", \"Topic4\", \"Topic4\", \"Topic4\", \"Topic4\", \"Topic4\", \"Topic4\", \"Topic4\", \"Topic4\", \"Topic4\", \"Topic4\", \"Topic4\", \"Topic4\", \"Topic4\", \"Topic4\", \"Topic4\", \"Topic4\", \"Topic4\", \"Topic4\", \"Topic4\", \"Topic4\", \"Topic4\", \"Topic4\", \"Topic4\", \"Topic4\", \"Topic4\", \"Topic4\", \"Topic4\", \"Topic4\", \"Topic4\", \"Topic4\", \"Topic4\", \"Topic4\", \"Topic4\", \"Topic4\", \"Topic4\", \"Topic4\", \"Topic4\", \"Topic4\", \"Topic4\", \"Topic4\", \"Topic4\", \"Topic4\", \"Topic4\", \"Topic4\", \"Topic4\", \"Topic5\", \"Topic5\", \"Topic5\", \"Topic5\", \"Topic5\", \"Topic5\", \"Topic5\", \"Topic5\", \"Topic5\", \"Topic5\", \"Topic5\", \"Topic5\", \"Topic5\", \"Topic5\", \"Topic5\", \"Topic5\", \"Topic5\", \"Topic5\", \"Topic5\", \"Topic5\", \"Topic5\", \"Topic5\", \"Topic5\", \"Topic5\", \"Topic5\", \"Topic5\", \"Topic5\", \"Topic5\", \"Topic5\", \"Topic5\", \"Topic5\", \"Topic5\", \"Topic5\", \"Topic5\", \"Topic5\", \"Topic5\", \"Topic5\", \"Topic5\", \"Topic5\", \"Topic5\", \"Topic5\", \"Topic5\", \"Topic5\", \"Topic5\", \"Topic5\", \"Topic5\", \"Topic5\", \"Topic5\", \"Topic6\", \"Topic6\", \"Topic6\", \"Topic6\", \"Topic6\", \"Topic6\", \"Topic6\", \"Topic6\", \"Topic6\", \"Topic6\", \"Topic6\", \"Topic6\", \"Topic6\", \"Topic6\", \"Topic6\", \"Topic6\", \"Topic6\", \"Topic6\", \"Topic6\", \"Topic6\", \"Topic6\", \"Topic6\", \"Topic6\", \"Topic6\", \"Topic6\", \"Topic6\", \"Topic6\", \"Topic6\", \"Topic6\", \"Topic6\", \"Topic6\", \"Topic6\", \"Topic7\", \"Topic7\", \"Topic7\", \"Topic7\", \"Topic7\", \"Topic7\", \"Topic7\", \"Topic7\", \"Topic7\", \"Topic7\", \"Topic7\", \"Topic7\", \"Topic7\", \"Topic7\", \"Topic7\", \"Topic7\", \"Topic7\", \"Topic7\", \"Topic7\", \"Topic7\", \"Topic7\", \"Topic7\", \"Topic7\", \"Topic7\", \"Topic7\", \"Topic7\", \"Topic7\", \"Topic7\", \"Topic7\", \"Topic7\", \"Topic7\", \"Topic7\", \"Topic7\", \"Topic7\", \"Topic7\", \"Topic7\", \"Topic7\", \"Topic7\", \"Topic7\", \"Topic7\", \"Topic7\", \"Topic7\", \"Topic7\", \"Topic7\", \"Topic7\", \"Topic7\", \"Topic7\", \"Topic7\", \"Topic7\", \"Topic7\", \"Topic8\", \"Topic8\", \"Topic8\", \"Topic8\", \"Topic8\", \"Topic8\", \"Topic8\", \"Topic8\", \"Topic8\", \"Topic8\", \"Topic8\", \"Topic8\", \"Topic8\", \"Topic8\", \"Topic8\", \"Topic8\", \"Topic8\", \"Topic8\", \"Topic8\", \"Topic8\", \"Topic8\", \"Topic8\", \"Topic8\", \"Topic8\", \"Topic8\", \"Topic8\", \"Topic8\", \"Topic8\", \"Topic8\", \"Topic8\", \"Topic8\", \"Topic8\", \"Topic8\", \"Topic8\", \"Topic8\", \"Topic8\", \"Topic8\", \"Topic8\", \"Topic8\", \"Topic9\", \"Topic9\", \"Topic9\", \"Topic9\", \"Topic9\", \"Topic9\", \"Topic9\", \"Topic9\", \"Topic9\", \"Topic9\", \"Topic9\", \"Topic9\", \"Topic9\", \"Topic9\", \"Topic9\", \"Topic9\", \"Topic9\", \"Topic9\", \"Topic9\", \"Topic9\", \"Topic9\", \"Topic9\", \"Topic9\", \"Topic9\", \"Topic9\", \"Topic9\", \"Topic9\", \"Topic9\", \"Topic9\", \"Topic9\", \"Topic9\", \"Topic9\", \"Topic9\", \"Topic9\", \"Topic9\", \"Topic9\", \"Topic9\", \"Topic9\", \"Topic9\", \"Topic9\", \"Topic9\", \"Topic10\", \"Topic10\", \"Topic10\", \"Topic10\", \"Topic10\", \"Topic10\", \"Topic10\", \"Topic10\", \"Topic10\", \"Topic10\", \"Topic10\", \"Topic10\", \"Topic10\", \"Topic10\", \"Topic10\", \"Topic10\", \"Topic10\", \"Topic10\", \"Topic10\", \"Topic10\", \"Topic10\", \"Topic10\", \"Topic10\", \"Topic10\", \"Topic10\", \"Topic10\", \"Topic10\", \"Topic10\", \"Topic10\", \"Topic10\", \"Topic10\", \"Topic10\", \"Topic10\", \"Topic10\", \"Topic10\", \"Topic10\", \"Topic10\", \"Topic10\", \"Topic10\", \"Topic10\", \"Topic10\", \"Topic10\", \"Topic10\", \"Topic10\", \"Topic11\", \"Topic11\", \"Topic11\", \"Topic11\", \"Topic11\", \"Topic11\", \"Topic11\", \"Topic11\", \"Topic11\", \"Topic11\", \"Topic11\", \"Topic11\", \"Topic11\", \"Topic11\", \"Topic11\", \"Topic11\", \"Topic11\", \"Topic11\", \"Topic11\", \"Topic11\", \"Topic11\", \"Topic11\", \"Topic11\", \"Topic11\", \"Topic11\", \"Topic11\", \"Topic11\", \"Topic11\", \"Topic11\", \"Topic11\", \"Topic11\", \"Topic11\", \"Topic11\", \"Topic11\", \"Topic11\", \"Topic11\", \"Topic11\", \"Topic11\", \"Topic11\", \"Topic11\", \"Topic12\", \"Topic12\", \"Topic12\", \"Topic12\", \"Topic12\", \"Topic12\", \"Topic12\", \"Topic12\", \"Topic12\", \"Topic12\", \"Topic12\", \"Topic12\", \"Topic12\", \"Topic12\", \"Topic12\", \"Topic12\", \"Topic12\", \"Topic12\", \"Topic12\", \"Topic12\", \"Topic12\", \"Topic12\", \"Topic12\", \"Topic12\", \"Topic12\", \"Topic12\", \"Topic12\", \"Topic12\", \"Topic12\", \"Topic12\", \"Topic12\", \"Topic12\", \"Topic12\", \"Topic12\", \"Topic12\", \"Topic12\", \"Topic12\", \"Topic12\", \"Topic12\", \"Topic12\", \"Topic12\", \"Topic13\", \"Topic13\", \"Topic13\", \"Topic13\", \"Topic13\", \"Topic13\", \"Topic13\", \"Topic13\", \"Topic13\", \"Topic13\", \"Topic13\", \"Topic13\", \"Topic13\", \"Topic13\", \"Topic13\", \"Topic13\", \"Topic13\", \"Topic13\", \"Topic13\", \"Topic13\", \"Topic13\", \"Topic13\", \"Topic13\", \"Topic13\", \"Topic13\", \"Topic13\", \"Topic13\", \"Topic13\", \"Topic13\", \"Topic13\", \"Topic13\", \"Topic13\", \"Topic13\", \"Topic13\", \"Topic13\", \"Topic14\", \"Topic14\", \"Topic14\", \"Topic14\", \"Topic14\", \"Topic14\", \"Topic14\", \"Topic14\", \"Topic14\", \"Topic14\", \"Topic14\", \"Topic14\", \"Topic14\", \"Topic14\", \"Topic14\", \"Topic14\", \"Topic14\", \"Topic14\", \"Topic14\", \"Topic14\", \"Topic14\", \"Topic14\", \"Topic14\", \"Topic14\", \"Topic14\", \"Topic14\", \"Topic14\", \"Topic14\", \"Topic14\", \"Topic14\", \"Topic14\", \"Topic14\", \"Topic14\", \"Topic15\", \"Topic15\", \"Topic15\", \"Topic15\", \"Topic15\", \"Topic15\", \"Topic15\", \"Topic15\", \"Topic15\", \"Topic15\", \"Topic15\", \"Topic15\", \"Topic15\", \"Topic15\", \"Topic15\", \"Topic15\", \"Topic15\", \"Topic15\", \"Topic15\", \"Topic15\", \"Topic15\", \"Topic15\", \"Topic15\", \"Topic15\", \"Topic15\", \"Topic15\", \"Topic15\", \"Topic15\", \"Topic15\", \"Topic15\", \"Topic15\", \"Topic15\", \"Topic15\", \"Topic16\", \"Topic16\", \"Topic16\", \"Topic16\", \"Topic16\", \"Topic16\", \"Topic16\", \"Topic16\", \"Topic16\", \"Topic16\", \"Topic16\", \"Topic16\", \"Topic16\", \"Topic16\", \"Topic16\", \"Topic16\", \"Topic16\", \"Topic16\", \"Topic16\", \"Topic16\", \"Topic16\", \"Topic16\", \"Topic16\", \"Topic16\", \"Topic16\", \"Topic16\", \"Topic16\", \"Topic16\", \"Topic16\", \"Topic16\", \"Topic16\", \"Topic17\", \"Topic17\", \"Topic17\", \"Topic17\", \"Topic17\", \"Topic17\", \"Topic17\", \"Topic17\", \"Topic17\", \"Topic17\", \"Topic17\", \"Topic17\", \"Topic17\", \"Topic17\", \"Topic17\", \"Topic17\", \"Topic17\", \"Topic17\", \"Topic17\", \"Topic17\", \"Topic17\", \"Topic17\", \"Topic17\", \"Topic17\", \"Topic17\", \"Topic17\", \"Topic17\", \"Topic17\", \"Topic17\", \"Topic17\", \"Topic17\", \"Topic17\", \"Topic17\", \"Topic17\", \"Topic17\", \"Topic17\", \"Topic18\", \"Topic18\", \"Topic18\", \"Topic18\", \"Topic18\", \"Topic18\", \"Topic18\", \"Topic18\", \"Topic18\", \"Topic18\", \"Topic18\", \"Topic18\", \"Topic18\", \"Topic18\", \"Topic18\", \"Topic18\", \"Topic18\", \"Topic18\", \"Topic18\", \"Topic18\", \"Topic18\", \"Topic18\", \"Topic18\", \"Topic18\", \"Topic18\", \"Topic18\", \"Topic18\", \"Topic18\", \"Topic18\", \"Topic18\", \"Topic18\", \"Topic18\", \"Topic18\", \"Topic18\", \"Topic18\", \"Topic18\", \"Topic18\", \"Topic18\", \"Topic19\", \"Topic19\", \"Topic19\", \"Topic19\", \"Topic19\", \"Topic19\", \"Topic19\", \"Topic19\", \"Topic19\", \"Topic19\", \"Topic19\", \"Topic19\", \"Topic19\", \"Topic19\", \"Topic19\", \"Topic19\", \"Topic19\", \"Topic19\", \"Topic19\", \"Topic19\", \"Topic19\", \"Topic19\", \"Topic19\", \"Topic19\", \"Topic19\", \"Topic19\", \"Topic19\", \"Topic19\", \"Topic19\", \"Topic19\", \"Topic19\", \"Topic19\", \"Topic19\", \"Topic20\", \"Topic20\", \"Topic20\", \"Topic20\", \"Topic20\", \"Topic20\", \"Topic20\", \"Topic20\", \"Topic20\", \"Topic20\", \"Topic20\", \"Topic20\", \"Topic20\", \"Topic20\", \"Topic20\", \"Topic20\", \"Topic20\", \"Topic20\", \"Topic20\", \"Topic20\", \"Topic20\", \"Topic20\", \"Topic20\", \"Topic20\", \"Topic20\", \"Topic20\", \"Topic20\", \"Topic20\", \"Topic20\", \"Topic20\", \"Topic20\", \"Topic20\", \"Topic20\", \"Topic20\", \"Topic20\"], \"logprob\": [30.0, 29.0, 28.0, 27.0, 26.0, 25.0, 24.0, 23.0, 22.0, 21.0, 20.0, 19.0, 18.0, 17.0, 16.0, 15.0, 14.0, 13.0, 12.0, 11.0, 10.0, 9.0, 8.0, 7.0, 6.0, 5.0, 4.0, 3.0, 2.0, 1.0, -4.0209, -4.6541, -5.0024, -5.0721, -5.1981, -5.2662, -5.2757, -5.2775, -5.0697, -5.3273, -5.3608, -5.3771, -5.3913, -5.3925, -5.6631, -5.6809, -5.7382, -5.8061, -5.8427, -5.8722, -5.9615, -5.9636, -5.9933, -6.0973, -6.1677, -6.1709, -6.225, -6.2729, -6.3438, -6.3503, -4.1928, -4.179, -4.9459, -5.2779, -5.0527, -3.7643, -5.3793, -4.7808, -5.317, -4.3329, -5.1004, -4.5844, -4.7962, -4.6579, -4.6385, -4.4631, -4.222, -4.2543, -4.3384, -4.989, -4.6653, -4.8507, -4.817, -4.8295, -4.9632, -4.928, -4.5966, -4.9162, -4.9924, -4.9521, -4.963, -5.0454, -4.0704, -4.0844, -4.2055, -4.5786, -4.7665, -4.7813, -4.8422, -5.0004, -5.1912, -5.2464, -5.2501, -5.2595, -5.2667, -5.2709, -5.2725, -5.283, -5.3133, -5.3174, -5.3677, -5.3864, -5.3957, -5.4447, -5.4484, -5.5768, -5.6659, -5.7702, -5.8301, -5.8553, -5.9706, -6.007, -5.7527, -5.6351, -4.7584, -5.5822, -4.2962, -4.9635, -4.6636, -5.2362, -5.0228, -4.4454, -3.8309, -4.4188, -4.8286, -3.9505, -4.6294, -4.4944, -4.795, -4.9081, -5.1707, -4.9489, -5.1822, -5.0434, -5.106, -4.5897, -4.595, -5.1141, -5.027, -4.9654, -4.8754, -5.0327, -2.8823, -2.9938, -3.721, -4.0143, -4.4378, -4.4767, -4.5085, -4.8247, -5.007, -5.1215, -5.3288, -5.379, -5.4309, -5.4583, -5.7135, -5.7351, -5.8126, -5.8591, -5.9381, -5.962, -6.0002, -6.0744, -6.0856, -6.1316, -6.1707, -6.2353, -6.2584, -6.2694, -6.3644, -6.3713, -3.5563, -2.5822, -2.0409, -5.03, -4.7954, -4.6032, -4.8757, -2.7723, -5.7744, -2.6042, -4.4912, -4.951, -4.3398, -4.3173, -4.9901, -4.5714, -5.0429, -4.3577, -4.4947, -4.4692, -4.9632, -4.7699, -4.7915, -4.8861, -4.9073, -3.7765, -4.2618, -4.3498, -4.5774, -4.6421, -4.6447, -4.6765, -4.8239, -4.8243, -4.8264, -4.8768, -4.8769, -4.8891, -4.935, -4.9421, -5.0076, -5.0805, -5.2279, -5.2871, -5.4152, -5.5323, -5.5619, -5.5693, -5.6276, -5.6579, -5.6804, -5.7519, -5.7634, -5.8044, -5.8098, -4.0336, -3.7459, -5.089, -4.4993, -5.0658, -4.4183, -4.8418, -4.8916, -3.4352, -4.4961, -4.4586, -4.5699, -4.2676, -3.5866, -4.1347, -4.4395, -4.5126, -4.5793, -4.5294, -4.6181, -4.3641, -4.5013, -4.4694, -4.7734, -4.7191, -4.023, -4.1735, -4.311, -4.5467, -4.5563, -4.6824, -4.7728, -4.8336, -4.855, -4.9632, -5.0082, -5.0182, -5.0785, -3.5739, -5.1015, -5.1326, -5.157, -5.1662, -5.1851, -5.324, -5.3489, -5.3557, -5.3861, -5.4106, -5.4414, -5.475, -5.4809, -5.5296, -5.5352, -5.5487, -5.1124, -5.4502, -4.7748, -4.7295, -4.0869, -4.047, -4.9478, -5.3032, -5.1604, -5.1258, -3.4649, -5.1638, -4.5125, -4.1125, -4.7417, -5.0847, -5.097, -5.1554, -0.2678, -3.3595, -3.7291, -4.2825, -4.5036, -5.1658, -5.1681, -5.2875, -5.515, -5.7208, -5.8903, -5.9157, -5.9445, -6.0177, -6.0964, -6.1159, -6.3279, -6.4339, -6.4539, -6.4899, -6.7201, -6.9781, -7.1109, -7.6929, -7.7077, -7.8505, -7.966, -13.0733, -13.0911, -13.0912, -8.5212, -9.3178, -3.8656, -4.0259, -4.3733, -4.4171, -4.5359, -4.6505, -4.7553, -4.7899, -4.8038, -4.8167, -4.8853, -4.9475, -4.954, -4.9588, -4.9621, -4.9821, -5.0126, -5.0422, -5.1131, -5.1596, -5.1628, -5.1763, -5.2214, -5.4051, -5.4747, -5.4882, -5.4999, -5.5203, -5.5294, -5.5374, -4.966, -4.1553, -4.227, -4.2888, -3.962, -4.7067, -4.4058, -4.4835, -3.9484, -4.3942, -3.9589, -4.6418, -4.4077, -4.771, -4.5181, -4.6198, -4.9039, -4.937, -4.837, -4.8804, -2.8002, -3.5793, -3.6069, -3.6832, -3.8071, -3.9597, -4.0594, -4.0605, -4.2432, -4.2519, -4.2864, -4.3304, -4.4305, -4.5712, -4.6976, -4.7139, -4.7636, -4.7894, -4.8328, -4.8614, -4.8917, -4.9368, -4.9469, -4.9516, -4.991, -4.9991, -5.0994, -5.1341, -5.1477, -5.1528, -3.8904, -4.6196, -4.1215, -4.9355, -4.5448, -4.6241, -4.8224, -4.7191, -4.6069, -2.5602, -2.6255, -2.9466, -2.999, -3.0227, -3.4596, -3.6722, -3.9946, -4.0162, -4.0827, -4.0988, -4.3024, -4.3223, -4.4656, -4.4721, -4.5019, -4.8299, -4.8511, -4.9276, -4.9696, -4.9771, -5.1013, -5.1199, -5.1263, -5.1533, -5.3107, -5.3588, -5.3613, -5.3873, -5.405, -4.4883, -4.8006, -4.3815, -4.8521, -3.6775, -4.3593, -4.1301, -4.7738, -4.7817, -4.742, -4.9408, -2.2475, -3.1554, -3.4803, -3.5595, -3.5656, -3.8056, -4.0169, -4.0673, -4.0823, -4.126, -4.2008, -4.3404, -4.3797, -4.633, -4.7008, -4.7548, -4.8566, -4.8862, -5.0193, -5.0238, -5.1606, -5.2923, -5.3429, -5.3718, -5.4956, -5.5366, -5.5509, -5.6049, -5.634, -5.7581, -4.286, -4.1723, -4.7918, -3.4558, -4.3672, -3.8508, -4.042, -4.0423, -4.3617, -4.3586, -4.4862, -4.7226, -4.7284, -4.8532, -1.8822, -2.4023, -3.3339, -3.7224, -3.7544, -3.8038, -4.0969, -4.1569, -4.243, -4.3949, -4.5892, -4.6036, -4.6078, -4.7811, -4.8176, -4.9133, -4.9163, -4.9584, -4.972, -4.9971, -5.0554, -5.0735, -5.0797, -5.1989, -5.2523, -5.3158, -5.3175, -5.3703, -5.4287, -5.4497, -3.9986, -4.1976, -4.806, -4.2411, -4.2345, -4.494, -4.9512, -4.4694, -4.8956, -4.8751, -3.1297, -3.1585, -3.3318, -3.4356, -3.6798, -3.7109, -3.8166, -3.8627, -3.9752, -4.027, -4.0994, -4.1615, -4.1617, -4.3235, -4.4032, -4.4217, -4.4905, -4.646, -4.8223, -4.8227, -4.9072, -4.9949, -5.0165, -5.1286, -5.1293, -5.1438, -5.1688, -5.2034, -5.3399, -5.3546, -2.548, -4.9046, -3.7865, -3.8571, -4.4546, -3.7696, -4.5762, -4.3305, -4.3155, -4.5344, -4.5987, -2.2426, -3.5324, -3.5378, -3.7225, -3.7487, -3.7558, -3.9097, -3.9598, -3.9835, -4.0242, -4.1049, -4.177, -4.2379, -4.3185, -4.3415, -4.3918, -4.4999, -4.5177, -4.6052, -4.6413, -4.6671, -4.706, -4.7527, -4.7888, -4.8925, -4.9722, -5.021, -5.0278, -5.0283, -5.0523, -3.647, -4.57, -4.5115, -4.3871, -4.8793, -2.823, -3.2411, -3.3186, -3.3245, -3.4375, -3.449, -3.5654, -3.776, -3.788, -3.7894, -3.9373, -4.0165, -4.1406, -4.1547, -4.3393, -4.5551, -4.5554, -4.5982, -4.7497, -4.7553, -4.8589, -4.9475, -4.983, -5.0164, -5.0672, -5.0769, -5.0795, -5.0866, -5.1032, -5.119, -2.7326, -4.1374, -4.9664, -1.3887, -2.8646, -2.8952, -3.4523, -3.7802, -3.8882, -3.9733, -4.0655, -4.5301, -4.5894, -4.6252, -4.7214, -5.1611, -5.3422, -5.5499, -5.8273, -5.8567, -6.3639, -6.7374, -8.9286, -4.0461, -4.9425, -3.1987, -4.5391, -6.757, -5.0206, -6.5707, -5.1974, -11.8093, -11.8094, -5.4178, -6.2546, -6.7157, -2.1836, -2.8192, -2.917, -2.9984, -3.1518, -3.201, -3.2907, -3.4125, -4.086, -4.2144, -4.3242, -4.3626, -4.4867, -4.8063, -5.1, -5.2597, -5.3708, -5.9092, -3.2108, -3.5066, -4.6638, -11.734, -11.7341, -11.7341, -11.7342, -11.7343, -11.7344, -11.7344, -11.7344, -11.7344, -6.4817, -2.8025, -2.9961, -3.1899, -3.2018, -3.4973, -3.5307, -3.6321, -3.7634, -3.7832, -3.8703, -4.0498, -4.0615, -4.2677, -4.7373, -4.8817, -5.3427, -3.5246, -11.3891, -11.3891, -11.3891, -11.3891, -11.3891, -11.3891, -11.3891, -11.3891, -11.3891, -11.3891, -11.3892, -11.3891, -11.3892, -11.3891, -11.3891, -11.3891, -11.3891, -11.3891, -11.3891, -2.3815, -2.8806, -3.0968, -3.3152, -3.8134, -3.8495, -4.0275, -4.4156, -4.5032, -4.9236, -4.9781, -5.0141, -5.0925, -5.4972, -6.6621, -11.2268, -11.2268, -11.2268, -11.2268, -11.2268, -11.2268, -11.2268, -11.2268, -11.2268, -11.2269, -11.2269, -11.2269, -11.2268, -11.2269, -11.2269, -11.2268, -11.2268, -11.2268, -11.2268, -11.2268, -11.2268, -11.2268, -11.2268, -1.9607, -3.5564, -3.6382, -3.673, -3.7115, -3.8203, -3.9024, -4.2715, -4.6658, -4.9977, -11.1834, -11.1834, -11.1834, -11.1834, -11.1834, -11.1834, -11.1834, -11.1835, -11.1834, -11.1835, -11.1835, -11.1835, -11.1835, -11.1835, -11.1834, -11.1835, -11.1835, -11.1835, -11.1835, -11.1835, -11.1834, -11.1835, -11.1835, -2.6285, -3.4928, -3.867, -3.9364, -4.2032, -4.5494, -4.6029, -4.646, -4.8374, -4.9953, -5.0242, -5.1784, -5.3844, -11.0491, -11.0492, -11.0492, -11.0492, -11.0492, -11.0492, -11.0492, -11.0492, -11.0492, -11.0492, -11.0492, -11.0492, -11.0492, -11.0492, -11.0492, -11.0492, -11.0492, -11.0492, -11.0492, -11.0492, -11.0492, -11.0492], \"loglift\": [30.0, 29.0, 28.0, 27.0, 26.0, 25.0, 24.0, 23.0, 22.0, 21.0, 20.0, 19.0, 18.0, 17.0, 16.0, 15.0, 14.0, 13.0, 12.0, 11.0, 10.0, 9.0, 8.0, 7.0, 6.0, 5.0, 4.0, 3.0, 2.0, 1.0, 1.0666, 1.0664, 1.0663, 1.0663, 1.0662, 1.0662, 1.0662, 1.0662, 1.0662, 1.0662, 1.0661, 1.0661, 1.0661, 1.0661, 1.0659, 1.0659, 1.0659, 1.0658, 1.0658, 1.0658, 1.0657, 1.0657, 1.0656, 1.0655, 1.0654, 1.0654, 1.0654, 1.0653, 1.0652, 1.0652, 1.0597, 1.0563, 1.063, 1.0635, 1.0609, 1.0214, 1.0538, 1.0341, 1.0499, 0.9925, 1.0264, 0.996, 0.9886, 0.9349, 0.9287, 0.8771, 0.7861, 0.7873, 0.7648, 0.9408, 0.7854, 0.8462, 0.751, 0.7185, 0.7675, 0.7237, 0.3822, 0.708, 0.7315, 0.4153, -0.3958, 0.6964, 1.8585, 1.8585, 1.8584, 1.8582, 1.8581, 1.8581, 1.8581, 1.8579, 1.8577, 1.8577, 1.8577, 1.8577, 1.8577, 1.8577, 1.8577, 1.8577, 1.8576, 1.8576, 1.8575, 1.8575, 1.8575, 1.8574, 1.8574, 1.8573, 1.8571, 1.8569, 1.8568, 1.8568, 1.8565, 1.8564, 1.8558, 1.854, 1.8421, 1.8512, 1.8088, 1.7676, 1.7009, 1.7883, 1.7377, 1.5032, 1.1479, 1.4054, 1.5866, 1.1501, 1.4469, 1.2911, 1.3855, 1.4729, 1.718, 1.3768, 1.7238, 1.4971, 1.5635, 0.5135, 0.4466, 1.5295, 1.2115, 0.6588, -0.3082, 0.3347, 2.3878, 2.3878, 2.3876, 2.3874, 2.3871, 2.3871, 2.3871, 2.3867, 2.3865, 2.3863, 2.3859, 2.3858, 2.3857, 2.3856, 2.3849, 2.3849, 2.3846, 2.3845, 2.3842, 2.3841, 2.3839, 2.3836, 2.3836, 2.3834, 2.3832, 2.3829, 2.3827, 2.3827, 2.3822, 2.3821, 2.3666, 2.3368, 2.2852, 2.353, 2.3396, 2.2959, 2.2828, 2.0983, 2.3542, 1.963, 2.1486, 2.1864, 1.9412, 1.7802, 1.8806, 1.5264, 1.8674, 1.2323, 1.2777, 0.9815, 1.6571, 1.1787, 0.9392, 0.4594, 0.1009, 2.3953, 2.395, 2.3949, 2.3947, 2.3947, 2.3947, 2.3946, 2.3945, 2.3945, 2.3945, 2.3944, 2.3944, 2.3944, 2.3943, 2.3943, 2.3942, 2.3941, 2.3938, 2.3937, 2.3935, 2.3932, 2.3931, 2.3931, 2.3929, 2.3928, 2.3928, 2.3926, 2.3925, 2.3924, 2.3924, 2.3906, 2.3872, 2.3868, 2.3597, 2.3534, 2.2813, 2.3172, 2.3023, 2.0825, 2.2297, 2.213, 2.2073, 2.0574, 1.7588, 1.8736, 1.9486, 1.9741, 1.9585, 1.7248, 1.8688, 1.3735, 1.0667, 0.898, 1.9104, 0.871, 2.5745, 2.5744, 2.5743, 2.574, 2.574, 2.5738, 2.5737, 2.5736, 2.5736, 2.5734, 2.5733, 2.5733, 2.5732, 2.5732, 2.5732, 2.5731, 2.5731, 2.573, 2.573, 2.5727, 2.5726, 2.5726, 2.5725, 2.5725, 2.5724, 2.5723, 2.5723, 2.5721, 2.5721, 2.5721, 2.5687, 2.5687, 2.5264, 2.4856, 2.4004, 2.3564, 2.4624, 2.5415, 2.4841, 2.457, 1.6357, 2.4692, 2.0709, 1.6578, 1.9442, 2.3242, 2.2253, 2.3457, 2.9202, 2.9198, 2.9196, 2.9191, 2.9188, 2.9175, 2.9175, 2.9171, 2.9163, 2.9154, 2.9145, 2.9143, 2.9142, 2.9137, 2.9132, 2.913, 2.9113, 2.9103, 2.9101, 2.9098, 2.9071, 2.9032, 2.9008, 2.8857, 2.8852, 2.88, 2.8751, 0.7655, 0.7497, 0.7496, -2.2401, -2.9764, 2.971, 2.9709, 2.9705, 2.9704, 2.9702, 2.97, 2.9698, 2.9697, 2.9697, 2.9697, 2.9695, 2.9694, 2.9694, 2.9693, 2.9693, 2.9693, 2.9692, 2.9691, 2.9689, 2.9688, 2.9688, 2.9687, 2.9686, 2.9679, 2.9676, 2.9676, 2.9675, 2.9674, 2.9674, 2.9674, 2.9649, 2.9306, 2.9082, 2.8911, 2.8207, 2.8794, 2.8283, 2.7021, 2.4059, 2.6077, 2.386, 2.4985, 1.8465, 2.3421, 1.0299, 1.3725, 2.6475, 2.6391, 0.9872, 0.892, 3.8434, 3.8426, 3.8426, 3.8424, 3.8422, 3.8419, 3.8417, 3.8416, 3.8412, 3.8411, 3.841, 3.8409, 3.8405, 3.84, 3.8394, 3.8394, 3.8391, 3.839, 3.8388, 3.8386, 3.8384, 3.8382, 3.8381, 3.8381, 3.8378, 3.8378, 3.8371, 3.8369, 3.8368, 3.8367, 3.8018, 3.6646, 3.3576, 3.5901, 2.8638, 3.0091, 3.3588, 2.5396, 1.7741, 3.8792, 3.8791, 3.8789, 3.8788, 3.8788, 3.8783, 3.878, 3.8773, 3.8773, 3.8771, 3.877, 3.8764, 3.8764, 3.8758, 3.8758, 3.8757, 3.8741, 3.874, 3.8736, 3.8733, 3.8732, 3.8724, 3.8723, 3.8722, 3.872, 3.8707, 3.8702, 3.8702, 3.87, 3.8698, 3.7248, 3.7543, 3.1378, 3.4079, 1.8705, 2.5575, 1.8781, 3.1173, 2.7791, 1.5933, 2.5955, 3.9906, 3.9899, 3.9895, 3.9893, 3.9893, 3.9888, 3.9883, 3.9882, 3.9881, 3.988, 3.9878, 3.9873, 3.9871, 3.9859, 3.9856, 3.9853, 3.9847, 3.9845, 3.9835, 3.9835, 3.9824, 3.9812, 3.9807, 3.9804, 3.9789, 3.9784, 3.9783, 3.9776, 3.9772, 3.9753, 3.9097, 3.7419, 3.8067, 3.2301, 3.2568, 2.8331, 2.5783, 2.3612, 2.5486, 0.9869, 1.0315, 1.6317, 1.5965, 2.2842, 4.0554, 4.0551, 4.0542, 4.0535, 4.0534, 4.0533, 4.0525, 4.0523, 4.052, 4.0514, 4.0505, 4.0504, 4.0504, 4.0494, 4.0491, 4.0485, 4.0485, 4.0481, 4.048, 4.0478, 4.0474, 4.0472, 4.0472, 4.0461, 4.0456, 4.0449, 4.0449, 4.0443, 4.0435, 4.0434, 3.7254, 3.6333, 3.6915, 3.0825, 2.9992, 2.6202, 3.4249, 2.1063, 3.1544, 1.8245, 4.1296, 4.1295, 4.1293, 4.1291, 4.1286, 4.1285, 4.1283, 4.1281, 4.1278, 4.1277, 4.1274, 4.1272, 4.1272, 4.1265, 4.1262, 4.1261, 4.1258, 4.1249, 4.1238, 4.1238, 4.1231, 4.1224, 4.1222, 4.1212, 4.1212, 4.1211, 4.1208, 4.1205, 4.1189, 4.1188, 4.0615, 4.0732, 3.9136, 3.9094, 3.7233, 3.2072, 3.4798, 3.1133, 2.9974, 2.9447, 3.0382, 4.3914, 4.3895, 4.3895, 4.389, 4.3889, 4.3889, 4.3884, 4.3882, 4.3881, 4.3879, 4.3875, 4.3872, 4.3869, 4.3865, 4.3863, 4.386, 4.3854, 4.3852, 4.3846, 4.3843, 4.3841, 4.3838, 4.3834, 4.3831, 4.3821, 4.3813, 4.3808, 4.3807, 4.3807, 4.3804, 3.7118, 4.1154, 3.8024, 2.627, 3.7994, 4.469, 4.4683, 4.4682, 4.4681, 4.4679, 4.4679, 4.4675, 4.4669, 4.4668, 4.4668, 4.4663, 4.4659, 4.4653, 4.4653, 4.4642, 4.4627, 4.4627, 4.4624, 4.4611, 4.4611, 4.46, 4.4591, 4.4587, 4.4583, 4.4577, 4.4575, 4.4575, 4.4574, 4.4572, 4.457, 4.2815, 2.5883, 2.9479, 5.0839, 5.0818, 5.0817, 5.0797, 5.0779, 5.0772, 5.0765, 5.0758, 5.0706, 5.0698, 5.0693, 5.0677, 5.0586, 5.0536, 5.0466, 5.0348, 5.0333, 5.001, 4.9653, 4.3275, 4.2678, 4.2261, 3.1422, 2.6548, 2.5049, 2.4934, 2.4678, 2.1957, 2.0315, 2.0314, 1.7181, 1.4003, 0.8304, 5.4387, 5.437, 5.4366, 5.4363, 5.4356, 5.4353, 5.4348, 5.4341, 5.4278, 5.4261, 5.4244, 5.4238, 5.4216, 5.4145, 5.4057, 5.3998, 5.3951, 5.3638, 5.1462, 3.9376, 3.4255, 2.1068, 2.1067, 2.1067, 2.1067, 2.1066, 2.1065, 2.1065, 2.1065, 2.1064, 1.2983, 5.8212, 5.8201, 5.8187, 5.8186, 5.816, 5.8156, 5.8145, 5.8128, 5.8125, 5.8113, 5.8083, 5.8081, 5.8039, 5.7907, 5.7852, 5.7618, 5.7374, 2.4518, 2.4518, 2.4518, 2.4517, 2.4517, 2.4517, 2.4517, 2.4517, 2.4517, 2.4517, 2.4517, 2.4517, 2.4517, 2.4517, 2.4517, 2.4517, 2.4517, 2.4517, 2.4516, 6.2073, 6.204, 6.2019, 6.1994, 6.1912, 6.1904, 6.1862, 6.174, 6.1705, 6.1493, 6.1459, 6.1436, 6.1382, 6.1031, 5.8975, 2.6141, 2.6141, 2.6141, 2.6141, 2.6141, 2.6141, 2.614, 2.614, 2.614, 2.614, 2.614, 2.614, 2.614, 2.614, 2.614, 2.614, 2.614, 2.614, 2.614, 2.614, 2.614, 2.614, 2.614, 6.4401, 6.4235, 6.4218, 6.421, 6.4201, 6.4173, 6.4151, 6.4023, 6.3826, 6.3593, 2.6575, 2.6575, 2.6575, 2.6575, 2.6575, 2.6574, 2.6574, 2.6574, 2.6574, 2.6574, 2.6574, 2.6574, 2.6574, 2.6574, 2.6574, 2.6574, 2.6574, 2.6574, 2.6574, 2.6574, 2.6574, 2.6574, 2.6574, 6.9028, 6.8848, 6.8709, 6.8678, 6.8534, 6.8286, 6.824, 6.8201, 6.801, 6.7826, 6.7789, 6.7578, 6.7248, 2.7917, 2.7917, 2.7917, 2.7917, 2.7917, 2.7917, 2.7917, 2.7917, 2.7917, 2.7917, 2.7917, 2.7917, 2.7917, 2.7917, 2.7917, 2.7917, 2.7917, 2.7917, 2.7917, 2.7917, 2.7917, 2.7916]}, \"token.table\": {\"Topic\": [9, 2, 15, 6, 1, 4, 16, 10, 1, 2, 18, 10, 1, 2, 4, 5, 7, 16, 4, 6, 4, 15, 2, 12, 3, 17, 3, 5, 2, 8, 1, 2, 3, 14, 10, 9, 9, 5, 10, 12, 8, 11, 17, 4, 7, 10, 9, 8, 14, 6, 1, 1, 9, 2, 9, 1, 11, 3, 9, 6, 1, 4, 10, 3, 5, 5, 12, 1, 7, 7, 2, 12, 17, 8, 3, 3, 12, 1, 3, 12, 17, 9, 7, 6, 11, 3, 4, 1, 5, 13, 1, 2, 4, 5, 13, 10, 5, 7, 6, 2, 14, 1, 8, 3, 4, 10, 2, 8, 7, 5, 2, 2, 15, 10, 10, 3, 8, 17, 4, 3, 11, 1, 2, 7, 8, 10, 2, 7, 18, 3, 4, 16, 12, 5, 9, 12, 3, 7, 1, 3, 4, 5, 7, 3, 6, 18, 5, 3, 4, 12, 11, 3, 1, 15, 13, 14, 5, 1, 1, 5, 12, 3, 3, 2, 4, 15, 13, 5, 10, 10, 16, 3, 9, 6, 1, 5, 3, 10, 5, 19, 5, 9, 19, 5, 12, 1, 16, 7, 14, 2, 10, 12, 12, 7, 10, 11, 10, 18, 7, 4, 15, 5, 1, 2, 4, 6, 4, 11, 6, 2, 16, 4, 4, 10, 3, 8, 20, 7, 9, 1, 4, 15, 5, 16, 13, 2, 14, 11, 4, 11, 19, 10, 2, 13, 7, 3, 4, 12, 10, 1, 6, 13, 11, 15, 4, 13, 15, 13, 8, 11, 1, 2, 5, 6, 2, 20, 2, 4, 14, 2, 4, 12, 2, 10, 17, 12, 13, 7, 1, 2, 5, 7, 9, 7, 9, 12, 1, 4, 11, 4, 7, 12, 14, 5, 10, 13, 1, 5, 4, 19, 1, 7, 9, 1, 5, 5, 1, 2, 8, 9, 14, 18, 13, 3, 1, 8, 13, 1, 2, 3, 4, 7, 9, 15, 5, 14, 1, 11, 13, 4, 12, 17, 9, 4, 11, 12, 6, 1, 4, 13, 14, 1, 8, 1, 2, 17, 12, 1, 7, 2, 1, 2, 9, 6, 5, 10, 6, 1, 2, 8, 2, 5, 11, 13, 1, 2, 4, 5, 7, 1, 5, 1, 9, 14, 1, 4, 19, 15, 5, 16, 1, 1, 3, 4, 20, 1, 3, 4, 7, 11, 11, 1, 9, 14, 1, 3, 1, 2, 4, 9, 2, 5, 6, 14, 7, 9, 4, 1, 4, 13, 14, 15, 7, 2, 4, 5, 7, 1, 5, 7, 2, 20, 4, 7, 10, 8, 8, 4, 7, 4, 11, 14, 18, 3, 7, 4, 12, 3, 9, 20, 8, 17, 5, 2, 5, 10, 12, 19, 2, 5, 15, 10, 3, 7, 5, 16, 1, 2, 3, 7, 3, 5, 12, 1, 9, 13, 2, 5, 14, 15, 16, 1, 2, 1, 2, 7, 5, 10, 14, 2, 5, 11, 1, 11, 1, 3, 1, 1, 2, 5, 18, 1, 1, 3, 4, 1, 9, 1, 2, 1, 3, 7, 11, 13, 16, 13, 1, 3, 4, 4, 19, 3, 4, 1, 2, 8, 18, 1, 2, 5, 8, 4, 1, 2, 4, 5, 13, 2, 7, 2, 1, 1, 2, 16, 16, 5, 8, 5, 4, 2, 3, 4, 10, 14, 4, 11, 5, 1, 11, 13, 4, 14, 17, 12, 1, 15, 13, 18, 6, 14, 1, 8, 10, 4, 1, 19, 13, 15, 1, 2, 5, 8, 8, 7, 1, 2, 3, 4, 10, 1, 2, 3, 4, 7, 11, 3, 11, 15, 3, 13, 1, 4, 5, 7, 12, 9, 13, 12, 10, 12, 5, 9, 11, 1, 12, 7, 3, 6, 13, 1, 2, 3, 9, 3, 13, 4, 11, 1, 12, 8, 13, 1, 2, 6, 7, 10, 12, 7, 9, 16, 4, 7, 1, 2, 5, 8, 8, 8, 10, 12, 3, 10, 6, 1, 9, 14, 12, 9, 16, 20, 13, 9, 7, 15, 19, 1, 2, 7, 9, 5, 14, 4, 20, 1, 2, 15, 18, 7, 1, 2, 3, 4, 1, 2, 3, 5, 11, 13, 6, 12, 1, 16, 3, 17, 3, 10, 1, 10, 1, 1, 2, 4, 8, 12, 9, 4, 13, 14, 5, 18, 1, 10, 2, 18, 14, 5, 10, 17, 5, 15, 2, 1, 12, 14, 1, 2, 3, 4, 11, 12, 7, 3, 5, 7, 1, 2, 1, 1, 2, 4, 8, 12, 1, 2, 2, 12, 8, 2, 2, 8, 1, 1, 12, 3, 8, 1, 7, 8, 7, 3, 12, 10, 9, 11, 11, 1, 2, 5, 10, 20, 5, 8, 11, 13, 8, 15, 17, 10, 2, 1, 4, 9, 14, 8, 1, 6, 3, 13, 13, 1, 2, 5, 8, 14, 14, 4, 14, 1, 12, 16, 9, 4, 20, 4, 7, 10, 10, 2, 10, 12, 10, 10, 1, 2, 5, 11, 1, 3, 2, 11, 8, 18, 5, 10, 1, 7, 1, 2, 4, 6, 6, 13, 7, 6, 7, 1, 3, 7, 14, 15, 13, 4, 13, 5, 8, 14, 8, 1, 2, 4, 7, 8, 16, 13, 13, 11, 2, 17, 17, 4, 11, 6, 9, 11, 9, 13, 1, 9, 2, 5, 2, 17, 19, 20, 1, 11, 2, 5, 7, 16, 20, 17, 5, 10, 11, 1, 2, 4, 5, 1, 2, 7, 2, 4, 10, 13, 1, 2, 5, 2, 10, 7, 10, 6, 9, 9, 7, 3, 7, 10, 13, 20, 16, 1, 2, 8, 10, 10, 3, 18, 2, 13, 1, 2, 1, 2, 11, 1, 2, 11, 1, 2, 8, 10, 1, 15, 6, 7, 12, 14, 11, 2, 5, 16, 5, 16, 5, 15, 2, 2, 1, 2, 4, 8, 8, 4, 14, 12, 2, 7, 8, 9, 3, 4, 8, 18, 20, 3, 15, 1, 2, 3, 4, 10, 4, 10, 15, 1, 2, 15, 14, 1, 13, 10, 15, 4, 3, 4, 2, 4, 5, 8, 8, 8, 15, 1, 2, 3, 5, 10, 1, 2, 8, 5, 1, 11, 1, 2, 15, 9, 11, 15, 9, 10, 11, 5, 8, 2, 1, 3, 4, 8, 6, 1, 2, 5, 8, 1, 2, 3, 1, 5, 7, 8, 9, 1, 8, 9], \"Freq\": [0.990580284093566, 0.9991384190194201, 0.8431206973882291, 0.9950162892964209, 0.17068484036764778, 0.8282634883179083, 0.9544464344001973, 0.9957567164350206, 0.13076221962507403, 0.8689605641363931, 0.9721333953430205, 0.9889749289992477, 0.521265373240731, 0.21787198779606215, 0.22368412161684123, 0.0001660609663079742, 0.03703159548667825, 0.9932498353129997, 0.9969987600327005, 0.9908075484425772, 0.9108325361598706, 0.08767923621018008, 0.9922301968717852, 0.006553700111438475, 0.9982914829489901, 0.9642566847134335, 0.9974486884507904, 0.9963441528301256, 0.9985233556746628, 0.9989515920246232, 0.1826832262097741, 0.0687082930434991, 0.7485162277444726, 0.9969004141563783, 0.991116838343449, 0.9971656841977612, 0.9987380304367154, 0.9146560364817672, 0.08430009552827347, 0.99738456399432, 0.9987123332924442, 0.9940615442202536, 0.9910466979073448, 0.8327364887858687, 0.13093725833958553, 0.034875811800730724, 0.9973760192394141, 0.83479657737997, 0.15959346332264132, 0.9999853148523704, 0.999467770952781, 0.9992893884143775, 0.9983661694355311, 0.9996617467067885, 0.9977009031562882, 0.9992595488905649, 0.9983865230507091, 0.9970003052020957, 0.9916978693627553, 0.9573303918972166, 0.1955508310187442, 0.7129817909709966, 0.09128589678087395, 0.21998872476812467, 0.7776345619710454, 0.9976433120797252, 0.9947024021987663, 0.27580161309567514, 0.7226887188068493, 0.9949274088409404, 0.0661286197969064, 0.9332760863511226, 0.9955420284453504, 0.9970032744120542, 0.9940936937249318, 0.9984639637676602, 0.9921760390415219, 0.21219066684319385, 0.7871206859434677, 0.9959474137402915, 0.9774718766659215, 0.9920963291968803, 0.9969137985794247, 0.9964414969457606, 0.9992182845748213, 0.004777524199548606, 0.9946805383460198, 0.27094574441752545, 0.7049281056057696, 0.022285580709666592, 0.17781510291378033, 0.6623359525991477, 0.08468992567620279, 0.07456762380255305, 0.9872414968647905, 0.9904651711734804, 0.3764235624578818, 0.6228098942484953, 0.9925877399663757, 0.9980799861217198, 0.9984001156169958, 0.9985615117441876, 0.9995879552059125, 0.06999656635992313, 0.6157220085111823, 0.31405539065912413, 0.9974997746588188, 0.9989660393290009, 0.9971226482599094, 0.9979013287096898, 0.9996438560104033, 0.9989076630409309, 0.9832220733101833, 0.9985944325859868, 0.9966620819745117, 0.9943297864507393, 0.9946953722707714, 0.9926728909103489, 0.9991301558006109, 0.9988624792747274, 0.9907752216123875, 0.871209238198785, 0.12857231308613357, 0.9975809989666342, 0.9592557806389092, 0.039049350362291874, 0.2811883308775042, 0.7165767141717042, 0.9348729945566099, 0.3433155128751246, 0.6561140912724603, 0.9953342763907792, 0.9960195140531801, 0.7951734933007575, 0.20335124608220428, 0.9938630344657149, 0.08703671603588814, 0.9115950784811442, 0.06279695137536047, 0.006660282721629141, 0.05233079281280039, 0.3453832325644826, 0.5328226177303312, 0.9979121851391788, 0.9982363598237222, 0.9541071881579036, 0.9972901698114127, 0.9931612502395285, 0.6019495288317681, 0.3968715514228761, 0.9911317719682156, 0.9960575844185862, 0.9200139714189517, 0.07177413961424446, 0.17149783905252797, 0.8281880569320572, 0.9991069402693025, 0.9988546794922369, 0.46013182326572616, 0.21728447209770402, 0.3218598864762781, 0.9987236809588493, 0.9957750132968815, 0.7651225020097145, 0.19858141273534577, 0.03407034042027991, 0.9925199176671798, 0.9978927434483253, 0.9957541611986854, 0.9924571731535361, 0.9787257094867722, 0.9971344538962226, 0.9907181716715622, 0.9966556056362792, 0.9942428378167065, 0.005603341107808139, 0.9666612913374385, 0.03152156384795995, 0.9993154154911617, 0.9281899067579602, 0.37145772174051184, 0.6230903719518264, 0.9741016455788749, 0.1975113790616985, 0.8010183706391105, 0.982516073053915, 0.01668423520280233, 0.9961863565099836, 0.993964713477105, 0.6343790664618036, 0.0026487643693603492, 0.3615563364176877, 0.99676658548346, 0.9226132194374789, 0.018309854410005093, 0.0579812056316828, 0.993093944536974, 0.9234333141923172, 0.9967359881916313, 0.9980974103237799, 0.9606864940243042, 0.998942273836455, 0.12256107366508052, 0.7193026119470017, 0.15766351709342882, 0.9989923666177569, 0.9955138171854879, 0.9869179663180756, 0.9959559093262313, 0.9988249683792357, 0.9967902175617973, 0.9982688118558234, 0.9980794644947656, 0.9833415465272723, 0.9000920137848374, 0.09857202363351648, 0.9328766334079563, 0.5228015155311184, 0.47566367396683723, 0.6254872659184919, 0.23076655980829816, 0.14329504475715277, 0.9972558602345094, 0.9909412780578714, 0.9947191455050138, 0.996821989502852, 0.9949666804449953, 0.9996946147294745, 0.8916732044377456, 0.1076048821163405, 0.9966624542691558, 0.9951318450278699, 0.49266589405918665, 0.5060469430336337, 0.9979963258543564, 0.6017847528103638, 0.39720780210311857, 0.9884591305330439, 0.9977289412439162, 0.9966132923257683, 0.002638870147376262, 0.9948646947964882, 0.9968792684011961, 0.4428688149104193, 0.9988572479300024, 0.5532836368613122, 0.44262690948904976, 0.9919465878212418, 0.9926480968726219, 0.9922791011416306, 0.6905984424703052, 0.3078716832691046, 0.0014488079212663745, 0.9567292615649137, 0.9997335175767756, 0.9478661739343518, 0.8741126790588467, 0.1253152690332152, 0.9959242041133659, 0.983619797253967, 0.01595675221501221, 0.9936147012785398, 0.9986536177962054, 0.9910822266976007, 0.9886834178592647, 0.9897652462255481, 0.9957414944986371, 0.9952369274651696, 0.000900165499377725, 0.8538069761597722, 0.14492664539981373, 0.9979432887833256, 0.9994182567932395, 0.9971283229906018, 0.9965661925178191, 0.9974551460086332, 0.06953597019759335, 0.6915495118281201, 0.23813688423833335, 0.9982441576710727, 0.9937635845252185, 0.004311338761497694, 0.9922682536382929, 0.8888789350224389, 0.01674258268021717, 0.09436728419758769, 0.004707894939331446, 0.9933658321989352, 0.9996433552641562, 0.9869725622193793, 0.31487722649485267, 0.21751387356552324, 0.46610115764040694, 0.1050119972670574, 0.8938826108830008, 0.9975872251856602, 0.9248539251567065, 0.002520724789197892, 0.03125698738605386, 0.04133988654284543, 0.9896542484206364, 0.9301643394951107, 0.9940445397490439, 0.9960163317711381, 0.4006932662702981, 0.04097999314128049, 0.5509532411216599, 0.007792891694425435, 0.6173701975694817, 0.015152844961382791, 0.30825216035727276, 0.05022085758629725, 0.9892938330341107, 0.9948551810838085, 0.9990189607150897, 0.9968735605814696, 0.5901020660326074, 0.4055433951746725, 0.9955727679171665, 0.6929037847342603, 0.3059753346450298, 0.9717139471346298, 0.9993166113434901, 0.997315527216139, 0.9916569747261921, 0.9958283355265152, 0.9921680793474841, 0.95569669772151, 0.044179045169995025, 0.9924373803126515, 0.9954098609935067, 0.21880141937436154, 0.7775264724196062, 0.7151173183177774, 0.2846238082856825, 0.9549471951113974, 0.9962413575722948, 0.9999080281009594, 0.9980159350609545, 0.9990989409644778, 0.9896940476316141, 0.008149223153561298, 0.0020373057883903245, 0.9952603196945735, 0.8034904614244839, 0.1960760066027133, 0.999284654790162, 0.9872095501004259, 0.012532933741509312, 0.9982425344525995, 0.06631671367209524, 0.23795997258810644, 0.6553651704065883, 0.039009831571820724, 0.19283167797291947, 0.6230522565959962, 0.11083141102909547, 0.06327874481053086, 0.00973519150931244, 0.999003627183784, 0.9994476642582477, 0.9986377879071558, 0.9868295528050048, 0.9978519476931561, 0.9991381981634683, 0.9989313901568035, 0.9251708299686158, 0.9635174839245122, 0.997791620693549, 0.9951557972349148, 0.9993203105741364, 0.3691659797389912, 0.4225933624276407, 0.20819444608996326, 0.9710306996273159, 0.3685210803536505, 0.011033565280049416, 0.02515652883851267, 0.5565330327256925, 0.03839680717457197, 0.9906869176388613, 0.6654765759464198, 0.3319939070157754, 0.9953479039245635, 0.999218455517618, 0.9997738917550428, 0.1448911224981913, 0.7618621441163066, 0.09280607846289378, 0.9936286588136567, 0.9949896579958261, 0.002771558935921521, 0.9976870000835798, 0.993338792386863, 0.11264754741043244, 0.8810647458173109, 0.9981570510478897, 0.9988505029756617, 0.9646020753352211, 0.03468729727678301, 0.9891644609941613, 0.9846623806266835, 0.994610471682811, 0.049177129460503295, 0.5111196734091654, 0.1144779079244503, 0.32448843619430456, 0.07731875707175327, 0.05476745292582524, 0.8666144021792347, 0.9976093068161422, 0.8286196663139983, 0.3372528700502776, 0.5675827694109031, 0.09444862410919268, 0.9958764371855486, 0.995429637923428, 0.9913709690375051, 0.006837041165775898, 0.9588005698095491, 0.04005770574676014, 0.9968332941654796, 0.9768761475480311, 0.9531374565710077, 0.04571169434575241, 0.9980534763623087, 0.9967613678606454, 0.9983918028714024, 0.9973513686826968, 0.924308011488877, 0.9941447690635015, 0.980641308809867, 0.998539610383498, 0.6966367760120331, 0.21468005424099634, 0.053670013560249086, 0.03434880867855941, 0.9734263618346141, 0.0050372819825390425, 0.994023644554371, 0.9559939884326882, 0.9995819980812128, 0.9659224739453878, 0.03240514106139365, 0.9991405037804038, 0.9822690052165033, 0.7553587315454392, 0.14295584282356508, 0.10156473504739903, 0.9957589230161077, 0.995512300515406, 0.9974511041321008, 0.9961850677269332, 0.8978609341485071, 0.10141369850168143, 0.9966111879219546, 0.1597950161222629, 0.8396871866297255, 0.9882485741718765, 0.9915848917451434, 0.9621940828489774, 0.9835075055630915, 0.0162414083487483, 0.013298682440556462, 0.22198569920005787, 0.7631397769734708, 0.9976838371069775, 0.7801764925687094, 0.2183646161265681, 0.9130404920334735, 0.0863686951923556, 0.9866907839305811, 0.6213286661174705, 0.37820005763672115, 0.09764983053675184, 0.9022938122945726, 0.9993791279549727, 0.2991768769480612, 0.0963640877061171, 0.6039563171348502, 0.9874610870976606, 0.9996099619360393, 0.7414568497027724, 0.2349737649299607, 0.023401858702374136, 0.7326288332458214, 0.2666237269336447, 0.999219818748944, 0.998832354231811, 0.21538789583934803, 0.005959348896740854, 0.6946898142486482, 0.07491752898759932, 0.00851335556677265, 0.9887927375498688, 0.9920323612565186, 0.7547528561519242, 0.2450871302377602, 0.996352007774614, 0.9993219738536949, 0.9709118371524127, 0.6396762657193896, 0.3597920225955661, 0.7562523753908402, 0.24361205244042283, 0.9966002887372166, 0.6621049334118653, 0.07184013413766772, 0.679964581710664, 0.12171640560904214, 0.12629221033118657, 0.9965362491602574, 0.36727389043631975, 0.566802494375282, 0.02976532903261383, 0.03581929425958613, 0.994390634922062, 0.9981541018639166, 0.9968178291394292, 0.9985666144120667, 0.9994448543186416, 0.04826278356935364, 0.951367100575748, 0.9925549627015628, 0.9866345777452988, 0.9670340093596503, 0.03164119458027486, 0.9985415013870577, 0.9991078842426208, 0.09998038356854737, 0.4813009162485885, 0.17438438994514077, 0.24355686462337994, 0.9863618065572629, 0.9966491931470915, 0.9965984819264431, 0.9981944867048204, 0.30012649587708007, 0.6952297309557678, 0.9967896868316647, 0.9986061063794668, 0.9991283251142429, 0.9942963449337828, 0.9935399780387101, 0.9989344109456257, 0.9983516918236268, 0.9975338687995858, 0.9946318998193235, 0.9499230888309373, 0.9961332297287887, 0.38206906846276933, 0.6146328492661941, 0.9962125838511728, 0.9980969083024726, 0.9987266388861199, 0.9786274445975429, 0.9891209922561187, 0.9780838869059343, 0.9679914960299303, 0.03169483696072235, 0.8993291837991368, 0.09921425159349909, 0.9958969546156534, 0.9983840397948067, 0.43568756470640363, 0.008091340487404638, 0.31493986820205744, 0.217636312084294, 0.02365161065549048, 0.38640737105488854, 0.03410941355316993, 0.329392365918568, 0.1249848584211044, 0.1249848584211044, 0.996851253931624, 0.9997878069737196, 0.9910865410811086, 0.9976588116009847, 0.9969355550572819, 0.9977107278160907, 0.3924228809047952, 0.28229630167854836, 0.12284542358758807, 0.20195043120080766, 0.9978847966627584, 0.23835855398227926, 0.7563300270591553, 0.9877940133179303, 0.3311525091416133, 0.6650646225260735, 0.9977416217071003, 0.9926961619975364, 0.9951306029891138, 0.4763840083701934, 0.5203579168351343, 0.9958725618830835, 0.9967803694189984, 0.9852633969212793, 0.996669114779084, 0.04910208891482559, 0.0006363121673627507, 0.9501201179004806, 0.990610115128285, 0.9978886850128849, 0.9915595712880775, 0.9984907457415375, 0.9866028855593599, 0.049127498294584016, 0.9457043421707423, 0.9978157073121665, 0.9913079584878639, 0.2923296583050233, 0.5146823870724418, 0.005796905405482048, 0.1602430279943966, 0.025257944981028926, 0.0016562586872805852, 0.9960278554958801, 0.9907382948963119, 0.9974230968671758, 0.9986180500484936, 0.9969266124189023, 0.11369182603575508, 0.4922830632935212, 0.39079975548979345, 0.003052129558006848, 0.9960924452790673, 0.9979784635252831, 0.9968790837888197, 0.989506846115209, 0.8179466557172606, 0.18133263166079913, 0.9993987885496276, 0.7220898217995217, 0.2775033319189309, 0.9984456197962299, 0.9984822138945857, 0.9947211656705538, 0.9143681008650407, 0.9826563502286664, 0.9956904974692671, 0.9991301508856927, 0.9985962168378199, 0.9898930069043032, 0.961213125268632, 0.19010334417377767, 0.6353384868042252, 0.13739883082353035, 0.03670961128872948, 0.9980465271129756, 0.9953331292019916, 0.9976933204215702, 0.8439791626872976, 0.16577533393838892, 0.818607401217885, 0.014670383534370699, 0.9773348840219859, 0.9981848516535605, 0.045836734928597946, 0.3746205328374885, 0.5445266254675546, 0.034463710472630034, 0.44530349022008237, 0.03335606668315224, 0.16066505452384996, 0.18234649786789892, 0.14231921784811621, 0.03613573890674826, 0.9917511611233286, 0.9901311751970099, 0.9987490574359974, 0.9810347344440146, 0.9992431683527407, 0.9876615493230001, 0.996522322279726, 0.9925253980855941, 0.5186225584709601, 0.4805585174822657, 0.9991882122890741, 0.6330982589227879, 0.006972977405530137, 0.3597094551266581, 0.9921026367553167, 0.9969022745702323, 0.9947226345988046, 0.9916986146222267, 0.008213564327083622, 0.9899722250060629, 0.9972709252110666, 0.9907992912317395, 0.16390089749509051, 0.8321122488212287, 0.9990660789062299, 0.9482220418559237, 0.9907398313524775, 0.5319214397687686, 0.4673708799835271, 0.9831045132180771, 0.9987005259713042, 0.9814282036509573, 0.9991893252153847, 0.9994388365713804, 0.991450790256756, 0.9981330604744654, 0.0002969309044484486, 0.7007569344983386, 0.29841555897069083, 0.0002969309044484486, 0.9948058193001715, 0.9902322150978384, 0.9980030474138912, 0.9935083260684859, 0.06030846524037168, 0.9386720799509463, 0.11302791552827918, 0.8861656099110645, 0.9993914984403511, 0.27340231949580224, 0.5233928293395692, 0.20277008020661097, 0.19338493381159422, 0.8043444149685778, 0.9963602862073118, 0.0034694406927130196, 0.9995086987938769, 0.9984922741043869, 0.9941401412999055, 0.9993260480942072, 0.9962531191246877, 0.0015615252650857175, 0.9987691416872359, 0.6634657194137255, 0.3357489960229264, 0.9788023589320624, 0.020837897647282225, 0.006837926328994999, 0.8595273395546713, 0.13265577078250299, 0.9988255992165893, 0.9946674218377682, 0.9835756055027, 0.9929875174483624, 0.9962389290487697, 0.9971948144184261, 0.9961610256494339, 0.5311716232146512, 0.06111703428943133, 0.39949671194067304, 0.007950183322202448, 0.8873761746195445, 0.9983896836666188, 0.2786850091004476, 0.7186217215797706, 0.9949267781650438, 0.9922938665780928, 0.07342949142877964, 0.9137892266692577, 0.9966773783583442, 0.9985082167775163, 0.2713926700017724, 0.5932183564963248, 0.1352235254712664, 0.9869278189999041, 0.9946112513180188, 0.9996760633520796, 0.9939976788952654, 0.9989844827589177, 0.9944683852265319, 0.9966735148650953, 0.5042920181697635, 0.4912315417000845, 0.0032651191174197687, 0.0011259031439378512, 0.9857113617092185, 0.9910531241600736, 0.9984886378439907, 0.9844413094606019, 0.9989574984494293, 0.9988294886868877, 0.996831045622469, 0.9966728465505355, 0.9983117027598473, 0.9089530173484732, 0.9988230809773737, 0.9981966020596671, 0.9892227834779213, 0.9878024709664033, 0.07584316205157655, 0.9213539686265596, 0.9984250323582002, 0.9961264587197084, 0.9988814357903865, 0.8272388982043861, 0.17259057301861386, 0.9130171052219666, 0.08579770669639047, 0.08680079214379975, 0.9117923918114187, 0.9995892214721347, 0.9884723459272297, 0.9921807764033941, 0.9904140133889493, 0.9976587417765183, 0.9975577847284113, 0.039814644587249766, 0.9592551579625759, 0.26221287638937185, 0.09815701699637294, 0.6396335192064115, 0.9843111996982583, 0.9889974277211782, 0.9914856351068231, 0.9969642403597689, 0.99534096937934, 0.9974603467055491, 0.36371606872720424, 0.2642624561846093, 0.2742078174388688, 0.021311488401984623, 0.075300592353679, 0.9909151951962858, 0.9989984584951657, 0.9928261288789685, 0.38418655629220744, 0.6146984900675319, 0.9956306120116306, 0.995974338407807, 0.9990927379818076, 0.20553628385614478, 0.6460476422249134, 0.09634513305756787, 0.051919321703244904, 0.957154857727819, 0.9994001120022973, 0.9916978167393686, 0.9940825204810789, 0.9984700139379056, 0.9853885920597631, 0.9270793613470208, 0.6515837224721449, 0.34779757179732285, 0.9954952027944108, 0.4642822256837395, 0.5315695047683394, 0.8575439150207879, 0.14006550612006202, 0.9992792053619688, 0.9932569511997336, 0.0014485726419794993, 0.998066550323875, 0.9977682500241121, 0.9932808394117646, 0.9749686702891048, 0.9536248945970971, 0.9994855794437671, 0.9895627632799224, 0.5021933417073923, 0.09540348444045446, 0.1788815333258521, 0.22260813036106042, 0.9638701429730482, 0.9910932477984857, 0.9520110781600243, 0.04593539580989261, 0.9923274803743612, 0.0020348327380084828, 0.16583886814769133, 0.590610202206962, 0.2416363876385073, 0.9606239805932155, 0.039035329835705096, 0.994685096994716, 0.20669399087654647, 0.7310521357986536, 0.051914737204286646, 0.01022855417036131, 0.9317647096096173, 0.049516051822694106, 0.018491471635030992, 0.9994984066508108, 0.9963141026855855, 0.9990489343164699, 0.9805800501312661, 0.9875218522141176, 0.9917597348458231, 0.9992076712588507, 0.9964141045196997, 0.5942802931876571, 0.11574871069929529, 0.23615844330594477, 0.05282491495001396, 0.828195777575012, 0.9790174459086611, 0.8817411090597421, 0.11801227665868988, 0.9962418797012542, 0.9993087025038248, 0.9892373261588772, 0.9996759662369012, 0.9453367722210643, 0.9974444536128763, 0.9852981237062438, 0.6985366809382366, 0.30118222598535527, 0.7394128577401258, 0.26049671811744735, 0.9958721399322027, 0.9929467426934723, 0.006809116005351778, 0.9918417253809902, 0.5018666291709913, 0.15188069040701055, 0.2707438394211927, 0.07373917577731672, 0.9731982815282493, 0.02453441045869536, 0.9921707205687965, 0.9988273398743731, 0.9976350506494093, 0.9900699607818005, 0.9946927522578904, 0.40409740511871883, 0.4621864071045347, 0.1338572654455756, 0.25084575981436885, 0.7459360752374653, 0.9969749091480831, 0.9906789533746454, 0.9992490688110913, 0.9982907869740372, 0.801977890115951, 0.10919272942568935, 0.08864695158449198, 0.9970295600059946, 0.9977291279504498, 0.8468092855745066, 0.15243858992798137, 0.9882249259092215, 0.9988692578152046, 0.9980313796037139, 0.9965001979319845, 0.9976494022769806, 0.9992801929874228, 0.9961221351738501, 0.9926189773070461, 0.9708409553458377, 0.8784837605210374, 0.9959094003424467, 0.9807764857341595, 0.14994806557799192, 0.12606684603306795, 0.14539926185514926, 0.5289608900562749, 0.04954946912382181, 0.9244186208356913, 0.07471055664081556, 0.9354973593005347, 0.03273154541988406, 0.9101887437913913, 0.05539184609518841, 0.9829219269178298, 0.999475671405582, 0.9958462318019472, 0.5648253287674075, 0.42361899657555563, 0.9988208126893641, 0.9987016557342377, 0.9984895036817729, 0.931735138904314, 0.06705009878096466, 0.5650044692427904, 0.43375697213823283, 0.9953646405542601, 0.9959511153971914, 0.9700522298070745, 0.8764966354440366, 0.005201143101376909, 0.11816997126328335, 0.9979426043211181, 0.9948426965282277, 0.7096719778874634, 0.2813531628751604, 0.008826765894122679, 0.9983882783713578, 0.9987470035175479, 0.9977220329015202, 0.9284529842480171, 0.07133372267931945, 0.9946862536296001, 0.9987904928567511, 0.9950394863397313, 0.9994002652924295, 0.9978277233888236, 0.9911916614784693, 0.9928989252120237, 0.9981978144688893, 0.9989399001198509, 0.9993658458001377, 0.7293892371617096, 0.0006088390961283051, 0.2646420604504366, 0.005276605499778644, 0.9741292860922717, 0.11723087699316592, 0.7442939534097357, 0.10685105975939602, 0.031139451701309696, 0.23162739172144037, 0.11450822746937551, 0.6537785703854118, 0.7060091026283162, 0.013328433326598247, 0.1434298571414528, 0.0029839776104324434, 0.13408006062876446, 0.5907215904181868, 0.37463512119594966, 0.03196545402695816], \"Term\": [\"absolute\", \"accept\", \"accessible\", \"accomplish\", \"address\", \"address\", \"adequately\", \"agency\", \"agree\", \"agree\", \"alarm\", \"algorithm\", \"also\", \"also\", \"also\", \"also\", \"also\", \"animal\", \"apple\", \"applicable\", \"application\", \"application\", \"apply\", \"apply\", \"appreciate\", \"approval\", \"apr\", \"arab\", \"argument\", \"armenian\", \"article\", \"article\", \"article\", \"associate\", \"assure\", \"atheism\", \"atheist\", \"attack\", \"attack\", \"author\", \"authority\", \"auto\", \"automatically\", \"available\", \"available\", \"available\", \"average\", \"aware\", \"aware\", \"ax\", \"back\", \"bad\", \"belief\", \"believe\", \"bible\", \"big\", \"bike\", \"bio\", \"birth\", \"birthday\", \"bit\", \"bit\", \"bit\", \"black\", \"black\", \"blank\", \"blind\", \"block\", \"block\", \"blue\", \"book\", \"book\", \"box\", \"boy\", \"bug\", \"bus\", \"button\", \"buy\", \"buy\", \"cable\", \"campaign\", \"canadian\", \"cap\", \"capture\", \"car\", \"card\", \"card\", \"carry\", \"carry\", \"carry\", \"case\", \"case\", \"case\", \"case\", \"cbr\", \"cd\", \"center\", \"center\", \"ceremonial\", \"certainly\", \"character\", \"cheap\", \"child\", \"chip\", \"chip\", \"chip\", \"christian\", \"church\", \"circuit\", \"city\", \"claim\", \"clear\", \"click\", \"clipper\", \"clipper_chip\", \"clock\", \"closed\", \"club\", \"code\", \"com\", \"combination\", \"come\", \"come\", \"communication\", \"community\", \"community\", \"complete\", \"complete\", \"complexity\", \"computer\", \"computer\", \"computer_science\", \"concept\", \"conclusion\", \"conclusion\", \"connector\", \"contact\", \"contact\", \"control\", \"control\", \"control\", \"control\", \"control\", \"controller\", \"convert\", \"converter\", \"convince\", \"cool\", \"copy\", \"copy\", \"corner\", \"corporation\", \"correctly\", \"correctly\", \"cost\", \"cost\", \"country\", \"couple\", \"cover\", \"cover\", \"cover\", \"cpu\", \"crash\", \"create\", \"create\", \"create\", \"crew\", \"crime\", \"crypto\", \"cryptography\", \"cure\", \"cycle\", \"danger\", \"daughter\", \"day\", \"day\", \"dealer\", \"dealer\", \"death\", \"deck\", \"defense\", \"defense\", \"deficit\", \"define\", \"define\", \"department\", \"department\", \"dept\", \"depth\", \"describe\", \"describe\", \"describe\", \"description\", \"design\", \"design\", \"design\", \"detailed\", \"deter\", \"development\", \"device\", \"dialog\", \"die\", \"different\", \"different\", \"different\", \"direct\", \"directory\", \"dirty\", \"discount\", \"discussion\", \"disease\", \"disk\", \"display\", \"distribution_inet\", \"distribution_world\", \"distribution_world\", \"divide\", \"division\", \"division\", \"do\", \"do\", \"do\", \"doctor\", \"dog\", \"door\", \"doubt\", \"draft\", \"drive\", \"driver\", \"driver\", \"drug\", \"dual\", \"earth\", \"earth\", \"electronic\", \"email\", \"email\", \"enable\", \"encryption\", \"end\", \"end\", \"energy\", \"engine\", \"enhanced_mode\", \"entry\", \"environment\", \"environment\", \"environmental\", \"escape\", \"essentially\", \"even\", \"even\", \"even\", \"everytime\", \"evidence\", \"evolve\", \"example\", \"example\", \"excuse\", \"exist\", \"exist\", \"expansion\", \"explain\", \"export\", \"exposure\", \"extension\", \"external\", \"facility\", \"fact\", \"fact\", \"fact\", \"factor\", \"faith\", \"family\", \"fan\", \"faq\", \"fast\", \"fast\", \"fast\", \"fax\", \"feature\", \"feature\", \"fee\", \"field\", \"field\", \"field\", \"fight\", \"fight\", \"file\", \"film\", \"final\", \"final\", \"final\", \"fire\", \"fire\", \"firearm\", \"first\", \"first\", \"first\", \"first\", \"fish\", \"flexible\", \"flight\", \"floppy\", \"fly\", \"fly\", \"fly\", \"follow\", \"follow\", \"follow\", \"follow\", \"follow\", \"follower\", \"font\", \"force\", \"format\", \"front\", \"front\", \"fuel\", \"function\", \"function\", \"galaxy\", \"game\", \"gateway\", \"gear\", \"generate\", \"genesis\", \"get\", \"get\", \"giant\", \"gift\", \"girl\", \"girl\", \"give\", \"give\", \"global\", \"gmt\", \"go\", \"goal\", \"god\", \"good\", \"good\", \"good\", \"good_luck\", \"government\", \"government\", \"graphic\", \"great\", \"great\", \"greek\", \"ground\", \"ground\", \"ground\", \"ground\", \"group\", \"group\", \"group\", \"group\", \"group\", \"guess\", \"gun\", \"guy\", \"handgun\", \"handle\", \"hard\", \"hardware\", \"harley\", \"hassle\", \"headache\", \"health\", \"hear\", \"help\", \"help\", \"help\", \"hi\", \"high\", \"high\", \"high\", \"high\", \"high\", \"highway\", \"hit\", \"hit\", \"hole\", \"home\", \"host\", \"however\", \"however\", \"however\", \"hr\", \"human\", \"human\", \"human_being\", \"hunt\", \"ice\", \"ice\", \"ide\", \"ill\", \"image\", \"image\", \"import\", \"impressive\", \"improve\", \"include\", \"include\", \"include\", \"include\", \"increase\", \"increase\", \"increase\", \"indeed\", \"infinity\", \"information\", \"information\", \"information\", \"informed\", \"inhabitant\", \"input\", \"input\", \"instal\", \"instal\", \"insurance\", \"intent\", \"interested\", \"interested\", \"interface\", \"internal\", \"internet\", \"interpretation\", \"intersection\", \"investigation\", \"investment\", \"israeli\", \"issue\", \"issue\", \"issue\", \"issue\", \"japanese\", \"jewish\", \"jewish\", \"judaism\", \"key\", \"keyword\", \"keyword\", \"kill\", \"km\", \"know\", \"know\", \"know\", \"lab\", \"laboratory\", \"land\", \"language\", \"last\", \"last\", \"launch\", \"law\", \"law\", \"leadership\", \"left\", \"lemieux\", \"let\", \"let\", \"level\", \"level\", \"level\", \"library\", \"license\", \"license\", \"life\", \"life\", \"lift\", \"light\", \"light\", \"line\", \"line\", \"little\", \"live\", \"live\", \"live\", \"lock\", \"long\", \"look\", \"look\", \"look\", \"lose\", \"lose\", \"lot\", \"love\", \"low\", \"low\", \"low\", \"low\", \"low\", \"luck\", \"lunar\", \"m\", \"m\", \"mac\", \"machine\", \"mad\", \"mail\", \"mail\", \"make\", \"make\", \"male\", \"malfunction\", \"man\", \"man\", \"man\", \"man\", \"manager\", \"many\", \"many\", \"many\", \"many\", \"mar\", \"master\", \"material\", \"matter\", \"maybe\", \"mean\", \"mean\", \"medical\", \"medicine\", \"meet\", \"meet\", \"member\", \"memory\", \"message\", \"message\", \"message\", \"message\", \"meter\", \"mhz\", \"mile\", \"military\", \"mirror\", \"mirror\", \"mission\", \"mode\", \"model\", \"modem\", \"modify\", \"money\", \"monitor\", \"moon\", \"moral\", \"moral_agency\", \"morality\", \"mother\", \"mother\", \"motif\", \"mouse\", \"move\", \"movie\", \"mph\", \"ms_window\", \"much\", \"much\", \"murder\", \"murder\", \"muslim\", \"national\", \"need\", \"need\", \"need\", \"need\", \"need\", \"new\", \"new\", \"new\", \"new\", \"new\", \"nhl\", \"nntp_poste\", \"noise\", \"normal\", \"northern\", \"notice\", \"number\", \"number\", \"number\", \"number\", \"object\", \"observation\", \"observation\", \"observe\", \"obtain\", \"obtain\", \"occupy\", \"offense\", \"oil\", \"operate\", \"operate\", \"operation\", \"opinions_expresse\", \"oracle\", \"orbit\", \"organization\", \"organization\", \"organization\", \"origin\", \"originator\", \"ozone\", \"package\", \"paint\", \"panel\", \"panel\", \"parent\", \"park\", \"part\", \"part\", \"part\", \"part\", \"part\", \"part\", \"particularly\", \"passage\", \"patient\", \"pc\", \"pen\", \"people\", \"people\", \"people\", \"people\", \"percent\", \"period\", \"pgp\", \"phase\", \"phone\", \"phone\", \"physical\", \"pick\", \"pick\", \"picture\", \"pin\", \"pitch\", \"pitt\", \"plane\", \"planet\", \"play\", \"player\", \"please_respond\", \"plot\", \"point\", \"point\", \"point\", \"point\", \"police\", \"popular\", \"port\", \"portal\", \"position\", \"position\", \"position\", \"positively\", \"possibility\", \"post\", \"post\", \"post\", \"post\", \"power\", \"power\", \"power\", \"power\", \"power\", \"power\", \"pp\", \"presence\", \"pretty\", \"prevention\", \"price\", \"primary\", \"printer\", \"privacy\", \"private\", \"private\", \"probably\", \"problem\", \"problem\", \"problem\", \"proceed\", \"processor\", \"production\", \"program\", \"program\", \"programmer\", \"proof\", \"property\", \"proposal\", \"proposal\", \"prove\", \"provision\", \"pub\", \"public\", \"public\", \"public_access\", \"publish\", \"publisher\", \"purpose\", \"put\", \"qualified\", \"quality\", \"question\", \"question\", \"question\", \"question\", \"quick\", \"radiation\", \"radio\", \"ram\", \"rate\", \"rate\", \"rather\", \"rather\", \"re\", \"read\", \"read\", \"read\", \"reality\", \"reality\", \"really\", \"really\", \"reason\", \"reference\", \"reflect\", \"religion\", \"religious\", \"religious\", \"remember\", \"remove\", \"remove\", \"reply\", \"reply\", \"report\", \"report\", \"report\", \"research\", \"resource\", \"responce\", \"restriction\", \"revelation\", \"ride\", \"rider\", \"right\", \"right\", \"right\", \"right\", \"rip\", \"risk\", \"road\", \"road\", \"rocket\", \"role\", \"routine\", \"routine\", \"rsa\", \"rule\", \"run\", \"run\", \"run\", \"runner\", \"russian\", \"s\", \"sabbath\", \"sale\", \"satellite\", \"saturn\", \"say\", \"say\", \"say\", \"say\", \"sc\", \"scale\", \"scan\", \"scare\", \"school\", \"science\", \"scientific\", \"score\", \"screen\", \"script\", \"scsi\", \"season\", \"second_amendment\", \"secrecy\", \"secret\", \"secret\", \"section\", \"secure\", \"security\", \"see\", \"see\", \"self\", \"self\", \"sell\", \"sell\", \"sense\", \"sensor\", \"serdar_argic\", \"serial\", \"serious\", \"server\", \"service\", \"service\", \"set\", \"set\", \"set\", \"seventh\", \"shareware\", \"shuttle\", \"signal\", \"sister\", \"site\", \"size\", \"size\", \"size\", \"size\", \"size\", \"sky\", \"software\", \"solar\", \"soldier\", \"soldier\", \"solid\", \"somehow\", \"soon\", \"source\", \"source\", \"source\", \"source\", \"soviet_union\", \"space\", \"space_station\", \"spacecraft\", \"speak\", \"spec\", \"spectrum\", \"speed\", \"speed\", \"split\", \"sport\", \"sport\", \"star\", \"star\", \"start\", \"stat\", \"state\", \"state\", \"statement\", \"status\", \"stereo\", \"steve\", \"still\", \"strip\", \"study\", \"study\", \"study\", \"study\", \"subscription\", \"sufficient\", \"suggest\", \"suggest\", \"suitable\", \"support\", \"support\", \"support\", \"support\", \"sure\", \"sure\", \"surface\", \"system\", \"system\", \"system\", \"system\", \"take\", \"take\", \"take\", \"talk\", \"tap\", \"tape\", \"tavare\", \"tc\", \"teaching\", \"team\", \"technical\", \"technology\", \"technology\", \"technology\", \"technology\", \"tel_fax\", \"television\", \"tell\", \"tell\", \"terrorism\", \"test\", \"testing\", \"thank\", \"theft\", \"therefore\", \"thermal\", \"thing\", \"thing\", \"think\", \"think\", \"though\", \"time\", \"time\", \"tire\", \"today\", \"today\", \"today\", \"today\", \"top\", \"top\", \"tour\", \"trade\", \"transfer\", \"translate\", \"travel\", \"treat\", \"treat\", \"treat\", \"treatment\", \"treatment\", \"trial\", \"trivial\", \"true\", \"truth\", \"try\", \"try\", \"try\", \"turk\", \"turkish\", \"type\", \"type\", \"typically\", \"understand\", \"unit\", \"united_state\", \"universe\", \"university\", \"unix\", \"unknown\", \"unnecessary\", \"upcoming\", \"upgrade\", \"upper\", \"use\", \"use\", \"use\", \"use\", \"use\", \"user\", \"user\", \"user_interface\", \"value\", \"value\", \"value\", \"variation\", \"ve\", \"vehicle\", \"vendor\", \"vendor\", \"version\", \"version_pl\", \"video\", \"view\", \"view\", \"village\", \"village\", \"violate\", \"violence\", \"visualization\", \"want\", \"want\", \"want\", \"war\", \"warrant\", \"way\", \"way\", \"way\", \"weapon\", \"week\", \"weight\", \"well\", \"well\", \"widget\", \"win\", \"wind\", \"window\", \"wing\", \"wiretap\", \"wiring\", \"withdraw\", \"woman\", \"word\", \"work\", \"work\", \"work\", \"work\", \"workshop\", \"world\", \"world\", \"world\", \"world\", \"write\", \"write\", \"write\", \"year\", \"year\", \"year\", \"year\", \"year\", \"young\", \"young\", \"young\"]}, \"R\": 30, \"lambda.step\": 0.01, \"plot.opts\": {\"xlab\": \"PC1\", \"ylab\": \"PC2\"}, \"topic.order\": [19, 4, 12, 7, 14, 11, 1, 10, 2, 20, 17, 5, 3, 6, 9, 18, 16, 8, 15, 13]};\n",
       "\n",
       "function LDAvis_load_lib(url, callback){\n",
       "  var s = document.createElement('script');\n",
       "  s.src = url;\n",
       "  s.async = true;\n",
       "  s.onreadystatechange = s.onload = callback;\n",
       "  s.onerror = function(){console.warn(\"failed to load library \" + url);};\n",
       "  document.getElementsByTagName(\"head\")[0].appendChild(s);\n",
       "}\n",
       "\n",
       "if(typeof(LDAvis) !== \"undefined\"){\n",
       "   // already loaded: just create the visualization\n",
       "   !function(LDAvis){\n",
       "       new LDAvis(\"#\" + \"ldavis_el1691624361485446729595266986\", ldavis_el1691624361485446729595266986_data);\n",
       "   }(LDAvis);\n",
       "}else if(typeof define === \"function\" && define.amd){\n",
       "   // require.js is available: use it to load d3/LDAvis\n",
       "   require.config({paths: {d3: \"https://d3js.org/d3.v5\"}});\n",
       "   require([\"d3\"], function(d3){\n",
       "      window.d3 = d3;\n",
       "      LDAvis_load_lib(\"https://cdn.jsdelivr.net/gh/bmabey/pyLDAvis@3.4.0/pyLDAvis/js/ldavis.v3.0.0.js\", function(){\n",
       "        new LDAvis(\"#\" + \"ldavis_el1691624361485446729595266986\", ldavis_el1691624361485446729595266986_data);\n",
       "      });\n",
       "    });\n",
       "}else{\n",
       "    // require.js not available: dynamically load d3 & LDAvis\n",
       "    LDAvis_load_lib(\"https://d3js.org/d3.v5.js\", function(){\n",
       "         LDAvis_load_lib(\"https://cdn.jsdelivr.net/gh/bmabey/pyLDAvis@3.4.0/pyLDAvis/js/ldavis.v3.0.0.js\", function(){\n",
       "                 new LDAvis(\"#\" + \"ldavis_el1691624361485446729595266986\", ldavis_el1691624361485446729595266986_data);\n",
       "            })\n",
       "         });\n",
       "}\n",
       "</script>"
      ],
      "text/plain": [
       "PreparedData(topic_coordinates=              x         y  topics  cluster       Freq\n",
       "topic                                                \n",
       "18     0.336525 -0.053714       1        1  34.413842\n",
       "3      0.316929 -0.118907       2        1  15.585665\n",
       "11     0.216785  0.285241       3        1   9.181617\n",
       "6      0.247091  0.167003       4        1   9.110746\n",
       "13     0.184110 -0.279646       5        1   7.614233\n",
       "10    -0.019302  0.039641       6        1   5.391939\n",
       "0      0.153915  0.027982       7        1   5.120626\n",
       "9     -0.008549 -0.117693       8        1   2.140495\n",
       "1      0.006923 -0.062096       9        1   2.065615\n",
       "19     0.038372  0.069508      10        1   1.847953\n",
       "16    -0.037562  0.037037      11        1   1.732312\n",
       "4     -0.046036 -0.038088      12        1   1.606860\n",
       "2     -0.081906  0.028035      13        1   1.237492\n",
       "5     -0.118578  0.023845      14        1   1.144284\n",
       "8     -0.162684  0.013117      15        1   0.619224\n",
       "17    -0.175944 -0.007821      16        1   0.433673\n",
       "15    -0.204259 -0.001779      17        1   0.294853\n",
       "7     -0.212202 -0.003264      18        1   0.200450\n",
       "14    -0.214082 -0.003633      19        1   0.158955\n",
       "12    -0.219547 -0.004768      20        1   0.099166, topic_info=              Term          Freq         Total Category  logprob  loglift\n",
       "4399            ax  53235.000000  53235.000000  Default  30.0000  30.0000\n",
       "17            line  17060.000000  17060.000000  Default  29.0000  29.0000\n",
       "208          write  13405.000000  13405.000000  Default  28.0000  28.0000\n",
       "142   organization   9429.000000   9429.000000  Default  27.0000  27.0000\n",
       "45         article   9896.000000   9896.000000  Default  26.0000  26.0000\n",
       "...            ...           ...           ...      ...      ...      ...\n",
       "4946            tv      0.020348      1.258241  Topic20 -11.0492   2.7917\n",
       "6485   advertising      0.020348      1.258227  Topic20 -11.0492   2.7917\n",
       "7775          logo      0.020348      1.258225  Topic20 -11.0492   2.7917\n",
       "7567        circle      0.020348      1.258226  Topic20 -11.0492   2.7917\n",
       "4391             _      0.020348      1.258251  Topic20 -11.0492   2.7916\n",
       "\n",
       "[871 rows x 6 columns], token_table=      Topic      Freq        Term\n",
       "term                             \n",
       "495       9  0.990580    absolute\n",
       "1354      2  0.999138      accept\n",
       "1277     15  0.843121  accessible\n",
       "2283      6  0.995016  accomplish\n",
       "183       1  0.170685     address\n",
       "...     ...       ...         ...\n",
       "40        8  0.002984        year\n",
       "40        9  0.134080        year\n",
       "614       1  0.590722       young\n",
       "614       8  0.374635       young\n",
       "614       9  0.031965       young\n",
       "\n",
       "[1018 rows x 3 columns], R=30, lambda_step=0.01, plot_opts={'xlab': 'PC1', 'ylab': 'PC2'}, topic_order=[19, 4, 12, 7, 14, 11, 1, 10, 2, 20, 17, 5, 3, 6, 9, 18, 16, 8, 15, 13])"
      ]
     },
     "execution_count": 19,
     "metadata": {},
     "output_type": "execute_result"
    }
   ],
   "source": [
    "# Visualize the topics\n",
    "pyLDAvis.enable_notebook()\n",
    "vis = pyLDAvis.gensim_models.prepare(lda_model, corpus, id2word)\n",
    "vis"
   ]
  }
 ],
 "metadata": {
  "kernelspec": {
   "display_name": "topic_modeling_env",
   "language": "python",
   "name": "python3"
  },
  "language_info": {
   "codemirror_mode": {
    "name": "ipython",
    "version": 3
   },
   "file_extension": ".py",
   "mimetype": "text/x-python",
   "name": "python",
   "nbconvert_exporter": "python",
   "pygments_lexer": "ipython3",
   "version": "3.11.3"
  },
  "orig_nbformat": 4
 },
 "nbformat": 4,
 "nbformat_minor": 2
}
